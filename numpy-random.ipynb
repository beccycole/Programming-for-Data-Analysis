{
 "cells": [
  {
   "cell_type": "markdown",
   "metadata": {},
   "source": [
    "# The numpy.random package\n",
    "\n",
    "Numpy.random is a submodule of the Python Numpy lirary. This submodule is a tool for creating random numbers, which can be used for simulating data. The Mersenne Twister algorithm in numpy.random is used to generate pseudorandom numbers."
   ]
  },
  {
   "cell_type": "markdown",
   "metadata": {},
   "source": [
    "## Simple Random Data\n",
    "\n",
    "There are a number of simple random data functions included in the numpy.random module which can be used for creating random numbers of varying types. In this section I will explain the following four simple random data functions using examples and graphs:\n",
    "\n",
    "- numpy.random.rand\n",
    "- numpy.random.randn\n",
    "- numpy.random.randint\n",
    "- numpy.random.choice"
   ]
  },
  {
   "cell_type": "markdown",
   "metadata": {},
   "source": [
    "### numpy.random.rand\n",
    "\n",
    "Creates a random array of positive floating point numbers in a given shape. The output values are in the interval [0,1). The square bracket informs us that it can return zero and the round bracket tells us that it can never return 1. This function represents a uniform distribution which means the numbers are equally spread out over the interval of [0, 1)."
   ]
  },
  {
   "cell_type": "code",
   "execution_count": 131,
   "metadata": {},
   "outputs": [],
   "source": [
    "# import numpy library\n",
    "import numpy as np"
   ]
  },
  {
   "cell_type": "code",
   "execution_count": 132,
   "metadata": {},
   "outputs": [
    {
     "data": {
      "text/plain": [
       "array([[0.69220124, 0.20502597],\n",
       "       [0.9196615 , 0.11159468],\n",
       "       [0.74831166, 0.4551678 ],\n",
       "       [0.91022081, 0.67998954]])"
      ]
     },
     "execution_count": 132,
     "metadata": {},
     "output_type": "execute_result"
    }
   ],
   "source": [
    "# create an array of random numbers with 4 rows and 2 columns\n",
    "np.random.rand(4,2)"
   ]
  },
  {
   "cell_type": "code",
   "execution_count": 133,
   "metadata": {},
   "outputs": [
    {
     "data": {
      "text/plain": [
       "array([0.67994942, 0.16298265, 0.50926034, 0.12692057, 0.25740681,\n",
       "       0.30843295, 0.36295422, 0.66840952, 0.4491064 , 0.34384478])"
      ]
     },
     "execution_count": 133,
     "metadata": {},
     "output_type": "execute_result"
    }
   ],
   "source": [
    "# create an array of 10 random numbers \n",
    "np.random.rand(10)"
   ]
  },
  {
   "cell_type": "code",
   "execution_count": 134,
   "metadata": {},
   "outputs": [],
   "source": [
    "# import matplotlib library\n",
    "import matplotlib.pyplot as plt"
   ]
  },
  {
   "cell_type": "code",
   "execution_count": 135,
   "metadata": {},
   "outputs": [],
   "source": [
    "# create an array of 100 random numbers\n",
    "x = np.random.rand(100)"
   ]
  },
  {
   "cell_type": "code",
   "execution_count": 136,
   "metadata": {},
   "outputs": [
    {
     "data": {
      "text/plain": [
       "array([0.39718026, 0.39441982, 0.75857388, 0.81546904, 0.63650299,\n",
       "       0.80812387, 0.95553663, 0.4846096 , 0.79920061, 0.7931383 ,\n",
       "       0.80409318, 0.79015088, 0.74514832, 0.05873687, 0.12146692,\n",
       "       0.32368825, 0.16439688, 0.59851526, 0.95189564, 0.62201983,\n",
       "       0.61698012, 0.20701749, 0.7180131 , 0.36657657, 0.91230383,\n",
       "       0.48436778, 0.51884565, 0.48150799, 0.31241815, 0.27654443,\n",
       "       0.82610546, 0.88683129, 0.51617247, 0.98204749, 0.98093673,\n",
       "       0.40908035, 0.61012766, 0.67037978, 0.02880212, 0.38548141,\n",
       "       0.32440486, 0.01100205, 0.03173398, 0.44928124, 0.33867867,\n",
       "       0.80956756, 0.19526459, 0.073583  , 0.70128176, 0.82875288,\n",
       "       0.3012036 , 0.58111464, 0.29452707, 0.65080473, 0.29279615,\n",
       "       0.77108762, 0.10223238, 0.93635328, 0.2721016 , 0.13507769,\n",
       "       0.28774768, 0.23415103, 0.70467074, 0.73261274, 0.24653572,\n",
       "       0.46016502, 0.04406219, 0.58507023, 0.29559646, 0.10476606,\n",
       "       0.37048616, 0.30873428, 0.00638622, 0.51263697, 0.15728207,\n",
       "       0.06315564, 0.63190411, 0.78635964, 0.81339896, 0.14568863,\n",
       "       0.69313149, 0.055283  , 0.44075212, 0.3654662 , 0.67935496,\n",
       "       0.21543122, 0.99217601, 0.536637  , 0.94457739, 0.51424498,\n",
       "       0.61831988, 0.09803118, 0.50671909, 0.29303987, 0.74357257,\n",
       "       0.77711007, 0.02695616, 0.95282291, 0.20282746, 0.18420282])"
      ]
     },
     "execution_count": 136,
     "metadata": {},
     "output_type": "execute_result"
    }
   ],
   "source": [
    "x"
   ]
  },
  {
   "cell_type": "code",
   "execution_count": 137,
   "metadata": {},
   "outputs": [
    {
     "data": {
      "text/plain": [
       "(array([13.,  8., 12., 11.,  7.,  8., 11., 12.,  9.,  9.]),\n",
       " array([0.00638622, 0.1049652 , 0.20354418, 0.30212316, 0.40070214,\n",
       "        0.49928112, 0.5978601 , 0.69643908, 0.79501806, 0.89359703,\n",
       "        0.99217601]),\n",
       " <a list of 10 Patch objects>)"
      ]
     },
     "execution_count": 137,
     "metadata": {},
     "output_type": "execute_result"
    },
    {
     "data": {
      "image/png": "[encoded data removed]",
      "text/plain": [
       "<Figure size 432x288 with 1 Axes>"
      ]
     },
     "metadata": {
      "needs_background": "light"
     },
     "output_type": "display_data"
    }
   ],
   "source": [
    "# plot a histogram of the x values generating randomly by the np.random.rand function\n",
    "plt.hist(x)"
   ]
  },
  {
   "cell_type": "markdown",
   "metadata": {},
   "source": [
    "### numpy.random.rand histogram\n",
    "\n",
    "The histogram shows a uniform distributions where the random numbers are equally spread over the interval [0, 1)."
   ]
  },
  {
   "cell_type": "markdown",
   "metadata": {},
   "source": [
    "### numpy.random.randn\n",
    "\n",
    "Creates a random array of floating point numbers which represent a normal distribution. The values are described by two numbers - the mean and the standard deviation. The mean value is zero and the variance is 1."
   ]
  },
  {
   "cell_type": "code",
   "execution_count": 138,
   "metadata": {},
   "outputs": [],
   "source": [
    "# create an array of 100 floating point numbers\n",
    "x = np.random.randn(100)"
   ]
  },
  {
   "cell_type": "code",
   "execution_count": 139,
   "metadata": {},
   "outputs": [
    {
     "data": {
      "text/plain": [
       "(array([ 3.,  3.,  8., 24., 18., 18., 12.,  6.,  5.,  3.]),\n",
       " array([-2.6087805 , -2.07109743, -1.53341435, -0.99573128, -0.4580482 ,\n",
       "         0.07963487,  0.61731795,  1.15500102,  1.6926841 ,  2.23036717,\n",
       "         2.76805025]),\n",
       " <a list of 10 Patch objects>)"
      ]
     },
     "execution_count": 139,
     "metadata": {},
     "output_type": "execute_result"
    },
    {
     "data": {
      "image/png": "[encoded data removed]",
      "text/plain": [
       "<Figure size 432x288 with 1 Axes>"
      ]
     },
     "metadata": {
      "needs_background": "light"
     },
     "output_type": "display_data"
    }
   ],
   "source": [
    "# plot a histogram of the x values generating randomly by the np.random.randn function\n",
    "plt.hist(x)"
   ]
  },
  {
   "cell_type": "markdown",
   "metadata": {},
   "source": [
    "### numpy.random.randn histogram\n",
    "\n",
    "The histogram shows a normal distribution where the numbers are centred around the mean of zero and the variance is 1. This is known as the bell shaped curve."
   ]
  },
  {
   "cell_type": "markdown",
   "metadata": {},
   "source": [
    "### numpy.random.randint\n",
    "\n",
    "Creates random integers from low (inclusive) to high (exclusive). "
   ]
  },
  {
   "cell_type": "code",
   "execution_count": 140,
   "metadata": {},
   "outputs": [],
   "source": [
    "# use the random.randint function to pick a number between 1 and 6\n",
    "x = np.random.randint(1, 6)"
   ]
  },
  {
   "cell_type": "code",
   "execution_count": 141,
   "metadata": {},
   "outputs": [
    {
     "data": {
      "text/plain": [
       "4"
      ]
     },
     "execution_count": 141,
     "metadata": {},
     "output_type": "execute_result"
    }
   ],
   "source": [
    "x"
   ]
  },
  {
   "cell_type": "markdown",
   "metadata": {},
   "source": [
    "### numpy.random.choice\n",
    "\n",
    "The choice function can be used to select a random value from a given list of values. The values can be numbers or strings."
   ]
  },
  {
   "cell_type": "code",
   "execution_count": 142,
   "metadata": {},
   "outputs": [],
   "source": [
    "# use the random.choice function to randomly select a piece of fruit\n",
    "fruit = ['Apple', 'Banana', 'Pear']\n",
    "x = np.random.choice(fruit)"
   ]
  },
  {
   "cell_type": "code",
   "execution_count": 143,
   "metadata": {},
   "outputs": [
    {
     "data": {
      "text/plain": [
       "'Apple'"
      ]
     },
     "execution_count": 143,
     "metadata": {},
     "output_type": "execute_result"
    }
   ],
   "source": [
    "x"
   ]
  },
  {
   "cell_type": "markdown",
   "metadata": {},
   "source": [
    "The numpy.random.choice function can be used for a wide range of examples. The Python documentation uses an example whereby the colours on a roulette are used in a list and picked at random or another example I've seen whilst researching this function is the rock, paper and scissors game."
   ]
  },
  {
   "cell_type": "markdown",
   "metadata": {},
   "source": [
    "## Distributions"
   ]
  },
  {
   "cell_type": "markdown",
   "metadata": {},
   "source": [
    "### numpy.random.uniform\n",
    "Returns a random array of numbers of any value."
   ]
  },
  {
   "cell_type": "code",
   "execution_count": 144,
   "metadata": {},
   "outputs": [],
   "source": [
    "# create an array where x >= 9, x <= 20 with 100 elements.\n",
    "x = np.random.uniform(9,20,100)"
   ]
  },
  {
   "cell_type": "code",
   "execution_count": 145,
   "metadata": {},
   "outputs": [
    {
     "data": {
      "text/plain": [
       "array([12.26183936, 11.67571898, 19.10498503, 10.49608887, 10.08921649,\n",
       "       11.709173  ,  9.08194748,  9.25932564, 18.41333561, 17.16742748,\n",
       "       13.74242679, 17.23441223, 12.07240981, 18.33386193, 19.53571245,\n",
       "       12.94308626, 11.42997558, 18.57554442, 12.42577055, 10.84071466,\n",
       "       13.34939695, 16.90520763, 13.00117581, 17.08797715, 18.46017672,\n",
       "        9.86574628,  9.71420984, 19.35129604, 15.5644872 , 11.63827235,\n",
       "       18.35414319, 14.92889249, 14.77419654, 17.35663543, 10.60073942,\n",
       "       15.20229929, 11.61851654, 10.51018327, 14.29856763, 19.40662601,\n",
       "       13.26439157, 12.1109075 , 17.20287669, 12.75543019, 13.07408551,\n",
       "        9.68173424, 14.29010135, 17.5949829 , 11.11206002, 12.11565004,\n",
       "       18.67665288, 12.49632502, 16.18048676, 13.6875214 , 19.71777459,\n",
       "        9.95590307, 18.2869674 , 18.64750197, 18.0850428 , 11.75775508,\n",
       "       12.71984677, 11.81474761, 12.92913716, 11.21224599, 18.61012763,\n",
       "       18.95833242, 17.49418733,  9.64152221, 12.4525367 , 14.04577749,\n",
       "       19.91204212, 18.45491688, 12.17818598, 12.70665094,  9.14288397,\n",
       "       11.69448417,  9.39172815, 13.0523043 ,  9.03827254, 16.64541125,\n",
       "       19.74749987, 10.84332707, 16.93268598, 17.61583318, 16.2512334 ,\n",
       "       14.95502924, 14.14805226, 11.04653034, 17.30886438, 13.71281722,\n",
       "       17.13136981, 16.41224766, 19.35794072,  9.72947217, 13.25143274,\n",
       "       16.94648699,  9.17410863, 11.44759413, 17.92154001, 12.89848635])"
      ]
     },
     "execution_count": 145,
     "metadata": {},
     "output_type": "execute_result"
    }
   ],
   "source": [
    "x"
   ]
  },
  {
   "cell_type": "code",
   "execution_count": 146,
   "metadata": {},
   "outputs": [
    {
     "data": {
      "text/plain": [
       "(array([13.,  8., 14., 15.,  7.,  4.,  5., 13., 12.,  9.]),\n",
       " array([ 9.03827254, 10.12564949, 11.21302645, 12.30040341, 13.38778037,\n",
       "        14.47515733, 15.56253429, 16.64991124, 17.7372882 , 18.82466516,\n",
       "        19.91204212]),\n",
       " <a list of 10 Patch objects>)"
      ]
     },
     "execution_count": 146,
     "metadata": {},
     "output_type": "execute_result"
    },
    {
     "data": {
      "image/png": "[encoded data removed]",
      "text/plain": [
       "<Figure size 432x288 with 1 Axes>"
      ]
     },
     "metadata": {
      "needs_background": "light"
     },
     "output_type": "display_data"
    }
   ],
   "source": [
    "# plot a histogram for the function np.random.uniform with 10 bins\n",
    "plt.hist(x)"
   ]
  },
  {
   "cell_type": "markdown",
   "metadata": {},
   "source": [
    "### Verify the low value, high value and number of elements in the array"
   ]
  },
  {
   "cell_type": "code",
   "execution_count": 147,
   "metadata": {},
   "outputs": [
    {
     "data": {
      "text/plain": [
       "True"
      ]
     },
     "execution_count": 147,
     "metadata": {},
     "output_type": "execute_result"
    }
   ],
   "source": [
    "np.all(x >= 9)"
   ]
  },
  {
   "cell_type": "code",
   "execution_count": 148,
   "metadata": {},
   "outputs": [
    {
     "data": {
      "text/plain": [
       "True"
      ]
     },
     "execution_count": 148,
     "metadata": {},
     "output_type": "execute_result"
    }
   ],
   "source": [
    "np.all(x <= 20)"
   ]
  },
  {
   "cell_type": "code",
   "execution_count": 149,
   "metadata": {},
   "outputs": [
    {
     "data": {
      "text/plain": [
       "('Size of the array: ', 100)"
      ]
     },
     "execution_count": 149,
     "metadata": {},
     "output_type": "execute_result"
    }
   ],
   "source": [
    "(\"Size of the array: \", x.size)"
   ]
  },
  {
   "cell_type": "markdown",
   "metadata": {},
   "source": [
    "### numpy.random.normal\n",
    "Returns a random array of numbers where x is centred around zero (mean), has a standard deviation or spread of 0.1 and 100 elements. This produces a bell shaped curve."
   ]
  },
  {
   "cell_type": "code",
   "execution_count": 150,
   "metadata": {},
   "outputs": [],
   "source": [
    "x = np.random.normal(0, 0.1, 100)"
   ]
  },
  {
   "cell_type": "code",
   "execution_count": 151,
   "metadata": {},
   "outputs": [
    {
     "data": {
      "text/plain": [
       "array([-8.63785837e-02,  9.42433129e-02, -2.17881157e-01, -2.57084820e-02,\n",
       "        6.85174190e-02, -6.89420927e-02,  5.75237313e-02,  1.62983848e-01,\n",
       "        7.58505018e-02, -1.35738306e-01,  2.44292459e-02,  1.55255627e-01,\n",
       "        1.09728408e-01, -2.64697318e-02, -9.17444940e-02, -1.87094169e-01,\n",
       "       -4.51222968e-02, -1.24420251e-01,  1.19216868e-01,  1.10179460e-01,\n",
       "       -1.14347726e-01,  3.91326791e-02, -1.29562317e-01,  2.97862785e-02,\n",
       "        8.83119010e-05, -8.22935922e-03, -3.90528999e-02,  2.75100066e-02,\n",
       "        1.52996458e-01, -1.02096598e-01, -6.15402813e-03,  2.38875652e-02,\n",
       "       -2.00156459e-02, -6.73906230e-02, -7.20065570e-02, -9.53202370e-02,\n",
       "       -1.75904439e-01,  5.68279144e-02,  9.00459313e-03, -7.18990979e-02,\n",
       "       -5.18107771e-02,  5.27441728e-02,  1.44945110e-01,  3.80434140e-02,\n",
       "        1.26241375e-01,  7.51448586e-02, -4.30382437e-02, -6.77579848e-02,\n",
       "       -4.28939242e-02,  3.95564433e-02, -4.68297917e-02, -3.87795251e-02,\n",
       "        5.37575892e-02, -3.35938205e-02, -6.38217754e-02, -2.72992379e-01,\n",
       "       -4.09710153e-02,  6.79720418e-03, -8.58652769e-02,  2.38087902e-01,\n",
       "        7.48089846e-03, -3.51186428e-02,  2.19739246e-01, -5.79254471e-02,\n",
       "        6.24045758e-02,  1.21460761e-01,  8.80367173e-02, -7.19351738e-02,\n",
       "       -1.29978467e-01, -6.75555101e-02, -1.46017060e-01, -1.26545634e-03,\n",
       "       -1.50355839e-02,  3.73755933e-02,  7.59737300e-02, -9.86410169e-02,\n",
       "       -9.33051596e-02, -8.65611450e-02,  1.68595009e-01, -3.51842909e-02,\n",
       "       -1.23622194e-01,  7.14939222e-02, -7.06255239e-02, -3.10214126e-03,\n",
       "        5.65283613e-02,  3.89767843e-02, -4.22947321e-02, -1.03756746e-01,\n",
       "       -1.15492523e-01, -8.31047797e-02, -3.95329911e-02, -9.77060927e-02,\n",
       "       -1.06197340e-01,  1.01675313e-02,  2.01537351e-01, -6.77755638e-02,\n",
       "        2.89819281e-02,  9.53773144e-02,  1.23689844e-01, -2.20964066e-02])"
      ]
     },
     "execution_count": 151,
     "metadata": {},
     "output_type": "execute_result"
    }
   ],
   "source": [
    "x"
   ]
  },
  {
   "cell_type": "code",
   "execution_count": 152,
   "metadata": {},
   "outputs": [
    {
     "data": {
      "text/plain": [
       "(array([ 1.,  3.,  6., 19., 23., 15., 16.,  9.,  5.,  3.]),\n",
       " array([-0.27299238, -0.22188435, -0.17077632, -0.1196683 , -0.06856027,\n",
       "        -0.01745224,  0.03365579,  0.08476382,  0.13587185,  0.18697987,\n",
       "         0.2380879 ]),\n",
       " <a list of 10 Patch objects>)"
      ]
     },
     "execution_count": 152,
     "metadata": {},
     "output_type": "execute_result"
    },
    {
     "data": {
      "image/png": "[encoded data removed]",
      "text/plain": [
       "<Figure size 432x288 with 1 Axes>"
      ]
     },
     "metadata": {
      "needs_background": "light"
     },
     "output_type": "display_data"
    }
   ],
   "source": [
    "plt.hist(x)"
   ]
  },
  {
   "cell_type": "markdown",
   "metadata": {},
   "source": [
    "### Verify the mean and variance"
   ]
  },
  {
   "cell_type": "code",
   "execution_count": 153,
   "metadata": {},
   "outputs": [
    {
     "data": {
      "text/plain": [
       "True"
      ]
     },
     "execution_count": 153,
     "metadata": {},
     "output_type": "execute_result"
    }
   ],
   "source": [
    "abs(0 - np.mean(x)) < 0.1"
   ]
  },
  {
   "cell_type": "code",
   "execution_count": 154,
   "metadata": {},
   "outputs": [
    {
     "data": {
      "text/plain": [
       "True"
      ]
     },
     "execution_count": 154,
     "metadata": {},
     "output_type": "execute_result"
    }
   ],
   "source": [
    "abs(0.1 - np.std(x, ddof=1)) < 0.1"
   ]
  },
  {
   "cell_type": "markdown",
   "metadata": {},
   "source": [
    "## Permutations Functions"
   ]
  },
  {
   "cell_type": "markdown",
   "metadata": {},
   "source": [
    "### numpy.random.shuffle\n",
    "Modifies an array of numbers by shuffling it's elements."
   ]
  },
  {
   "cell_type": "code",
   "execution_count": 155,
   "metadata": {},
   "outputs": [],
   "source": [
    "# create a list of 6 numbers from 0 to 5\n",
    "x = np.arange(6)"
   ]
  },
  {
   "cell_type": "code",
   "execution_count": 156,
   "metadata": {},
   "outputs": [
    {
     "data": {
      "text/plain": [
       "array([0, 1, 2, 3, 4, 5])"
      ]
     },
     "execution_count": 156,
     "metadata": {},
     "output_type": "execute_result"
    }
   ],
   "source": [
    "x"
   ]
  },
  {
   "cell_type": "code",
   "execution_count": 157,
   "metadata": {},
   "outputs": [],
   "source": [
    "# modify the list of 6 numbers\n",
    "np.random.shuffle(x)"
   ]
  },
  {
   "cell_type": "code",
   "execution_count": 158,
   "metadata": {},
   "outputs": [
    {
     "data": {
      "text/plain": [
       "array([1, 0, 2, 3, 4, 5])"
      ]
     },
     "execution_count": 158,
     "metadata": {},
     "output_type": "execute_result"
    }
   ],
   "source": [
    "x"
   ]
  },
  {
   "cell_type": "markdown",
   "metadata": {},
   "source": [
    "### numpy.random.permutation\n",
    "Alters the order of an array of numbers"
   ]
  },
  {
   "cell_type": "code",
   "execution_count": 159,
   "metadata": {},
   "outputs": [],
   "source": [
    "# create a list of 9 numbers from 0 to 8\n",
    "x = np.arange(9)"
   ]
  },
  {
   "cell_type": "code",
   "execution_count": 160,
   "metadata": {},
   "outputs": [
    {
     "data": {
      "text/plain": [
       "array([0, 1, 2, 3, 4, 5, 6, 7, 8])"
      ]
     },
     "execution_count": 160,
     "metadata": {},
     "output_type": "execute_result"
    }
   ],
   "source": [
    "x"
   ]
  },
  {
   "cell_type": "code",
   "execution_count": 161,
   "metadata": {},
   "outputs": [
    {
     "data": {
      "text/plain": [
       "array([0, 8, 5, 4, 3, 1, 6, 2, 7])"
      ]
     },
     "execution_count": 161,
     "metadata": {},
     "output_type": "execute_result"
    }
   ],
   "source": [
    "# alter the order of the list of 9 numbers\n",
    "np.random.permutation(x)"
   ]
  },
  {
   "cell_type": "markdown",
   "metadata": {},
   "source": [
    "The difference between the numpy.random.shuffle function and the numpy.random.permutation function is ......"
   ]
  },
  {
   "cell_type": "markdown",
   "metadata": {},
   "source": [
    "## Random Generator and Seeds"
   ]
  },
  {
   "cell_type": "markdown",
   "metadata": {},
   "source": [
    "## References\n",
    "\n",
    "https://docs.scipy.org/doc/numpy/\n",
    "\n",
    "\n",
    "https://realpython.com/python-random/"
   ]
  }
 ],
 "metadata": {
  "kernelspec": {
   "display_name": "Python 3",
   "language": "python",
   "name": "python3"
  },
  "language_info": {
   "codemirror_mode": {
    "name": "ipython",
    "version": 3
   },
   "file_extension": ".py",
   "mimetype": "text/x-python",
   "name": "python",
   "nbconvert_exporter": "python",
   "pygments_lexer": "ipython3",
   "version": "3.7.0"
  }
 },
 "nbformat": 4,
 "nbformat_minor": 2
}
