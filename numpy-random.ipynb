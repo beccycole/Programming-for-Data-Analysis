{
 "cells": [
  {
   "cell_type": "markdown",
   "metadata": {},
   "source": [
    "# The numpy.random package\n",
    "\n",
    "Numpy.random is a submodule of the Python library called Numpy. This submodule is a tool for creating random numbers, which can be used for simulating data. The Mersenne Twister algorithm in numpy.random is used to generate pseudorandom numbers. The Mersenne Twister is one of the most extensively tested random number generators in existence."
   ]
  },
  {
   "cell_type": "markdown",
   "metadata": {},
   "source": [
    "## Simple Random Data\n",
    "\n",
    "There are a number of simple random data functions included in the numpy.random module which can be used for creating random numbers of varying types. In this section I will explain the following four simple random data functions using examples and graphs:\n",
    "\n",
    "- numpy.random.rand\n",
    "- numpy.random.randn\n",
    "- numpy.random.randint\n",
    "- numpy.random.choice"
   ]
  },
  {
   "cell_type": "markdown",
   "metadata": {},
   "source": [
    "### numpy.random.rand\n",
    "\n",
    "Creates a random array of positive floating point numbers in a given shape. The output values are in the interval [0,1). The square bracket informs us that it can return zero and the round bracket tells us that it can never return 1. This function represents a uniform distribution which means the numbers are equally spread out over the interval of [0, 1)."
   ]
  },
  {
   "cell_type": "code",
   "execution_count": 2,
   "metadata": {},
   "outputs": [],
   "source": [
    "# import numpy library\n",
    "import numpy as np"
   ]
  },
  {
   "cell_type": "code",
   "execution_count": 3,
   "metadata": {},
   "outputs": [
    {
     "data": {
      "text/plain": [
       "array([[0.44327373, 0.19816504],\n",
       "       [0.51279763, 0.87741743],\n",
       "       [0.67696215, 0.05168079],\n",
       "       [0.25616805, 0.48310336]])"
      ]
     },
     "execution_count": 3,
     "metadata": {},
     "output_type": "execute_result"
    }
   ],
   "source": [
    "# create an array of random numbers with 4 rows and 2 columns\n",
    "np.random.rand(4,2)"
   ]
  },
  {
   "cell_type": "code",
   "execution_count": 4,
   "metadata": {},
   "outputs": [
    {
     "data": {
      "text/plain": [
       "array([0.62697243, 0.08785006, 0.01434902, 0.0147072 , 0.52293201,\n",
       "       0.04994195, 0.04430415, 0.7704818 , 0.52299897, 0.12225082])"
      ]
     },
     "execution_count": 4,
     "metadata": {},
     "output_type": "execute_result"
    }
   ],
   "source": [
    "# create an array of 10 random numbers \n",
    "np.random.rand(10)"
   ]
  },
  {
   "cell_type": "code",
   "execution_count": 5,
   "metadata": {},
   "outputs": [],
   "source": [
    "# import matplotlib library\n",
    "import matplotlib.pyplot as plt"
   ]
  },
  {
   "cell_type": "code",
   "execution_count": 6,
   "metadata": {},
   "outputs": [],
   "source": [
    "# create an array of 100 random numbers\n",
    "x = np.random.rand(100)"
   ]
  },
  {
   "cell_type": "code",
   "execution_count": 7,
   "metadata": {},
   "outputs": [
    {
     "data": {
      "text/plain": [
       "array([0.94575996, 0.75014537, 0.43107376, 0.06954476, 0.70510235,\n",
       "       0.02087246, 0.72862499, 0.39468437, 0.93573041, 0.57539662,\n",
       "       0.16506292, 0.59009937, 0.3862345 , 0.44628433, 0.40937604,\n",
       "       0.12383095, 0.24159286, 0.19439072, 0.66037224, 0.11589655,\n",
       "       0.58896792, 0.11882165, 0.89622399, 0.55313411, 0.70090952,\n",
       "       0.11838162, 0.15316301, 0.84889856, 0.61705259, 0.65125835,\n",
       "       0.45413791, 0.52421101, 0.42093604, 0.78850903, 0.83390313,\n",
       "       0.61180775, 0.86040723, 0.12089121, 0.2416848 , 0.93800164,\n",
       "       0.07139494, 0.61137212, 0.31656691, 0.64039591, 0.15636649,\n",
       "       0.1763936 , 0.17416185, 0.95558982, 0.34276993, 0.00238032,\n",
       "       0.38160891, 0.6713446 , 0.83642865, 0.23895768, 0.47160736,\n",
       "       0.52673597, 0.96174425, 0.41883808, 0.03438744, 0.52622739,\n",
       "       0.93155746, 0.21011638, 0.53125122, 0.59193519, 0.92342564,\n",
       "       0.63579436, 0.47430286, 0.76501105, 0.86697437, 0.89099982,\n",
       "       0.899513  , 0.31504851, 0.72117623, 0.8272774 , 0.4617436 ,\n",
       "       0.46675601, 0.69033778, 0.10223448, 0.51853026, 0.56794196,\n",
       "       0.64202815, 0.49775124, 0.69141599, 0.63551017, 0.42608236,\n",
       "       0.64505386, 0.24655726, 0.76704635, 0.29187636, 0.01537496,\n",
       "       0.49166106, 0.58328241, 0.36863239, 0.03989052, 0.50263097,\n",
       "       0.52883716, 0.41902422, 0.47397312, 0.46835069, 0.59250901])"
      ]
     },
     "execution_count": 7,
     "metadata": {},
     "output_type": "execute_result"
    }
   ],
   "source": [
    "x"
   ]
  },
  {
   "cell_type": "code",
   "execution_count": 8,
   "metadata": {},
   "outputs": [
    {
     "data": {
      "text/plain": [
       "(array([ 7., 11.,  6.,  6., 16., 12., 16.,  9.,  6., 11.]),\n",
       " array([0.00238032, 0.09831672, 0.19425311, 0.2901895 , 0.38612589,\n",
       "        0.48206229, 0.57799868, 0.67393507, 0.76987146, 0.86580785,\n",
       "        0.96174425]),\n",
       " <a list of 10 Patch objects>)"
      ]
     },
     "execution_count": 8,
     "metadata": {},
     "output_type": "execute_result"
    },
    {
     "data": {
      "image/png": "[encoded data removed]",
      "text/plain": [
       "<Figure size 432x288 with 1 Axes>"
      ]
     },
     "metadata": {
      "needs_background": "light"
     },
     "output_type": "display_data"
    }
   ],
   "source": [
    "# plot a histogram of the x values generated randomly by the np.random.rand(100) function\n",
    "plt.hist(x)"
   ]
  },
  {
   "cell_type": "markdown",
   "metadata": {},
   "source": [
    "#### numpy.random.rand histogram\n",
    "\n",
    "The histogram above shows a uniform distribution where the random numbers are equally spread over the interval [0, 1)."
   ]
  },
  {
   "cell_type": "markdown",
   "metadata": {},
   "source": [
    "### numpy.random.randn\n",
    "\n",
    "Creates a random array of floating point numbers which represent a normal distribution. The values are described by two numbers - the mean and the variance. The mean value is zero and the variance is 1."
   ]
  },
  {
   "cell_type": "code",
   "execution_count": 9,
   "metadata": {},
   "outputs": [],
   "source": [
    "# create an array of 200 floating point numbers\n",
    "x = np.random.randn(200)"
   ]
  },
  {
   "cell_type": "code",
   "execution_count": 10,
   "metadata": {
    "scrolled": true
   },
   "outputs": [
    {
     "data": {
      "text/plain": [
       "array([ 0.26580416, -0.67443152, -0.17379411,  0.44075903, -1.29353273,\n",
       "        1.93410543, -0.17636955, -2.90973521,  0.8888773 ,  0.51923521,\n",
       "        3.05115661, -1.54357594,  0.24610476, -1.02978871, -0.25121834,\n",
       "       -0.5854444 , -1.27920649, -0.14710617, -1.71703269, -0.25355635,\n",
       "        0.00496681, -1.25614949, -0.6557591 , -1.13389282, -0.92012115,\n",
       "        0.34433869, -1.57422331,  1.78841693, -0.05772231,  0.09439545,\n",
       "       -1.05691655,  0.18899044, -0.0187784 ,  0.84554396,  1.74672735,\n",
       "       -0.76604177, -0.74428449, -0.79190742,  0.23582424,  1.24451532,\n",
       "       -0.91926994,  0.17083218,  0.13024064,  0.01681797, -0.52775356,\n",
       "       -0.06483602, -1.30256427, -0.488652  ,  0.3050173 , -0.924071  ,\n",
       "        0.15935756,  1.31663532, -0.62354306, -0.16123014, -0.30189485,\n",
       "        0.50785536,  0.05942569,  0.1376713 ,  1.43762   , -0.41130352,\n",
       "       -0.68382029, -0.20960959, -0.2818681 , -1.36472466,  0.30215189,\n",
       "        0.5444699 ,  0.33158806, -0.19581366, -1.8547901 ,  1.57083367,\n",
       "        1.60807693, -0.29795113,  0.35629535,  3.60837656, -0.87074498,\n",
       "       -1.33124153, -1.67654194, -0.16989272,  1.19130612, -0.2146195 ,\n",
       "        0.51385625,  1.12904087, -1.82176638, -1.35719832,  0.94686665,\n",
       "        1.15032193,  0.33069781,  0.78828356,  1.60901119, -1.17067932,\n",
       "       -0.50949831, -0.25428836,  0.5756745 ,  0.48889331, -1.03904346,\n",
       "       -0.79568418,  1.96270958,  0.47046814, -0.6815306 , -0.50139956,\n",
       "        0.45093305,  0.34202757, -1.19387916,  0.60756823, -0.03235743,\n",
       "       -1.39658498,  0.78284265, -0.97029386,  2.12463516,  0.10356357,\n",
       "       -1.15267826,  1.09168588, -1.17050098, -0.2524458 , -0.86960991,\n",
       "        0.94797967,  0.28059033,  0.44186935, -1.5154589 ,  0.2376127 ,\n",
       "        1.07874031,  0.08335105,  1.07657734, -1.43548468,  1.11065343,\n",
       "        0.94923823,  1.86521971,  1.04862509, -0.64213964,  1.23716157,\n",
       "        0.38336474,  1.01443903, -2.40295686,  0.62088334, -0.94417569,\n",
       "        0.79005318,  0.96922653, -0.34934661, -1.69671394, -0.56445043,\n",
       "        0.11721011, -1.41771246, -0.18866922,  0.30543093,  1.46197734,\n",
       "       -0.47762179,  0.23376742,  1.93960396,  1.18348819,  0.96760071,\n",
       "        0.50888782, -0.83366351, -1.19415785,  1.61060811,  0.23784166,\n",
       "       -0.68125426, -0.09302062,  1.29753793, -0.1240524 ,  0.41124196,\n",
       "        1.47497611,  0.60965389, -0.26419642,  0.76498499,  0.04773535,\n",
       "       -1.3344223 ,  0.66277258,  0.23592667, -0.87163794, -0.31881665,\n",
       "        0.55684224,  0.02755146,  0.72456303,  0.14552416, -1.01698352,\n",
       "       -0.063374  ,  0.44256533,  1.23450541,  0.70434609,  0.20967317,\n",
       "       -0.43553993, -1.15486487, -1.70372655, -0.54803368, -0.34167919,\n",
       "        0.80097419,  0.39388559, -0.33840141,  0.30526306, -1.40321504,\n",
       "        1.57548617,  1.21913545, -0.41370541, -1.08149251,  0.46493431,\n",
       "       -0.96362502,  0.01426808, -0.37386955,  0.02342704,  0.33819692])"
      ]
     },
     "execution_count": 10,
     "metadata": {},
     "output_type": "execute_result"
    }
   ],
   "source": [
    "x"
   ]
  },
  {
   "cell_type": "code",
   "execution_count": 11,
   "metadata": {},
   "outputs": [
    {
     "data": {
      "text/plain": [
       "(array([ 2.,  6., 29., 35., 59., 36., 24.,  7.,  0.,  2.]),\n",
       " array([-2.90973521, -2.25792404, -1.60611286, -0.95430168, -0.30249051,\n",
       "         0.34932067,  1.00113185,  1.65294303,  2.3047542 ,  2.95656538,\n",
       "         3.60837656]),\n",
       " <a list of 10 Patch objects>)"
      ]
     },
     "execution_count": 11,
     "metadata": {},
     "output_type": "execute_result"
    },
    {
     "data": {
      "image/png": "[encoded data removed]",
      "text/plain": [
       "<Figure size 432x288 with 1 Axes>"
      ]
     },
     "metadata": {
      "needs_background": "light"
     },
     "output_type": "display_data"
    }
   ],
   "source": [
    "# plot a histogram of the x values generating randomly by the np.random.randn function\n",
    "plt.hist(x)"
   ]
  },
  {
   "cell_type": "markdown",
   "metadata": {},
   "source": [
    "#### numpy.random.randn histogram\n",
    "\n",
    "The histogram shows a normal distribution where the numbers are centred around the mean of zero and the variance is 1. This is known as the bell shaped curve. When I first created an array using the numpy.random.randn function I only used a sample size of 50. This lower sample size did not represent the bell shaped curve as well as i expected so I increased the sample size to 200 which produced a better shape as shown above."
   ]
  },
  {
   "cell_type": "markdown",
   "metadata": {},
   "source": [
    "### numpy.random.randint\n",
    "\n",
    "This function creates a random integer N where a <= N <= b. The randint function accepts two parameters a lowest number and a highest number."
   ]
  },
  {
   "cell_type": "code",
   "execution_count": 12,
   "metadata": {},
   "outputs": [],
   "source": [
    "# use the random.randint function to pick an integer between 1 and 6\n",
    "x = np.random.randint(1, 6)"
   ]
  },
  {
   "cell_type": "code",
   "execution_count": 13,
   "metadata": {},
   "outputs": [
    {
     "data": {
      "text/plain": [
       "2"
      ]
     },
     "execution_count": 13,
     "metadata": {},
     "output_type": "execute_result"
    }
   ],
   "source": [
    "x"
   ]
  },
  {
   "cell_type": "markdown",
   "metadata": {},
   "source": [
    "### numpy.random.choice\n",
    "\n",
    "The choice function can be used to select a random element from a given list. The elements can be numbers or strings."
   ]
  },
  {
   "cell_type": "code",
   "execution_count": 14,
   "metadata": {},
   "outputs": [],
   "source": [
    "# use the random.choice function to randomly select a piece of fruit\n",
    "fruit = ['Apple', 'Banana', 'Pear']\n",
    "x = np.random.choice(fruit)"
   ]
  },
  {
   "cell_type": "code",
   "execution_count": 15,
   "metadata": {},
   "outputs": [
    {
     "data": {
      "text/plain": [
       "'Pear'"
      ]
     },
     "execution_count": 15,
     "metadata": {},
     "output_type": "execute_result"
    }
   ],
   "source": [
    "x"
   ]
  },
  {
   "cell_type": "code",
   "execution_count": 16,
   "metadata": {},
   "outputs": [],
   "source": [
    "# use the random.choice function to randomly select a number\n",
    "numbers = [1, 2, 3, 4]\n",
    "x = np.random.choice(numbers)"
   ]
  },
  {
   "cell_type": "code",
   "execution_count": 17,
   "metadata": {},
   "outputs": [
    {
     "data": {
      "text/plain": [
       "1"
      ]
     },
     "execution_count": 17,
     "metadata": {},
     "output_type": "execute_result"
    }
   ],
   "source": [
    "x"
   ]
  },
  {
   "cell_type": "markdown",
   "metadata": {},
   "source": [
    "The numpy.random.choice function can be used for a wide range of examples. The Python documentation uses an example whereby the colours on a roulette are provided as a list and picked at random or another example I've seen whilst researching this function online is the rock, paper, scissors game."
   ]
  },
  {
   "cell_type": "markdown",
   "metadata": {},
   "source": [
    "## Distributions\n",
    "\n",
    "There are a number of distribution functions included in the numpy.random module. In this section I will explain the following five distribution functions using examples and graphs:\n",
    "\n",
    "- numpy.random.uniform\n",
    "- numpy.random.normal\n",
    "- numpy.random.poisson\n",
    "- numpy.random.chisquare\n",
    "- numpy.random.binomial"
   ]
  },
  {
   "cell_type": "markdown",
   "metadata": {},
   "source": [
    "### numpy.random.uniform\n",
    "\n",
    "Returns a random array of numbers with a uniform distribution, where the output interval [low, high) includes the low value but excludes the high value."
   ]
  },
  {
   "cell_type": "code",
   "execution_count": 18,
   "metadata": {},
   "outputs": [],
   "source": [
    "# create an array where x >= 0, x < 5 with 100 elements.\n",
    "x = np.random.uniform(0,5,100)"
   ]
  },
  {
   "cell_type": "code",
   "execution_count": 19,
   "metadata": {
    "scrolled": false
   },
   "outputs": [
    {
     "data": {
      "text/plain": [
       "array([1.4694304 , 2.00934586, 3.39463344, 1.3887738 , 2.5757521 ,\n",
       "       0.84142057, 1.71640498, 0.36607882, 3.93149399, 1.37443806,\n",
       "       2.87638781, 2.12176088, 3.49908137, 0.71141783, 3.41094532,\n",
       "       2.74697738, 2.32978573, 2.01792043, 1.17908803, 4.63114991,\n",
       "       1.00180562, 0.89893338, 3.65164431, 1.34401667, 1.10883233,\n",
       "       1.77245308, 4.97001775, 1.40166109, 3.73613859, 0.85045449,\n",
       "       0.88924504, 3.20894125, 3.98717321, 1.26007776, 1.46121254,\n",
       "       4.18667635, 0.35357813, 0.61779499, 4.03230692, 4.06949431,\n",
       "       1.37946424, 4.11461533, 4.93433519, 2.52992181, 1.13186986,\n",
       "       0.11622098, 0.89799693, 4.74214172, 1.81067213, 3.72197276,\n",
       "       2.13212399, 4.67131928, 0.71848569, 3.19205702, 3.50286281,\n",
       "       1.75390305, 2.57459058, 4.56041446, 4.42504893, 0.97623184,\n",
       "       2.91727583, 0.77121097, 1.22745185, 2.47800075, 1.36193851,\n",
       "       3.71447326, 4.44578906, 4.3939051 , 0.53487082, 4.39780059,\n",
       "       3.87926228, 1.61924629, 2.15625699, 1.389696  , 3.17726134,\n",
       "       4.00422743, 2.59451489, 0.92879411, 1.06398154, 1.63911542,\n",
       "       0.56874934, 4.16820275, 0.02165105, 3.25406443, 0.71837402,\n",
       "       3.60385573, 0.56457159, 0.2992601 , 1.77268326, 2.03231911,\n",
       "       2.27236291, 2.09986419, 0.89182295, 3.87109071, 3.82543698,\n",
       "       4.18580797, 0.37197959, 3.12303944, 3.58015629, 3.24908185])"
      ]
     },
     "execution_count": 19,
     "metadata": {},
     "output_type": "execute_result"
    }
   ],
   "source": [
    "x"
   ]
  },
  {
   "cell_type": "code",
   "execution_count": 20,
   "metadata": {},
   "outputs": [
    {
     "data": {
      "text/plain": [
       "(array([ 2.,  4.,  7., 10.,  5., 10.,  3.,  4.,  7.,  3.,  4.,  3.,  4.,\n",
       "         4.,  7.,  5.,  8.,  4.,  3.,  3.]),\n",
       " array([0.02165105, 0.26906939, 0.51648772, 0.76390606, 1.01132439,\n",
       "        1.25874273, 1.50616106, 1.7535794 , 2.00099773, 2.24841607,\n",
       "        2.4958344 , 2.74325274, 2.99067107, 3.23808941, 3.48550774,\n",
       "        3.73292608, 3.98034441, 4.22776275, 4.47518108, 4.72259942,\n",
       "        4.97001775]),\n",
       " <a list of 20 Patch objects>)"
      ]
     },
     "execution_count": 20,
     "metadata": {},
     "output_type": "execute_result"
    },
    {
     "data": {
      "image/png": "[encoded data removed]",
      "text/plain": [
       "<Figure size 432x288 with 1 Axes>"
      ]
     },
     "metadata": {
      "needs_background": "light"
     },
     "output_type": "display_data"
    }
   ],
   "source": [
    "# plot a histogram for the function np.random.uniform with 20 bins\n",
    "plt.hist(x, bins=20)"
   ]
  },
  {
   "cell_type": "markdown",
   "metadata": {},
   "source": [
    "### Verify the low value, high value and number of elements in the array"
   ]
  },
  {
   "cell_type": "code",
   "execution_count": 21,
   "metadata": {},
   "outputs": [
    {
     "data": {
      "text/plain": [
       "True"
      ]
     },
     "execution_count": 21,
     "metadata": {},
     "output_type": "execute_result"
    }
   ],
   "source": [
    "np.all(x >= 0)"
   ]
  },
  {
   "cell_type": "code",
   "execution_count": 22,
   "metadata": {},
   "outputs": [
    {
     "data": {
      "text/plain": [
       "True"
      ]
     },
     "execution_count": 22,
     "metadata": {},
     "output_type": "execute_result"
    }
   ],
   "source": [
    "np.all(x < 5)"
   ]
  },
  {
   "cell_type": "code",
   "execution_count": 23,
   "metadata": {},
   "outputs": [
    {
     "data": {
      "text/plain": [
       "('Size of the array: ', 100)"
      ]
     },
     "execution_count": 23,
     "metadata": {},
     "output_type": "execute_result"
    }
   ],
   "source": [
    "(\"Size of the array: \", x.size)"
   ]
  },
  {
   "cell_type": "markdown",
   "metadata": {},
   "source": [
    "### numpy.random.normal\n",
    "\n",
    "The numpy.random.normal function returns a random array of numbers which are defined by two numbers, the mean and the standard deviation. This function produces a normal distribution also known as the bell shaped curve. The bell shaped curve peaks at its mean and the standard deviation describes how wide or narrow the curve is."
   ]
  },
  {
   "cell_type": "code",
   "execution_count": 24,
   "metadata": {},
   "outputs": [],
   "source": [
    "# create an array centred around zero, standard deviation or spread of 0.2 and 200 elements\n",
    "x = np.random.normal(0, 0.2, 200)"
   ]
  },
  {
   "cell_type": "code",
   "execution_count": 25,
   "metadata": {
    "scrolled": true
   },
   "outputs": [
    {
     "data": {
      "text/plain": [
       "array([ 0.13626295, -0.40726883, -0.18331048, -0.30705898,  0.1483712 ,\n",
       "       -0.02977336, -0.21792726, -0.14575498,  0.23835112, -0.14275797,\n",
       "        0.27677204,  0.1848185 ,  0.05499   , -0.59946137, -0.05288813,\n",
       "        0.04887387, -0.19804794,  0.00201059, -0.44937641, -0.10360412,\n",
       "        0.12270187, -0.14872883,  0.09052539,  0.04616854,  0.17682764,\n",
       "        0.27204563,  0.18339513, -0.02746656,  0.11501231,  0.11068601,\n",
       "       -0.28589663, -0.03347066, -0.12115521,  0.25716397, -0.18500494,\n",
       "       -0.23976622,  0.03625258,  0.30775166, -0.10624654,  0.39089976,\n",
       "       -0.00778933,  0.08125404, -0.0104989 ,  0.03067238, -0.25676856,\n",
       "        0.4100849 ,  0.39564905,  0.07018134,  0.04943153,  0.10354204,\n",
       "        0.18657389,  0.16820043,  0.13390337, -0.18906215, -0.11668206,\n",
       "        0.14247322, -0.31014442, -0.14218381,  0.17952302,  0.00812781,\n",
       "        0.10113137,  0.13198021,  0.08737608, -0.02475131, -0.16175491,\n",
       "       -0.11640994,  0.11680243,  0.30579905,  0.24894296,  0.27788651,\n",
       "        0.20484191, -0.31058201,  0.20769045,  0.17758823, -0.28487228,\n",
       "       -0.38710074, -0.04155368, -0.10925451,  0.45680601,  0.3519211 ,\n",
       "       -0.24841027,  0.07626364,  0.10006231,  0.06092043,  0.08555242,\n",
       "        0.04496118,  0.05677582,  0.10180927,  0.20268881,  0.30505181,\n",
       "       -0.13730144,  0.08255249, -0.16845912,  0.16054518, -0.04189877,\n",
       "       -0.19033107,  0.02965796,  0.02803361, -0.0105534 , -0.06644207,\n",
       "       -0.19963786, -0.01829594,  0.30048065, -0.101004  , -0.17951094,\n",
       "       -0.22856065, -0.05943804, -0.16119261, -0.08671613,  0.03456686,\n",
       "       -0.33676009,  0.14513674, -0.21264278, -0.08915215,  0.44189254,\n",
       "       -0.21051208,  0.13196998, -0.33775403, -0.41511689,  0.41273588,\n",
       "       -0.20894134, -0.31486983,  0.06913101,  0.3387778 ,  0.21518385,\n",
       "       -0.22722867, -0.21098053,  0.23670763, -0.22632724,  0.40760725,\n",
       "        0.27191369,  0.05885218,  0.12728409, -0.03020569, -0.02839591,\n",
       "        0.15661228,  0.15458147,  0.13606123, -0.05753883,  0.33159298,\n",
       "        0.0799925 ,  0.50750403, -0.04345314, -0.18425002, -0.15330283,\n",
       "       -0.07600488, -0.03003691, -0.32171785,  0.0110144 , -0.14466978,\n",
       "       -0.21648137,  0.12134994,  0.19737175,  0.09223785, -0.03617451,\n",
       "        0.12156379,  0.30465518,  0.3051763 , -0.19566502, -0.02397939,\n",
       "       -0.01264702, -0.16650065,  0.03482553,  0.06183407,  0.26513231,\n",
       "       -0.29650454,  0.22644499,  0.07466737, -0.00151187, -0.12581187,\n",
       "        0.04726818,  0.24202524, -0.03500896, -0.31018046,  0.11958134,\n",
       "        0.24077552, -0.07734561, -0.04529343, -0.20848865, -0.10688311,\n",
       "        0.20752231, -0.45507135,  0.06896017,  0.02963239,  0.08966743,\n",
       "        0.17197716, -0.0513861 , -0.36186524, -0.08523095,  0.43570571,\n",
       "        0.34451485,  0.13335861,  0.13185145, -0.29134873,  0.23823689,\n",
       "        0.01548686, -0.00453484, -0.29961137, -0.35972393, -0.02585418])"
      ]
     },
     "execution_count": 25,
     "metadata": {},
     "output_type": "execute_result"
    }
   ],
   "source": [
    "x"
   ]
  },
  {
   "cell_type": "code",
   "execution_count": 26,
   "metadata": {},
   "outputs": [
    {
     "data": {
      "text/plain": [
       "(array([ 1.,  5., 15., 26., 26., 43., 40., 25., 12.,  7.]),\n",
       " array([-0.59946137, -0.48876483, -0.37806829, -0.26737175, -0.15667521,\n",
       "        -0.04597867,  0.06471787,  0.17541441,  0.28611095,  0.39680749,\n",
       "         0.50750403]),\n",
       " <a list of 10 Patch objects>)"
      ]
     },
     "execution_count": 26,
     "metadata": {},
     "output_type": "execute_result"
    },
    {
     "data": {
      "image/png": "[encoded data removed]",
      "text/plain": [
       "<Figure size 432x288 with 1 Axes>"
      ]
     },
     "metadata": {
      "needs_background": "light"
     },
     "output_type": "display_data"
    }
   ],
   "source": [
    "plt.hist(x)"
   ]
  },
  {
   "cell_type": "markdown",
   "metadata": {},
   "source": [
    "The histogram shows a bell shaped curve centred around 0 and a spread of 0.2."
   ]
  },
  {
   "cell_type": "markdown",
   "metadata": {},
   "source": [
    "### Verify the mean and variance"
   ]
  },
  {
   "cell_type": "code",
   "execution_count": 27,
   "metadata": {},
   "outputs": [
    {
     "data": {
      "text/plain": [
       "True"
      ]
     },
     "execution_count": 27,
     "metadata": {},
     "output_type": "execute_result"
    }
   ],
   "source": [
    "abs(0 - np.mean(x)) < 0.2"
   ]
  },
  {
   "cell_type": "code",
   "execution_count": 28,
   "metadata": {},
   "outputs": [
    {
     "data": {
      "text/plain": [
       "True"
      ]
     },
     "execution_count": 28,
     "metadata": {},
     "output_type": "execute_result"
    }
   ],
   "source": [
    "abs(0.2 - np.std(x, ddof=1)) < 0.2"
   ]
  },
  {
   "cell_type": "markdown",
   "metadata": {},
   "source": [
    "## numpy.random.poisson\n",
    "\n",
    "The numpy.random.poisson function draws samples from a poisson distribution. The poisson distribution is a discrete probability distribution where each event is independent of the last event. The poisson distribution is useful for measuring the number of times an event occurs within a particular time interval.\n"
   ]
  },
  {
   "cell_type": "code",
   "execution_count": 59,
   "metadata": {},
   "outputs": [],
   "source": [
    "# create an array of 1000 elements with an interval of 5\n",
    "x = np.random.poisson(5, size=1000)"
   ]
  },
  {
   "cell_type": "code",
   "execution_count": 52,
   "metadata": {
    "scrolled": true
   },
   "outputs": [
    {
     "data": {
      "text/plain": [
       "array([ 7,  4,  4,  9,  9,  4,  8,  8,  4,  8,  5,  6,  7,  5,  4,  6,  4,\n",
       "        8,  7,  3,  6,  4,  4,  5,  6,  7,  3,  3,  6,  6,  7,  3, 10,  5,\n",
       "        2,  4,  4,  3,  9,  4,  2, 11,  7, 12,  2,  4,  6,  7,  6,  2,  4,\n",
       "        5,  8,  7,  5,  6,  3,  6, 10,  4,  0,  4,  5,  2,  3,  6,  6,  1,\n",
       "        2,  7,  4,  1,  7,  7,  2,  3,  5,  4,  3,  4,  4,  5,  3,  9,  5,\n",
       "        5,  2,  6,  7,  6,  1,  6, 10,  5,  8,  1,  4,  5,  5, 11,  7,  9,\n",
       "        5,  7,  3,  5,  3,  2,  2,  4,  6,  2,  8,  6,  1,  4,  5,  2,  2,\n",
       "        8,  6,  6,  6,  7,  5,  1,  4,  5,  6,  3,  7,  7,  6,  4,  4,  9,\n",
       "        7,  4, 10,  5,  3,  2,  9,  9,  4,  5,  7,  4,  6,  7,  3,  4,  3,\n",
       "        5,  2,  7,  3,  5, 10,  4,  8,  3,  4,  7,  3,  2,  6,  5,  4,  5,\n",
       "        5,  4,  6,  3,  7,  2,  5,  5,  4,  6, 10,  2,  6,  2,  4,  6,  3,\n",
       "        8,  3,  1,  4,  6,  7,  8,  2,  3,  4,  8,  3,  6,  5,  3,  4,  4,\n",
       "        7,  4,  3,  6,  8,  6,  4,  5,  7,  2,  7,  7, 12, 12,  2,  5, 11,\n",
       "        4,  3,  6,  5,  1,  6,  3,  4,  3,  3, 13,  4,  5,  3,  6,  7,  5,\n",
       "        9,  4,  3,  9,  4,  0,  2, 10, 12,  5,  7,  9,  5,  6,  6,  4, 10,\n",
       "        2,  7,  4,  6,  4,  5,  9,  4,  4,  3,  5,  7,  7,  3,  3,  6,  4,\n",
       "        5,  5,  5,  3,  2,  5,  2,  2,  4,  8,  6,  8,  3,  2,  1,  4,  5,\n",
       "        7,  5,  0,  6,  3,  4,  5,  7,  4, 12,  2,  9,  5,  3,  6,  7,  3,\n",
       "        8,  2,  2,  4,  5,  3,  4,  5,  9,  2,  5,  7,  7,  5,  5,  4,  6,\n",
       "        6,  5,  6,  2,  4,  5,  2,  7, 10,  6,  7,  4,  9,  3,  5,  5, 10,\n",
       "        1,  4,  7,  6,  3,  5,  2,  3,  7,  9,  5,  4,  4,  8,  3,  8,  3,\n",
       "        3,  3,  3,  4,  9,  3,  5,  4,  3,  8,  5,  8,  6,  8,  5,  5,  5,\n",
       "        3,  4,  1,  6,  3,  6,  5,  4,  7,  8,  4,  5,  2,  8,  3,  2,  5,\n",
       "        9,  2,  8,  5, 11,  2,  5,  6,  5,  4,  6, 10,  3,  3,  6,  5,  4,\n",
       "        1,  1,  5,  7,  4,  6,  7,  5,  2, 10,  2,  2,  5,  2,  9,  5,  3,\n",
       "        5,  5,  3,  5,  4,  3,  3,  4,  8,  7,  4,  3,  3,  8,  7,  6,  5,\n",
       "        3,  4,  9,  4,  5,  8, 10,  6,  2,  3,  6,  3,  4,  5,  3,  2,  4,\n",
       "        4,  1,  3,  4,  4,  0,  4,  9,  5,  4,  7,  1,  6,  8,  2,  2,  3,\n",
       "        5,  1,  4,  3,  8,  2,  3,  3,  9,  4,  3,  2,  6,  8,  4,  6,  5,\n",
       "        6,  6,  6,  5,  5,  5,  8,  5,  5,  6,  5,  5,  7,  4,  6,  1,  2,\n",
       "        4,  6,  4,  4,  4,  4,  5,  6,  8,  2,  6,  8,  3,  6,  7,  3,  1,\n",
       "       10,  2,  8,  4,  9,  6,  4,  5,  4,  4,  5,  6,  3,  3,  8,  5,  4,\n",
       "        7,  8,  3,  7,  5,  5,  7,  8,  4,  5,  8,  3,  3,  4,  5,  3,  7,\n",
       "        5,  4,  3,  4,  7,  8, 10,  8,  5,  6,  3,  2,  6, 10,  6,  4,  5,\n",
       "        6,  5,  8,  6,  5,  5,  3,  6,  4,  4,  2,  9,  9,  5,  2,  7,  7,\n",
       "        6,  5,  4,  4,  8, 12,  2,  4,  7,  3,  4,  5,  0,  5,  7,  9,  5,\n",
       "        8,  6,  5,  7,  6,  4,  5,  3,  4,  4,  5,  2,  9,  6,  4,  2,  6,\n",
       "        6,  3,  5,  5,  5,  9,  5,  6,  9,  7,  7,  6,  9,  6,  4,  4,  4,\n",
       "        9,  6,  4,  6,  4,  4,  5,  6,  4,  3, 10, 12,  4,  7,  8,  4,  3,\n",
       "        4,  5,  3,  5,  9,  4,  2,  6,  2,  1,  2,  5,  6,  6,  5,  6,  2,\n",
       "        4,  4,  3,  3,  3,  5,  4,  7,  5,  5,  4,  6,  4,  6,  2, 10,  4,\n",
       "        7,  4,  6,  5,  6,  3,  1,  5,  6,  4,  4,  3,  6,  4,  3,  5,  4,\n",
       "        6,  3,  6,  3,  5,  5,  2,  6,  8,  7,  7,  3,  4,  4,  5,  5,  4,\n",
       "        6,  2,  0,  6,  4,  5,  3,  3,  4,  3, 10,  4,  4,  6,  7,  4,  5,\n",
       "        7,  4,  8,  5,  2,  9,  5,  8,  7,  5,  3,  4,  3,  4,  9,  6,  3,\n",
       "        5, 12,  5,  4,  4,  5,  5,  3,  3,  4,  5,  6,  9,  5,  7,  4,  3,\n",
       "        3,  8,  7,  3,  3,  7,  7,  5,  5,  4,  3,  6,  3,  2,  6,  5,  1,\n",
       "        6,  3,  4,  6,  5,  7,  4,  5,  9,  5,  4,  6,  8,  5,  7,  6,  8,\n",
       "        7,  4,  2,  5,  4,  5,  3,  4,  4,  5,  4,  6,  2,  4,  4,  6,  6,\n",
       "        3,  4,  5,  3,  4,  2,  5,  8,  5,  5,  3,  6,  8,  6,  2,  3,  7,\n",
       "       12,  6,  4,  7,  3,  5,  2,  2, 10,  2,  3,  7,  7,  5,  4,  2,  8,\n",
       "        3,  8,  6,  3,  4,  4,  9,  6,  4,  3,  6,  6,  6,  5,  4,  5,  6,\n",
       "        6,  2,  5,  1,  4,  3,  5,  6,  7,  3,  4,  2,  9,  5,  5,  0,  3,\n",
       "        7,  4,  6, 12,  2,  3,  5,  6,  4,  6,  3,  8,  4,  5,  4,  3,  5,\n",
       "        6,  5,  5,  2,  1,  3,  5,  5,  3,  4,  4,  4,  4,  7,  2,  8,  1,\n",
       "        6,  5,  7, 10,  7,  6,  4,  8,  7,  8,  2,  8,  6,  6,  5,  9,  5,\n",
       "        6,  8,  7, 11,  6,  5,  1,  4,  7, 11,  5,  7,  5, 10,  3,  4,  1,\n",
       "        5,  8, 10,  3,  0,  6,  6,  2,  3,  2,  3,  8,  7,  5,  7,  3,  7,\n",
       "        6,  3,  9,  4,  4,  3,  4,  7,  5,  8,  8,  2,  2,  0])"
      ]
     },
     "execution_count": 52,
     "metadata": {},
     "output_type": "execute_result"
    }
   ],
   "source": [
    "x"
   ]
  },
  {
   "cell_type": "code",
   "execution_count": 53,
   "metadata": {},
   "outputs": [
    {
     "data": {
      "text/plain": [
       "(array([ 35.,  85., 138., 364., 140.,  94., 104.,  23.,   6.,  11.]),\n",
       " array([ 0. ,  1.3,  2.6,  3.9,  5.2,  6.5,  7.8,  9.1, 10.4, 11.7, 13. ]),\n",
       " <a list of 10 Patch objects>)"
      ]
     },
     "execution_count": 53,
     "metadata": {},
     "output_type": "execute_result"
    },
    {
     "data": {
      "image/png": "[encoded data removed]",
      "text/plain": [
       "<Figure size 432x288 with 1 Axes>"
      ]
     },
     "metadata": {
      "needs_background": "light"
     },
     "output_type": "display_data"
    }
   ],
   "source": [
    "# plot a histogram for the poisson distribution\n",
    "plt.hist(x)"
   ]
  },
  {
   "cell_type": "code",
   "execution_count": 54,
   "metadata": {},
   "outputs": [
    {
     "data": {
      "text/plain": [
       "5.218064"
      ]
     },
     "execution_count": 54,
     "metadata": {},
     "output_type": "execute_result"
    }
   ],
   "source": [
    "# calculate the variance of the array\n",
    "np.var(x)"
   ]
  },
  {
   "cell_type": "code",
   "execution_count": 55,
   "metadata": {},
   "outputs": [
    {
     "data": {
      "text/plain": [
       "5.044"
      ]
     },
     "execution_count": 55,
     "metadata": {},
     "output_type": "execute_result"
    }
   ],
   "source": [
    "# calculate the mean of the array\n",
    "np.mean(x)"
   ]
  },
  {
   "cell_type": "markdown",
   "metadata": {},
   "source": [
    "The histogram shows that the random elements from the array peak at 5. The mean and the variance are also almost equal at 5.044 and 5.218 respectively."
   ]
  },
  {
   "cell_type": "markdown",
   "metadata": {},
   "source": [
    "## numpy.random.power\n",
    "\n",
    "Draws samples in [0, 1] from a power distribution with positive exponent a - 1."
   ]
  },
  {
   "cell_type": "code",
   "execution_count": 71,
   "metadata": {},
   "outputs": [],
   "source": [
    "x = np.random.power(2, 100)"
   ]
  },
  {
   "cell_type": "code",
   "execution_count": 72,
   "metadata": {},
   "outputs": [
    {
     "data": {
      "text/plain": [
       "array([0.92087308, 0.55473189, 0.6813156 , 0.97573188, 0.80211375,\n",
       "       0.54055587, 0.8721402 , 0.42655383, 0.92417932, 0.55908766,\n",
       "       0.45610498, 0.59603125, 0.91065505, 0.77548099, 0.5931503 ,\n",
       "       0.69765077, 0.78690038, 0.557836  , 0.67586056, 0.89811222,\n",
       "       0.62223112, 0.26677848, 0.56350549, 0.88454523, 0.88929791,\n",
       "       0.80874602, 0.58828501, 0.9659246 , 0.50576355, 0.92080546,\n",
       "       0.84036758, 0.99532838, 0.6111657 , 0.92360985, 0.6014334 ,\n",
       "       0.72694408, 0.33891403, 0.93092397, 0.94159788, 0.63492146,\n",
       "       0.86442771, 0.80359177, 0.97186993, 0.78626901, 0.43606585,\n",
       "       0.44268388, 0.37635625, 0.82749897, 0.71142118, 0.82420255,\n",
       "       0.5598501 , 0.73370211, 0.71728705, 0.71541657, 0.41857837,\n",
       "       0.93462704, 0.74163574, 0.94580781, 0.7130259 , 0.33002068,\n",
       "       0.17232527, 0.88020145, 0.46921357, 0.81501648, 0.51866508,\n",
       "       0.83774721, 0.78938705, 0.50824332, 0.88104259, 0.98692128,\n",
       "       0.51594275, 0.95089869, 0.06702781, 0.28149023, 0.85329639,\n",
       "       0.48609025, 0.83590591, 0.88602473, 0.62568405, 0.96836011,\n",
       "       0.83742839, 0.86889368, 0.39526865, 0.38566677, 0.45350931,\n",
       "       0.71384662, 0.99421899, 0.83792583, 0.85364198, 0.94409463,\n",
       "       0.16926051, 0.99798881, 0.4931011 , 0.85135431, 0.71649885,\n",
       "       0.94060032, 0.97477852, 0.41149239, 0.48429475, 0.84320669])"
      ]
     },
     "execution_count": 72,
     "metadata": {},
     "output_type": "execute_result"
    }
   ],
   "source": [
    "x"
   ]
  },
  {
   "cell_type": "code",
   "execution_count": 74,
   "metadata": {},
   "outputs": [
    {
     "data": {
      "text/plain": [
       "(array([ 1.,  2.,  4.,  7., 11., 12., 11., 10., 21., 21.]),\n",
       " array([0.06702781, 0.16012391, 0.25322001, 0.34631611, 0.43941221,\n",
       "        0.53250831, 0.62560441, 0.71870051, 0.81179661, 0.90489271,\n",
       "        0.99798881]),\n",
       " <a list of 10 Patch objects>)"
      ]
     },
     "execution_count": 74,
     "metadata": {},
     "output_type": "execute_result"
    },
    {
     "data": {
      "image/png": "[encoded data removed]",
      "text/plain": [
       "<Figure size 432x288 with 1 Axes>"
      ]
     },
     "metadata": {
      "needs_background": "light"
     },
     "output_type": "display_data"
    }
   ],
   "source": [
    "# create a histogram\n",
    "plt.hist(x)"
   ]
  },
  {
   "cell_type": "markdown",
   "metadata": {},
   "source": [
    "## numpy.random.binomial\n",
    "\n",
    "The numpy.random.binomial function draws samples from a binomial distribution. This type of distribution is a discrete probability distribution which consists of a number of trials with only two possible outcomes for each trail. The trails are independent - the outcome of one trail does not affect another trail. The binomial distribution is often used for the experiment of tossing a coin where there are two possible outcomes - heads or tails."
   ]
  },
  {
   "cell_type": "code",
   "execution_count": 97,
   "metadata": {},
   "outputs": [],
   "source": [
    "# create a function where n=1 (heads), p = 0.5 (as 2 possible outcomes heads or tails) and sample size is 100. \n",
    "# If heads is 1, tails is 0.\n",
    "x = np.random.binomial(n=1, p=0.5, size=100)"
   ]
  },
  {
   "cell_type": "code",
   "execution_count": 98,
   "metadata": {
    "scrolled": true
   },
   "outputs": [
    {
     "data": {
      "text/plain": [
       "array([1, 1, 0, 0, 0, 1, 1, 0, 1, 1, 1, 0, 1, 0, 0, 1, 1, 0, 0, 0, 0, 1,\n",
       "       0, 1, 1, 1, 0, 1, 1, 1, 1, 0, 0, 0, 0, 1, 0, 0, 0, 0, 1, 0, 0, 1,\n",
       "       1, 0, 0, 1, 0, 0, 0, 0, 1, 1, 1, 0, 1, 1, 0, 0, 0, 0, 0, 0, 1, 1,\n",
       "       0, 0, 0, 1, 0, 0, 0, 0, 1, 0, 1, 1, 1, 0, 0, 0, 0, 0, 0, 0, 0, 0,\n",
       "       1, 1, 0, 0, 0, 1, 1, 1, 1, 1, 1, 0])"
      ]
     },
     "execution_count": 98,
     "metadata": {},
     "output_type": "execute_result"
    }
   ],
   "source": [
    "x"
   ]
  },
  {
   "cell_type": "code",
   "execution_count": 99,
   "metadata": {},
   "outputs": [
    {
     "data": {
      "text/plain": [
       "0.43"
      ]
     },
     "execution_count": 99,
     "metadata": {},
     "output_type": "execute_result"
    }
   ],
   "source": [
    "np.mean(x)"
   ]
  },
  {
   "cell_type": "code",
   "execution_count": 100,
   "metadata": {},
   "outputs": [
    {
     "data": {
      "text/plain": [
       "(array([57.,  0.,  0.,  0.,  0.,  0.,  0.,  0.,  0., 43.]),\n",
       " array([0. , 0.1, 0.2, 0.3, 0.4, 0.5, 0.6, 0.7, 0.8, 0.9, 1. ]),\n",
       " <a list of 10 Patch objects>)"
      ]
     },
     "execution_count": 100,
     "metadata": {},
     "output_type": "execute_result"
    },
    {
     "data": {
      "image/png": "[encoded data removed]",
      "text/plain": [
       "<Figure size 432x288 with 1 Axes>"
      ]
     },
     "metadata": {
      "needs_background": "light"
     },
     "output_type": "display_data"
    }
   ],
   "source": [
    "# plot a histogram\n",
    "plt.hist(x)"
   ]
  },
  {
   "cell_type": "markdown",
   "metadata": {},
   "source": [
    "The histogram shows the two outcomes 0 for tails and 1 for heads. In this instance, in the randomly selected array, tails was more successful than heads when tested 100 times. "
   ]
  },
  {
   "cell_type": "markdown",
   "metadata": {},
   "source": [
    "## Permutations Functions\n",
    "\n",
    "There are two permutation functions:\n",
    "\n",
    "- numpy.random.shuffle\n",
    "- numpy.random.permutation"
   ]
  },
  {
   "cell_type": "markdown",
   "metadata": {},
   "source": [
    "### numpy.random.shuffle\n",
    "Modifies an array of numbers by shuffling it's elements."
   ]
  },
  {
   "cell_type": "code",
   "execution_count": 32,
   "metadata": {},
   "outputs": [],
   "source": [
    "# create a list of 6 numbers from 0 to 5\n",
    "x = np.arange(6)"
   ]
  },
  {
   "cell_type": "code",
   "execution_count": 33,
   "metadata": {},
   "outputs": [
    {
     "data": {
      "text/plain": [
       "array([0, 1, 2, 3, 4, 5])"
      ]
     },
     "execution_count": 33,
     "metadata": {},
     "output_type": "execute_result"
    }
   ],
   "source": [
    "x"
   ]
  },
  {
   "cell_type": "code",
   "execution_count": 34,
   "metadata": {},
   "outputs": [],
   "source": [
    "# modify the list of 6 numbers\n",
    "np.random.shuffle(x)"
   ]
  },
  {
   "cell_type": "code",
   "execution_count": 35,
   "metadata": {},
   "outputs": [
    {
     "data": {
      "text/plain": [
       "array([5, 1, 3, 2, 4, 0])"
      ]
     },
     "execution_count": 35,
     "metadata": {},
     "output_type": "execute_result"
    }
   ],
   "source": [
    "x"
   ]
  },
  {
   "cell_type": "markdown",
   "metadata": {},
   "source": [
    "### numpy.random.permutation\n",
    "Alters the order of an array of numbers"
   ]
  },
  {
   "cell_type": "code",
   "execution_count": 103,
   "metadata": {},
   "outputs": [],
   "source": [
    "# create a list of 9 numbers from 0 to 8\n",
    "x = np.arange(9)"
   ]
  },
  {
   "cell_type": "code",
   "execution_count": 104,
   "metadata": {},
   "outputs": [
    {
     "data": {
      "text/plain": [
       "array([0, 1, 2, 3, 4, 5, 6, 7, 8])"
      ]
     },
     "execution_count": 104,
     "metadata": {},
     "output_type": "execute_result"
    }
   ],
   "source": [
    "x"
   ]
  },
  {
   "cell_type": "code",
   "execution_count": 105,
   "metadata": {},
   "outputs": [
    {
     "data": {
      "text/plain": [
       "array([8, 0, 6, 2, 4, 3, 1, 7, 5])"
      ]
     },
     "execution_count": 105,
     "metadata": {},
     "output_type": "execute_result"
    }
   ],
   "source": [
    "# alter the order of the list of 9 numbers\n",
    "np.random.permutation(x)"
   ]
  },
  {
   "cell_type": "markdown",
   "metadata": {},
   "source": [
    "The difference between the numpy.random.shuffle function and the numpy.random.permutation function is ......"
   ]
  },
  {
   "cell_type": "markdown",
   "metadata": {},
   "source": [
    "## Random Generator and Seeds"
   ]
  },
  {
   "cell_type": "code",
   "execution_count": null,
   "metadata": {},
   "outputs": [],
   "source": []
  },
  {
   "cell_type": "code",
   "execution_count": null,
   "metadata": {},
   "outputs": [],
   "source": []
  },
  {
   "cell_type": "code",
   "execution_count": null,
   "metadata": {},
   "outputs": [],
   "source": []
  },
  {
   "cell_type": "markdown",
   "metadata": {},
   "source": [
    "## References\n",
    "\n",
    "https://docs.scipy.org/doc/numpy/\n",
    "\n",
    "\n",
    "https://realpython.com/python-random/\n",
    "\n",
    "\n",
    "https://docs.python.org/2/library/random.html\n",
    "\n",
    "\n",
    "https://stackoverflow.com/questions/35729290/python-numpy-poisson-distribution"
   ]
  },
  {
   "cell_type": "code",
   "execution_count": null,
   "metadata": {},
   "outputs": [],
   "source": []
  }
 ],
 "metadata": {
  "kernelspec": {
   "display_name": "Python 3",
   "language": "python",
   "name": "python3"
  },
  "language_info": {
   "codemirror_mode": {
    "name": "ipython",
    "version": 3
   },
   "file_extension": ".py",
   "mimetype": "text/x-python",
   "name": "python",
   "nbconvert_exporter": "python",
   "pygments_lexer": "ipython3",
   "version": "3.7.0"
  }
 },
 "nbformat": 4,
 "nbformat_minor": 2
}
