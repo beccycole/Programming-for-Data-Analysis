{
 "cells": [
  {
   "cell_type": "markdown",
   "metadata": {},
   "source": [
    "# The numpy.random package\n",
    "\n",
    "Numpy.random is a submodule of the Python library called Numpy. This submodule is a tool for creating random numbers, which can be used for simulating data. The Mersenne Twister algorithm in numpy.random is used to generate pseudorandom numbers. The Mersenne Twister is one of the most extensively tested random number generators in existence."
   ]
  },
  {
   "cell_type": "markdown",
   "metadata": {},
   "source": [
    "## Simple Random Data\n",
    "\n",
    "There are a number of simple random data functions included in the numpy.random module which can be used for creating random numbers of varying types. In this section I will explain the following four simple random data functions using examples and graphs:\n",
    "\n",
    "- numpy.random.rand\n",
    "- numpy.random.randn\n",
    "- numpy.random.randint\n",
    "- numpy.random.choice"
   ]
  },
  {
   "cell_type": "markdown",
   "metadata": {},
   "source": [
    "### numpy.random.rand\n",
    "\n",
    "Creates a random array of positive floating point numbers in a given shape. The output values are in the interval [0,1). The square bracket informs us that it can return zero and the round bracket tells us that it can never return 1. This function represents a uniform distribution which means the numbers are equally spread out over the interval of [0, 1)."
   ]
  },
  {
   "cell_type": "code",
   "execution_count": 120,
   "metadata": {},
   "outputs": [],
   "source": [
    "# import numpy library\n",
    "import numpy as np"
   ]
  },
  {
   "cell_type": "code",
   "execution_count": 121,
   "metadata": {},
   "outputs": [
    {
     "data": {
      "text/plain": [
       "array([[0.3446916 , 0.43859383],\n",
       "       [0.34133595, 0.65189751],\n",
       "       [0.80497652, 0.36493223],\n",
       "       [0.72881092, 0.02966875]])"
      ]
     },
     "execution_count": 121,
     "metadata": {},
     "output_type": "execute_result"
    }
   ],
   "source": [
    "# create an array of random numbers with 4 rows and 2 columns\n",
    "np.random.rand(4,2)"
   ]
  },
  {
   "cell_type": "code",
   "execution_count": 122,
   "metadata": {},
   "outputs": [
    {
     "data": {
      "text/plain": [
       "array([0.88165223, 0.59984919, 0.1631796 , 0.41147015, 0.30050323,\n",
       "       0.32244466, 0.77601437, 0.9010157 , 0.51635614, 0.09549572])"
      ]
     },
     "execution_count": 122,
     "metadata": {},
     "output_type": "execute_result"
    }
   ],
   "source": [
    "# create an array of 10 random numbers \n",
    "np.random.rand(10)"
   ]
  },
  {
   "cell_type": "code",
   "execution_count": 123,
   "metadata": {},
   "outputs": [],
   "source": [
    "# import matplotlib library\n",
    "import matplotlib.pyplot as plt"
   ]
  },
  {
   "cell_type": "code",
   "execution_count": 124,
   "metadata": {},
   "outputs": [],
   "source": [
    "# create an array of 100 random numbers\n",
    "x = np.random.rand(100)"
   ]
  },
  {
   "cell_type": "code",
   "execution_count": 125,
   "metadata": {
    "scrolled": false
   },
   "outputs": [
    {
     "data": {
      "text/plain": [
       "array([0.81421856, 0.53405253, 0.87478563, 0.21284447, 0.7838207 ,\n",
       "       0.46528831, 0.57415205, 0.1198289 , 0.16706348, 0.64420553,\n",
       "       0.76291033, 0.99029787, 0.59308094, 0.62265509, 0.27959093,\n",
       "       0.06547644, 0.7287701 , 0.50420919, 0.41575965, 0.0573056 ,\n",
       "       0.62485478, 0.48180666, 0.93832094, 0.58377076, 0.27043026,\n",
       "       0.4783921 , 0.44070188, 0.5724539 , 0.61730533, 0.88356147,\n",
       "       0.61732451, 0.49525887, 0.04184092, 0.49369259, 0.76046349,\n",
       "       0.75202587, 0.58776708, 0.73979378, 0.2605907 , 0.06862234,\n",
       "       0.23065232, 0.35861001, 0.74333181, 0.30031612, 0.64773569,\n",
       "       0.4815894 , 0.91013037, 0.05454141, 0.57603157, 0.74457654,\n",
       "       0.44007879, 0.391729  , 0.7149373 , 0.66244412, 0.86062856,\n",
       "       0.69826331, 0.5840682 , 0.84272466, 0.16434393, 0.56393689,\n",
       "       0.20441281, 0.57268034, 0.90430359, 0.24730962, 0.85632437,\n",
       "       0.0866761 , 0.11511832, 0.03720975, 0.46678291, 0.72764949,\n",
       "       0.08710996, 0.69231395, 0.00632895, 0.5148228 , 0.0214477 ,\n",
       "       0.51408035, 0.71658488, 0.79013449, 0.38969378, 0.95610981,\n",
       "       0.8202998 , 0.9770288 , 0.08434437, 0.66699757, 0.14814297,\n",
       "       0.95831194, 0.22328894, 0.95242668, 0.02717914, 0.91761232,\n",
       "       0.76657073, 0.60624337, 0.50945209, 0.36237658, 0.0879756 ,\n",
       "       0.74612458, 0.82435778, 0.3506643 , 0.44188499, 0.24959104])"
      ]
     },
     "execution_count": 125,
     "metadata": {},
     "output_type": "execute_result"
    }
   ],
   "source": [
    "x"
   ]
  },
  {
   "cell_type": "code",
   "execution_count": 126,
   "metadata": {},
   "outputs": [
    {
     "data": {
      "text/plain": [
       "(array([13.,  5., 10.,  5., 11., 14., 10., 15.,  8.,  9.]),\n",
       " array([0.00632895, 0.10472584, 0.20312274, 0.30151963, 0.39991652,\n",
       "        0.49831341, 0.5967103 , 0.69510719, 0.79350408, 0.89190098,\n",
       "        0.99029787]),\n",
       " <a list of 10 Patch objects>)"
      ]
     },
     "execution_count": 126,
     "metadata": {},
     "output_type": "execute_result"
    },
    {
     "data": {
      "image/png": "[encoded data removed]",
      "text/plain": [
       "<Figure size 432x288 with 1 Axes>"
      ]
     },
     "metadata": {
      "needs_background": "light"
     },
     "output_type": "display_data"
    }
   ],
   "source": [
    "# plot a histogram of the x values generated randomly by the np.random.rand(100) function\n",
    "plt.hist(x)"
   ]
  },
  {
   "cell_type": "markdown",
   "metadata": {},
   "source": [
    "#### numpy.random.rand histogram\n",
    "\n",
    "The histogram above shows a uniform distribution where the random numbers are equally spread over the interval [0, 1)."
   ]
  },
  {
   "cell_type": "markdown",
   "metadata": {},
   "source": [
    "### numpy.random.randn\n",
    "\n",
    "Creates a random array of floating point numbers which represent a normal distribution. The values are described by two numbers - the mean and the variance. The mean value is zero and the variance is 1."
   ]
  },
  {
   "cell_type": "code",
   "execution_count": 127,
   "metadata": {},
   "outputs": [],
   "source": [
    "# create an array of 200 floating point numbers\n",
    "x = np.random.randn(200)"
   ]
  },
  {
   "cell_type": "code",
   "execution_count": 128,
   "metadata": {
    "scrolled": true
   },
   "outputs": [
    {
     "data": {
      "text/plain": [
       "array([-1.34425232, -0.62658025,  0.72132635,  1.69157542,  0.92643289,\n",
       "        0.56454647, -0.33392191, -0.43895176,  1.32707676,  2.46467692,\n",
       "        0.66891461,  1.18832522,  1.29353033, -0.23163855, -0.78946418,\n",
       "        0.27056933, -0.93076534, -0.7937914 , -0.44758199, -0.79748496,\n",
       "       -0.96965065,  0.39013756, -0.71117069, -0.55414881, -0.47120677,\n",
       "       -1.21244478,  0.49152641, -0.82626037, -1.14153868,  0.61218939,\n",
       "       -0.33521299,  2.91878307,  0.88988739,  1.28962908, -0.29669125,\n",
       "       -0.22977386,  0.10312689,  0.41568234, -0.73739169,  0.54403133,\n",
       "       -0.56780367, -0.66625761,  0.71397233, -1.38793471,  0.53043958,\n",
       "        0.16363153,  1.00876212, -0.51242314,  0.07744477, -0.14616242,\n",
       "        0.43863937,  0.2870362 , -0.77919395, -0.17498413,  0.56866329,\n",
       "        0.69422315,  0.41351147,  0.97622119, -0.16301471,  0.87204736,\n",
       "       -0.26977498, -0.0081757 ,  1.52464774,  0.73151195,  0.18979032,\n",
       "       -1.7631827 ,  0.18911671,  0.04486225, -0.73480387,  0.29039655,\n",
       "        0.27080563, -0.37206583, -0.10811895,  2.09046007, -0.43467607,\n",
       "        1.43989079, -1.6851816 ,  0.51384227,  1.25725612, -1.71504914,\n",
       "       -0.49992902,  0.58434077,  0.36999298, -0.1204011 ,  0.45644475,\n",
       "        0.65628961, -0.55424465, -1.12382677,  1.22473244,  0.29240247,\n",
       "        2.08356936,  0.11440181, -1.47143386,  0.79501939,  1.23172406,\n",
       "        1.1889049 ,  0.87954522,  0.92962636,  0.46864025,  0.54492434,\n",
       "       -0.22209478, -0.3045735 , -0.07527741, -0.09654278,  0.80966962,\n",
       "        0.75718272,  0.36532051, -0.02036566,  0.51271079,  0.76199201,\n",
       "        0.11548971,  0.1120531 , -0.60724376,  1.97603497, -0.57153628,\n",
       "       -0.75810709,  0.74823152, -0.94538526,  0.52075198, -1.53377121,\n",
       "        0.2393926 , -1.59301758, -0.53368168,  0.15887476,  0.93010769,\n",
       "        0.83472558,  0.18157747,  0.14251203,  0.39656955,  0.12790576,\n",
       "       -0.89352394, -0.95999356, -0.90739864,  1.20361044, -0.74631108,\n",
       "       -0.20644946,  0.30547881,  0.08931684,  1.07978275,  0.29828662,\n",
       "       -2.23370638,  0.30127943, -0.69967667,  1.46255652,  0.14850221,\n",
       "        0.2616276 , -0.26849471, -1.78588733,  0.2342522 ,  1.01796912,\n",
       "        0.4788325 ,  3.0048929 ,  0.02586052,  2.42780321, -0.66149535,\n",
       "       -1.65710788, -1.45596375, -0.95240768,  0.4528613 , -0.37669824,\n",
       "        0.02315821, -0.57280201,  1.1439555 ,  1.37070645, -0.67645247,\n",
       "        0.0118584 , -0.79133712, -2.02258603, -0.66789397,  1.12943111,\n",
       "       -1.08438019, -1.08518107, -0.52030502, -0.5151573 , -0.40349662,\n",
       "       -0.98629622, -2.42161866,  0.38541103, -2.32632867,  0.97644142,\n",
       "        1.48593124, -0.88434331, -0.25490792, -0.38003775,  1.81033608,\n",
       "        0.22897711, -0.59972522,  1.38066439, -0.13502897, -0.58963861,\n",
       "        1.53205284, -0.36665165, -0.07140936,  1.50279154,  0.07384018,\n",
       "       -0.05925972,  1.14434289,  0.63296192, -1.55332421, -0.34037195])"
      ]
     },
     "execution_count": 128,
     "metadata": {},
     "output_type": "execute_result"
    }
   ],
   "source": [
    "x"
   ]
  },
  {
   "cell_type": "code",
   "execution_count": 129,
   "metadata": {},
   "outputs": [
    {
     "data": {
      "text/plain": [
       "(array([ 4., 12., 17., 44., 43., 39., 25.,  9.,  4.,  3.]),\n",
       " array([-2.42161866, -1.87896751, -1.33631635, -0.79366519, -0.25101404,\n",
       "         0.29163712,  0.83428828,  1.37693943,  1.91959059,  2.46224174,\n",
       "         3.0048929 ]),\n",
       " <a list of 10 Patch objects>)"
      ]
     },
     "execution_count": 129,
     "metadata": {},
     "output_type": "execute_result"
    },
    {
     "data": {
      "image/png": "[encoded data removed]",
      "text/plain": [
       "<Figure size 432x288 with 1 Axes>"
      ]
     },
     "metadata": {
      "needs_background": "light"
     },
     "output_type": "display_data"
    }
   ],
   "source": [
    "# plot a histogram of the x values generated randomly by the np.random.randn function\n",
    "plt.hist(x)"
   ]
  },
  {
   "cell_type": "markdown",
   "metadata": {},
   "source": [
    "#### numpy.random.randn histogram\n",
    "\n",
    "The histogram shows a normal distribution where the numbers are centred around the mean of zero and the variance is 1. This is known as the bell shaped curve. When I first created an array using the numpy.random.randn function I only used a sample size of 50. This lower sample size did not represent the bell shaped curve as well as i expected so I increased the sample size to 200 which produced a better shape as shown above."
   ]
  },
  {
   "cell_type": "markdown",
   "metadata": {},
   "source": [
    "### numpy.random.randint\n",
    "\n",
    "This function creates a random integer N where a <= N < b. The randint function accepts two parameters a lowest number and a highest number."
   ]
  },
  {
   "cell_type": "code",
   "execution_count": 130,
   "metadata": {},
   "outputs": [],
   "source": [
    "# use the random.randint function to pick 10 integers between 1 and 6\n",
    "x = np.random.randint(1, 7, size=10)"
   ]
  },
  {
   "cell_type": "code",
   "execution_count": 131,
   "metadata": {},
   "outputs": [
    {
     "data": {
      "text/plain": [
       "array([2, 2, 5, 5, 1, 3, 6, 1, 2, 4])"
      ]
     },
     "execution_count": 131,
     "metadata": {},
     "output_type": "execute_result"
    }
   ],
   "source": [
    "x"
   ]
  },
  {
   "cell_type": "markdown",
   "metadata": {},
   "source": [
    "The numpy.random.randint function returns integers from a discrete uniform distribution. This function is often used to generate random rolls from a fair 6 sided dice."
   ]
  },
  {
   "cell_type": "markdown",
   "metadata": {},
   "source": [
    "### numpy.random.choice\n",
    "\n",
    "The choice function can be used to generate a random element from a given list. The elements can be numbers or strings."
   ]
  },
  {
   "cell_type": "code",
   "execution_count": 132,
   "metadata": {},
   "outputs": [],
   "source": [
    "# use the random.choice function to randomly select a piece of fruit\n",
    "fruit = ['Apple', 'Banana', 'Pear']\n",
    "x = np.random.choice(fruit)"
   ]
  },
  {
   "cell_type": "code",
   "execution_count": 133,
   "metadata": {},
   "outputs": [
    {
     "data": {
      "text/plain": [
       "'Pear'"
      ]
     },
     "execution_count": 133,
     "metadata": {},
     "output_type": "execute_result"
    }
   ],
   "source": [
    "x"
   ]
  },
  {
   "cell_type": "code",
   "execution_count": 134,
   "metadata": {},
   "outputs": [],
   "source": [
    "# use the random.choice function to randomly select a number in a list\n",
    "numbers = [1, 2, 3, 4]\n",
    "x = np.random.choice(numbers)"
   ]
  },
  {
   "cell_type": "code",
   "execution_count": 135,
   "metadata": {},
   "outputs": [
    {
     "data": {
      "text/plain": [
       "1"
      ]
     },
     "execution_count": 135,
     "metadata": {},
     "output_type": "execute_result"
    }
   ],
   "source": [
    "x"
   ]
  },
  {
   "cell_type": "markdown",
   "metadata": {},
   "source": [
    "The numpy.random.choice function can be used for a wide range of examples. The Python documentation uses an example whereby the colours on a roulette are provided as a list and picked at random or another example I've seen whilst researching this function online is the rock, paper, scissors game."
   ]
  },
  {
   "cell_type": "markdown",
   "metadata": {},
   "source": [
    "## Distributions\n",
    "\n",
    "There are a number of distribution functions included in the numpy.random module. In this section I will explain the following five distribution functions using examples and graphs:\n",
    "\n",
    "- numpy.random.uniform\n",
    "- numpy.random.normal\n",
    "- numpy.random.poisson\n",
    "- numpy.random.chisquare\n",
    "- numpy.random.binomial"
   ]
  },
  {
   "cell_type": "markdown",
   "metadata": {},
   "source": [
    "### numpy.random.uniform\n",
    "\n",
    "Returns a random array of numbers with a uniform distribution, where the output interval [low, high) includes the low value but excludes the high value."
   ]
  },
  {
   "cell_type": "code",
   "execution_count": 136,
   "metadata": {},
   "outputs": [],
   "source": [
    "# create an array where x >= 0, x < 5 with 5000 elements.\n",
    "x = np.random.uniform(0, 5, 5000)"
   ]
  },
  {
   "cell_type": "code",
   "execution_count": 137,
   "metadata": {
    "scrolled": true
   },
   "outputs": [
    {
     "data": {
      "text/plain": [
       "array([1.16739283, 1.22790206, 4.80846298, ..., 0.13269699, 0.48449664,\n",
       "       2.06573102])"
      ]
     },
     "execution_count": 137,
     "metadata": {},
     "output_type": "execute_result"
    }
   ],
   "source": [
    "x"
   ]
  },
  {
   "cell_type": "code",
   "execution_count": 138,
   "metadata": {},
   "outputs": [
    {
     "data": {
      "text/plain": [
       "(array([270., 232., 244., 264., 236., 261., 250., 234., 244., 242., 265.,\n",
       "        262., 244., 248., 237., 253., 253., 261., 233., 267.]),\n",
       " array([1.16607380e-03, 2.51085227e-01, 5.01004381e-01, 7.50923534e-01,\n",
       "        1.00084269e+00, 1.25076184e+00, 1.50068099e+00, 1.75060015e+00,\n",
       "        2.00051930e+00, 2.25043845e+00, 2.50035761e+00, 2.75027676e+00,\n",
       "        3.00019591e+00, 3.25011507e+00, 3.50003422e+00, 3.74995337e+00,\n",
       "        3.99987253e+00, 4.24979168e+00, 4.49971083e+00, 4.74962999e+00,\n",
       "        4.99954914e+00]),\n",
       " <a list of 20 Patch objects>)"
      ]
     },
     "execution_count": 138,
     "metadata": {},
     "output_type": "execute_result"
    },
    {
     "data": {
      "image/png": "[encoded data removed]",
      "text/plain": [
       "<Figure size 432x288 with 1 Axes>"
      ]
     },
     "metadata": {
      "needs_background": "light"
     },
     "output_type": "display_data"
    }
   ],
   "source": [
    "# plot a histogram for the function np.random.uniform with 20 bins\n",
    "plt.hist(x, bins=20)"
   ]
  },
  {
   "cell_type": "markdown",
   "metadata": {},
   "source": [
    "### numpy.random.uniform histogram\n",
    "\n",
    "The histogram shows a uniform distribution where the data follows a uniform pattern. The bins of the histogram are approximately the same size. When I first created an array using the numpy.random.uniform function I only used a sample size of 500. This lower sample size did not represent the uniform pattern as well as i expected so I increased the sample size to 5000 which produced a better shape as shown above."
   ]
  },
  {
   "cell_type": "code",
   "execution_count": 139,
   "metadata": {},
   "outputs": [
    {
     "data": {
      "text/plain": [
       "True"
      ]
     },
     "execution_count": 139,
     "metadata": {},
     "output_type": "execute_result"
    }
   ],
   "source": [
    "np.all(x >= 0)"
   ]
  },
  {
   "cell_type": "code",
   "execution_count": 140,
   "metadata": {},
   "outputs": [
    {
     "data": {
      "text/plain": [
       "True"
      ]
     },
     "execution_count": 140,
     "metadata": {},
     "output_type": "execute_result"
    }
   ],
   "source": [
    "np.all(x < 5)"
   ]
  },
  {
   "cell_type": "code",
   "execution_count": 141,
   "metadata": {},
   "outputs": [
    {
     "data": {
      "text/plain": [
       "('Size of the array: ', 5000)"
      ]
     },
     "execution_count": 141,
     "metadata": {},
     "output_type": "execute_result"
    }
   ],
   "source": [
    "(\"Size of the array: \", x.size)"
   ]
  },
  {
   "cell_type": "markdown",
   "metadata": {},
   "source": [
    "### numpy.random.normal\n",
    "\n",
    "The numpy.random.normal function returns a random array of numbers which are defined by two numbers, the mean and the standard deviation. This function produces a normal distribution also known as the bell shaped curve. The bell shaped curve peaks at its mean and the standard deviation describes how wide or narrow the curve is."
   ]
  },
  {
   "cell_type": "code",
   "execution_count": 142,
   "metadata": {},
   "outputs": [],
   "source": [
    "# create an array centred around zero, standard deviation or spread of 0.2 and 200 elements\n",
    "x = np.random.normal(0, 0.2, 200)"
   ]
  },
  {
   "cell_type": "code",
   "execution_count": 143,
   "metadata": {
    "scrolled": true
   },
   "outputs": [
    {
     "data": {
      "text/plain": [
       "array([ 0.37197718,  0.05645814,  0.25316387,  0.23611938, -0.20458616,\n",
       "       -0.062806  , -0.27605534, -0.22344269, -0.04293811, -0.18500005,\n",
       "       -0.22420755, -0.51252697, -0.15179228,  0.1275706 , -0.41601043,\n",
       "        0.15673119, -0.1207308 , -0.17965528, -0.20317584, -0.27899574,\n",
       "       -0.03957851, -0.1701863 ,  0.11091039, -0.21885075, -0.02304589,\n",
       "        0.26528064, -0.00624673,  0.39124933, -0.34752072,  0.03464162,\n",
       "        0.01820037,  0.2066916 , -0.07162875,  0.19987673, -0.30038088,\n",
       "        0.19700633, -0.12360539,  0.16361878, -0.17705295, -0.16586337,\n",
       "       -0.25569555,  0.07739889,  0.06129119, -0.00602808, -0.08041024,\n",
       "       -0.31878609, -0.00729053, -0.069912  ,  0.29003713, -0.25048627,\n",
       "        0.03760071,  0.03089704, -0.2387277 , -0.18171143, -0.01144254,\n",
       "        0.21786982,  0.09690915,  0.23629096,  0.07650321, -0.27378279,\n",
       "       -0.34475357,  0.09483776,  0.12051811, -0.34883872,  0.17696674,\n",
       "       -0.46400883, -0.02856571, -0.02060771, -0.23619536,  0.14022816,\n",
       "        0.2461197 , -0.05552701, -0.39040727, -0.20321834, -0.3270049 ,\n",
       "        0.08483926, -0.02035396,  0.16551784,  0.39157518,  0.00996534,\n",
       "       -0.11130443,  0.09745907,  0.00406585, -0.11915588, -0.08938267,\n",
       "       -0.10999329, -0.10911741, -0.34793942, -0.04160893,  0.20712954,\n",
       "       -0.01410298,  0.11583705,  0.30915473,  0.09433808,  0.24512912,\n",
       "       -0.02683629,  0.01133605, -0.06472138,  0.20010023,  0.06104765,\n",
       "       -0.07355745, -0.38965774,  0.19161517, -0.0714922 ,  0.28764051,\n",
       "        0.1919885 , -0.08646353, -0.36855523, -0.03522737, -0.04086625,\n",
       "        0.18567355, -0.16167636,  0.27922367, -0.03146369, -0.06559704,\n",
       "       -0.44094357, -0.12414307, -0.39661584, -0.12039308,  0.16417035,\n",
       "       -0.24244972,  0.01716891,  0.24139684,  0.03091738,  0.17229185,\n",
       "       -0.09911971,  0.27259911, -0.31098187,  0.02054114,  0.15455726,\n",
       "        0.00387488, -0.30943767, -0.17937247, -0.10768236,  0.12295297,\n",
       "        0.19333824,  0.11128961,  0.08087758, -0.11110359,  0.112392  ,\n",
       "        0.24590341, -0.08094794, -0.26784373,  0.10084452, -0.47703001,\n",
       "        0.30318381, -0.00905393,  0.03695124, -0.12536776, -0.18036331,\n",
       "       -0.00999224,  0.11255174,  0.02076066, -0.16895925, -0.43077646,\n",
       "       -0.30325751,  0.07172679,  0.05974742,  0.11444427,  0.60991187,\n",
       "        0.07323691, -0.04122249, -0.09374252, -0.05456295,  0.04542316,\n",
       "       -0.24379273, -0.16243222,  0.23869519,  0.37193508,  0.19606519,\n",
       "       -0.25799835, -0.08818691, -0.1445028 , -0.04073066, -0.16217346,\n",
       "       -0.17341897,  0.27426041, -0.13991444, -0.02891765,  0.14932264,\n",
       "        0.11846216,  0.01276591, -0.48637283, -0.12943621, -0.13468809,\n",
       "        0.00396486,  0.21400951,  0.47710551,  0.0177472 , -0.10159019,\n",
       "        0.32299192, -0.10193639,  0.06183837, -0.1947597 ,  0.28203425,\n",
       "       -0.32420815, -0.02385021, -0.00438789, -0.15941476, -0.15204375])"
      ]
     },
     "execution_count": 143,
     "metadata": {},
     "output_type": "execute_result"
    }
   ],
   "source": [
    "x"
   ]
  },
  {
   "cell_type": "code",
   "execution_count": 144,
   "metadata": {},
   "outputs": [
    {
     "data": {
      "text/plain": [
       "(array([ 7., 15., 24., 40., 43., 30., 27., 10.,  3.,  1.]),\n",
       " array([-0.51252697, -0.40028309, -0.28803921, -0.17579532, -0.06355144,\n",
       "         0.04869245,  0.16093633,  0.27318022,  0.3854241 ,  0.49766799,\n",
       "         0.60991187]),\n",
       " <a list of 10 Patch objects>)"
      ]
     },
     "execution_count": 144,
     "metadata": {},
     "output_type": "execute_result"
    },
    {
     "data": {
      "image/png": "[encoded data removed]",
      "text/plain": [
       "<Figure size 432x288 with 1 Axes>"
      ]
     },
     "metadata": {
      "needs_background": "light"
     },
     "output_type": "display_data"
    }
   ],
   "source": [
    "# plot a histogram for the function np.random.normal with 10 bins\n",
    "plt.hist(x)"
   ]
  },
  {
   "cell_type": "markdown",
   "metadata": {},
   "source": [
    "### numpy.random.normal histogram\n",
    "\n",
    "The histogram shows a normal distribution where the data shows a pattern known as the bell shaped curve. In a normal distribution, points are as likely to occur on one side of the average as on the other. The 200 values of x are centred around 0 with a spread of 0.2."
   ]
  },
  {
   "cell_type": "markdown",
   "metadata": {},
   "source": [
    "## numpy.random.poisson\n",
    "\n",
    "The numpy.random.poisson function draws samples from a poisson distribution. The poisson distribution is a discrete probability distribution where each event is independent of the last event. The poisson distribution is useful for measuring the number of times an event occurs within a particular time interval.\n"
   ]
  },
  {
   "cell_type": "code",
   "execution_count": 167,
   "metadata": {},
   "outputs": [],
   "source": [
    "# create an array of 1000 elements with an interval of 5\n",
    "x = np.random.poisson(5, size=1000)"
   ]
  },
  {
   "cell_type": "code",
   "execution_count": 168,
   "metadata": {
    "scrolled": true
   },
   "outputs": [
    {
     "data": {
      "text/plain": [
       "array([10,  8,  5,  4,  5,  5,  6,  5,  4,  5,  2,  4,  5,  6,  3,  4,  9,\n",
       "        5,  5,  1,  5,  9,  3,  6,  1,  5,  5,  3,  8,  7,  2,  7,  3,  7,\n",
       "        7,  5,  3,  6,  9,  4,  9,  7,  2,  5,  8,  5,  5,  4,  5,  4,  3,\n",
       "        8,  6,  7,  8,  4,  4,  5,  6,  5,  5,  5,  2,  5,  8,  5,  2,  2,\n",
       "        7,  5,  1,  5,  1,  7,  5,  5,  5,  7,  4,  4,  7,  5,  4,  4,  6,\n",
       "        3,  3,  2,  3,  2,  7,  6,  1,  2,  3, 10,  3,  2,  4,  4,  6,  3,\n",
       "        7,  3,  3,  3,  5,  5,  2,  8,  3,  3,  5,  7,  4,  4,  5,  4,  1,\n",
       "        5,  8,  2,  8,  4,  2,  5,  3,  4,  1,  5,  6,  6,  6,  2,  4,  5,\n",
       "        4,  8,  6,  4,  4,  2,  4,  3,  3,  8,  4,  4,  4,  7,  5,  6,  7,\n",
       "        6,  2,  6,  4,  8,  8,  5,  5,  6,  6,  3,  4,  7,  7,  9,  4,  3,\n",
       "        2,  2,  7,  6,  3,  2,  6,  7,  5,  3,  4,  5,  3,  2,  6,  8,  6,\n",
       "        6,  3,  1, 10,  4,  3,  7,  8,  4,  5,  7,  5,  7,  7,  3,  6,  7,\n",
       "        8,  0,  7,  4,  2,  7,  7,  5,  7, 10,  5,  4,  8,  4,  5, 10,  6,\n",
       "        4,  6,  4,  2,  4,  3,  2,  5,  7,  7,  3,  5,  4,  5,  8,  6,  1,\n",
       "        2,  3,  7,  3,  7,  3,  7,  5,  4,  3,  5,  7,  6,  5,  5,  5,  6,\n",
       "        8,  5,  6,  6, 10,  7,  3,  4, 11,  5,  5,  5,  5,  4,  9,  6,  4,\n",
       "        4,  5,  4,  7,  0,  6, 10,  4,  4,  8,  5,  8,  7,  6,  1, 10,  6,\n",
       "        5,  4,  5,  2,  3,  3,  6,  7,  3, 11, 12,  3,  3,  4,  3,  4,  3,\n",
       "        6,  3,  5,  4,  3,  1,  6,  6,  7,  4,  6,  4,  6,  4,  3,  3,  9,\n",
       "        0,  8,  3,  3,  7,  5,  4,  8,  6,  5,  5,  3,  4,  7,  4, 10,  8,\n",
       "        4,  4, 10,  6,  4,  6,  8,  5,  6,  3,  5,  3,  6,  5,  3,  5,  8,\n",
       "        8,  5,  3,  6,  4,  6,  4,  4,  4,  4,  6,  4,  5,  3,  8,  6,  5,\n",
       "        8,  8,  3,  5,  6,  5,  4,  5,  5,  3,  2,  5,  3,  6,  6,  6,  7,\n",
       "        6,  3,  9,  6,  5,  5,  4,  2,  6,  6,  3,  3,  6,  8,  7,  3,  3,\n",
       "        8,  4,  7,  6,  5, 12,  4,  6,  3,  4,  7,  8,  4,  7,  4,  6,  6,\n",
       "        5,  1,  5,  5,  3,  4,  4,  5, 10,  2,  5,  9,  2,  6,  3,  8,  6,\n",
       "        5,  7,  3,  3,  4,  4,  6,  6,  8,  5,  5,  9,  2,  5,  7,  4,  6,\n",
       "        3,  7,  3,  5, 13,  5,  1,  3,  7,  4,  5,  3,  6,  4,  7,  3,  4,\n",
       "        6,  3,  7,  4,  5,  4,  1,  0,  2,  4,  8,  2, 10,  4,  3,  5,  6,\n",
       "        3,  3,  6,  8,  1,  5,  7,  9,  2,  6,  8,  4,  6,  7,  7,  5,  4,\n",
       "        7,  6,  4,  5,  5,  5,  2,  9,  6,  9,  5,  5,  5,  4,  7,  5,  7,\n",
       "        7,  2,  2,  4,  7,  7,  1,  4, 11,  3,  4,  2,  5,  5,  5,  3,  4,\n",
       "        2,  8,  6,  3,  8,  6,  3,  5,  3,  5,  6,  2,  2,  3,  2,  4,  2,\n",
       "        5,  5,  5,  7,  5,  6,  5,  5,  5,  9,  5,  9,  3,  6,  3,  8,  2,\n",
       "        0,  5,  5,  1,  4,  4,  5,  7,  8,  6,  5,  3,  5,  8,  3,  7, 11,\n",
       "        7,  6,  3,  4,  3,  5,  7,  3,  6,  9,  4,  4,  4,  5,  2,  2,  2,\n",
       "        5,  4,  7, 10,  9,  6,  7,  4,  4,  3,  3,  6,  4,  6,  1,  5,  5,\n",
       "        6,  4,  6,  5,  4,  3,  4,  3,  1,  2, 10,  2,  4,  3,  5,  7,  3,\n",
       "        3,  6,  1,  4,  4, 11,  7,  5,  4,  3,  3,  5,  6,  4,  4,  3,  8,\n",
       "       11,  9,  4,  7,  4,  3,  6,  3,  6,  5,  8,  9,  5,  4,  9,  6,  3,\n",
       "        5, 10,  2,  6,  6,  2,  8,  3,  4,  4,  9,  6,  8,  3, 11,  6,  4,\n",
       "        7,  4,  3,  4,  9,  7,  5,  2,  8, 11,  5,  1,  6,  5,  6,  9,  2,\n",
       "        5,  4,  6,  5,  4,  6,  2,  4,  2,  6,  6,  9,  2,  5,  7,  5,  8,\n",
       "        5,  7,  1,  4, 10,  3,  3,  2,  7,  7,  6,  5,  3,  3, 10,  5,  2,\n",
       "        6,  3,  7,  4,  9,  7,  7,  2,  4,  6,  2,  5,  4,  5,  7,  3,  2,\n",
       "        4,  2,  1,  2,  4,  3,  4,  7,  2,  4,  3,  2,  4,  5,  6,  0,  7,\n",
       "        1,  6,  5,  3,  4,  4,  5,  1,  4,  5,  5,  5,  3,  5,  1,  4,  3,\n",
       "        5,  4,  9,  3,  4,  4,  2,  5,  0,  5,  3,  5,  7,  4,  8,  4,  3,\n",
       "        5,  3,  6,  7,  3,  7,  7,  8,  2,  4,  3,  7,  3,  7,  6,  2,  1,\n",
       "        8,  1,  7,  4,  2, 10,  2,  8,  5,  5,  4,  6,  8,  5,  5, 10,  6,\n",
       "        8,  3,  7,  3,  6,  6,  3,  4,  3,  8,  5,  9,  6,  3,  5,  5,  6,\n",
       "        8,  2,  5, 10,  3,  7,  4,  3,  4,  7,  3,  7,  5,  3,  2,  6,  6,\n",
       "        5,  6,  6,  4,  2,  6,  2,  4,  2,  5,  3,  2,  2,  4,  1,  5,  2,\n",
       "        4,  6,  2,  7,  4,  3,  8,  7, 11,  7,  1,  6,  7,  2,  1,  5,  5,\n",
       "        6,  5,  4,  3,  4,  7,  8,  2,  4,  7,  7,  7,  2,  7,  6,  1,  7,\n",
       "        4, 10,  2,  2,  3,  8,  7,  3,  4,  2,  7,  2,  6,  6,  6,  3,  8,\n",
       "        3,  3,  2,  1,  5,  6,  3,  2,  6,  7,  4,  3,  4,  3,  1,  5,  4,\n",
       "        3,  2,  6,  7,  4,  2,  5,  7,  6,  5,  3,  5,  4,  7,  1, 10,  2,\n",
       "        4,  5,  3,  7,  1,  3,  6,  5,  6,  3,  5,  2,  4,  4])"
      ]
     },
     "execution_count": 168,
     "metadata": {},
     "output_type": "execute_result"
    }
   ],
   "source": [
    "x"
   ]
  },
  {
   "cell_type": "code",
   "execution_count": 169,
   "metadata": {},
   "outputs": [
    {
     "data": {
      "text/plain": [
       "(array([  7.,  36.,   0.,  91., 148.,   0., 168., 182.,   0., 135., 111.,\n",
       "          0.,  61.,  27.,   0.,  22.,   9.,   0.,   2.,   1.]),\n",
       " array([ 0.  ,  0.65,  1.3 ,  1.95,  2.6 ,  3.25,  3.9 ,  4.55,  5.2 ,\n",
       "         5.85,  6.5 ,  7.15,  7.8 ,  8.45,  9.1 ,  9.75, 10.4 , 11.05,\n",
       "        11.7 , 12.35, 13.  ]),\n",
       " <a list of 20 Patch objects>)"
      ]
     },
     "execution_count": 169,
     "metadata": {},
     "output_type": "execute_result"
    },
    {
     "data": {
      "image/png": "[encoded data removed]",
      "text/plain": [
       "<Figure size 432x288 with 1 Axes>"
      ]
     },
     "metadata": {
      "needs_background": "light"
     },
     "output_type": "display_data"
    }
   ],
   "source": [
    "# plot a histogram for the poisson distribution\n",
    "plt.hist(x, bins=20)"
   ]
  },
  {
   "cell_type": "code",
   "execution_count": 170,
   "metadata": {},
   "outputs": [
    {
     "data": {
      "text/plain": [
       "4.919276"
      ]
     },
     "execution_count": 170,
     "metadata": {},
     "output_type": "execute_result"
    }
   ],
   "source": [
    "# calculate the variance of the array\n",
    "np.var(x)"
   ]
  },
  {
   "cell_type": "code",
   "execution_count": 171,
   "metadata": {},
   "outputs": [
    {
     "data": {
      "text/plain": [
       "4.918"
      ]
     },
     "execution_count": 171,
     "metadata": {},
     "output_type": "execute_result"
    }
   ],
   "source": [
    "# calculate the mean of the array\n",
    "np.mean(x)"
   ]
  },
  {
   "cell_type": "markdown",
   "metadata": {},
   "source": [
    "### numpy.random.poisson histogram\n",
    "\n",
    "The histogram shows that the random elements from the array peak at 5 as we set our interval at 5 - this is the expected value hence should be the greatest out of the sample size of 1000. The mean and the variance are almost equal at 4.919 and 4.918 respectively - the numpy.random.poisson function has created an array of numbers where the average number and how far numbers are spread out from the mean are almost identical."
   ]
  },
  {
   "cell_type": "markdown",
   "metadata": {},
   "source": [
    "## numpy.random.gamma\n",
    "\n",
    "The numpy.random.gamma function produces samples from a gamma distribution. The parameters must be greater than 0 in the format (shape (k), scale (theta), Size). It produces continuous variables that are positive and have skewed distributions. The gamma distribution is often used to find the time required to complete a specific task. "
   ]
  },
  {
   "cell_type": "code",
   "execution_count": 210,
   "metadata": {},
   "outputs": [],
   "source": [
    "# use the np.random.gamma function where the shape is 2, scale is 1 and size of the random sample is 10000\n",
    "x = np.random.gamma(2, 1, 10000)"
   ]
  },
  {
   "cell_type": "code",
   "execution_count": 211,
   "metadata": {},
   "outputs": [
    {
     "data": {
      "text/plain": [
       "array([7.12900468, 1.7722696 , 2.18099171, ..., 0.18687661, 1.64684208,\n",
       "       2.59776086])"
      ]
     },
     "execution_count": 211,
     "metadata": {},
     "output_type": "execute_result"
    }
   ],
   "source": [
    "x"
   ]
  },
  {
   "cell_type": "code",
   "execution_count": 212,
   "metadata": {},
   "outputs": [
    {
     "data": {
      "text/plain": [
       "(array([1.075e+03, 1.853e+03, 1.919e+03, 1.585e+03, 1.194e+03, 8.110e+02,\n",
       "        5.330e+02, 3.210e+02, 2.400e+02, 1.900e+02, 8.800e+01, 7.100e+01,\n",
       "        4.800e+01, 2.800e+01, 1.700e+01, 1.300e+01, 7.000e+00, 1.000e+00,\n",
       "        1.000e+00, 5.000e+00]),\n",
       " array([5.95910394e-03, 5.56226974e-01, 1.10649484e+00, 1.65676271e+00,\n",
       "        2.20703058e+00, 2.75729845e+00, 3.30756632e+00, 3.85783419e+00,\n",
       "        4.40810206e+00, 4.95836993e+00, 5.50863780e+00, 6.05890567e+00,\n",
       "        6.60917354e+00, 7.15944141e+00, 7.70970928e+00, 8.25997715e+00,\n",
       "        8.81024502e+00, 9.36051289e+00, 9.91078076e+00, 1.04610486e+01,\n",
       "        1.10113165e+01]),\n",
       " <a list of 20 Patch objects>)"
      ]
     },
     "execution_count": 212,
     "metadata": {},
     "output_type": "execute_result"
    },
    {
     "data": {
      "image/png": "[encoded data removed]",
      "text/plain": [
       "<Figure size 432x288 with 1 Axes>"
      ]
     },
     "metadata": {
      "needs_background": "light"
     },
     "output_type": "display_data"
    }
   ],
   "source": [
    "# create a histogram of the numpy.random.gamma function with 20 bins\n",
    "plt.hist(x, bins=20)"
   ]
  },
  {
   "cell_type": "markdown",
   "metadata": {},
   "source": [
    "### numpy.random.gamma histogram\n",
    "\n",
    "The gamma histogram above shows a skewed continuance probability distribution. If the number of events (shape) is 1 and theta is 2 (the mean waiting time between events) the graph shifts to the right and shows that waiting times between events are increasing."
   ]
  },
  {
   "cell_type": "markdown",
   "metadata": {},
   "source": [
    "## numpy.random.binomial\n",
    "\n",
    "The numpy.random.binomial function draws samples from a binomial distribution. This type of distribution is a discrete probability distribution which consists of a number of trials with only two possible outcomes for each trail - success or failure for example. The trails are independent - the outcome of one trail does not affect another trail. The binomial distribution is often used for the experiment of tossing a coin where there are two possible outcomes - heads or tails."
   ]
  },
  {
   "cell_type": "code",
   "execution_count": 236,
   "metadata": {},
   "outputs": [],
   "source": [
    "# create a function where n=1 (heads), p = 0.5 (as 2 possible outcomes heads or tails) and sample size is 100. \n",
    "# If heads is 1, tails is 0.\n",
    "x = np.random.binomial(n=1, p=0.5, size=100)"
   ]
  },
  {
   "cell_type": "code",
   "execution_count": 237,
   "metadata": {
    "scrolled": true
   },
   "outputs": [
    {
     "data": {
      "text/plain": [
       "array([0, 0, 1, 0, 1, 1, 1, 1, 1, 0, 0, 1, 0, 0, 1, 0, 1, 1, 1, 1, 1, 1,\n",
       "       0, 0, 0, 1, 0, 0, 1, 1, 0, 0, 0, 1, 0, 1, 1, 0, 1, 1, 0, 0, 1, 0,\n",
       "       0, 0, 0, 1, 1, 0, 0, 1, 0, 1, 1, 0, 0, 0, 1, 0, 1, 1, 1, 0, 0, 0,\n",
       "       0, 0, 1, 0, 0, 1, 1, 1, 0, 1, 0, 1, 1, 1, 1, 0, 0, 0, 1, 1, 1, 0,\n",
       "       0, 0, 1, 0, 1, 0, 0, 0, 1, 1, 0, 1])"
      ]
     },
     "execution_count": 237,
     "metadata": {},
     "output_type": "execute_result"
    }
   ],
   "source": [
    "x"
   ]
  },
  {
   "cell_type": "code",
   "execution_count": 238,
   "metadata": {},
   "outputs": [
    {
     "data": {
      "text/plain": [
       "0.49"
      ]
     },
     "execution_count": 238,
     "metadata": {},
     "output_type": "execute_result"
    }
   ],
   "source": [
    "# calculate the mean of 1 of the array\n",
    "np.mean(x)"
   ]
  },
  {
   "cell_type": "code",
   "execution_count": 239,
   "metadata": {},
   "outputs": [
    {
     "data": {
      "text/plain": [
       "(array([51.,  0.,  0.,  0.,  0.,  0.,  0.,  0.,  0., 49.]),\n",
       " array([0. , 0.1, 0.2, 0.3, 0.4, 0.5, 0.6, 0.7, 0.8, 0.9, 1. ]),\n",
       " <a list of 10 Patch objects>)"
      ]
     },
     "execution_count": 239,
     "metadata": {},
     "output_type": "execute_result"
    },
    {
     "data": {
      "image/png": "[encoded data removed]",
      "text/plain": [
       "<Figure size 432x288 with 1 Axes>"
      ]
     },
     "metadata": {
      "needs_background": "light"
     },
     "output_type": "display_data"
    }
   ],
   "source": [
    "# plot a histogram for the array\n",
    "plt.hist(x)"
   ]
  },
  {
   "cell_type": "markdown",
   "metadata": {},
   "source": [
    "### numpy.random.binomial histogram\n",
    "\n",
    "The histogram shows the two outcomes 0 for tails and 1 for heads. In this instance, in the randomly selected array, tails was more successful than heads when tested 100 times. "
   ]
  },
  {
   "cell_type": "markdown",
   "metadata": {},
   "source": [
    "## Permutations Functions\n",
    "\n",
    "There are two permutation functions:\n",
    "\n",
    "- numpy.random.shuffle\n",
    "- numpy.random.permutation"
   ]
  },
  {
   "cell_type": "markdown",
   "metadata": {},
   "source": [
    "### numpy.random.shuffle\n",
    "Modifies an array of numbers by shuffling it's elements."
   ]
  },
  {
   "cell_type": "code",
   "execution_count": 246,
   "metadata": {},
   "outputs": [],
   "source": [
    "# create a list of 9 numbers from 0 to 8\n",
    "x = np.arange(9).reshape (3, 3)"
   ]
  },
  {
   "cell_type": "code",
   "execution_count": 247,
   "metadata": {},
   "outputs": [
    {
     "data": {
      "text/plain": [
       "array([[0, 1, 2],\n",
       "       [3, 4, 5],\n",
       "       [6, 7, 8]])"
      ]
     },
     "execution_count": 247,
     "metadata": {},
     "output_type": "execute_result"
    }
   ],
   "source": [
    "x"
   ]
  },
  {
   "cell_type": "code",
   "execution_count": 248,
   "metadata": {},
   "outputs": [],
   "source": [
    "# modify the list of 9 numbers\n",
    "np.random.shuffle(x)"
   ]
  },
  {
   "cell_type": "code",
   "execution_count": 249,
   "metadata": {},
   "outputs": [
    {
     "data": {
      "text/plain": [
       "array([[6, 7, 8],\n",
       "       [0, 1, 2],\n",
       "       [3, 4, 5]])"
      ]
     },
     "execution_count": 249,
     "metadata": {},
     "output_type": "execute_result"
    }
   ],
   "source": [
    "x"
   ]
  },
  {
   "cell_type": "markdown",
   "metadata": {},
   "source": [
    "### numpy.random.permutation\n",
    "Alters the order of an array of numbers"
   ]
  },
  {
   "cell_type": "code",
   "execution_count": 241,
   "metadata": {},
   "outputs": [],
   "source": [
    "# create a list of 9 numbers from 0 to 8\n",
    "x = np.arange(9).reshape (3, 3)"
   ]
  },
  {
   "cell_type": "code",
   "execution_count": 242,
   "metadata": {},
   "outputs": [
    {
     "data": {
      "text/plain": [
       "array([[0, 1, 2],\n",
       "       [3, 4, 5],\n",
       "       [6, 7, 8]])"
      ]
     },
     "execution_count": 242,
     "metadata": {},
     "output_type": "execute_result"
    }
   ],
   "source": [
    "x"
   ]
  },
  {
   "cell_type": "code",
   "execution_count": 243,
   "metadata": {},
   "outputs": [
    {
     "data": {
      "text/plain": [
       "array([[6, 7, 8],\n",
       "       [3, 4, 5],\n",
       "       [0, 1, 2]])"
      ]
     },
     "execution_count": 243,
     "metadata": {},
     "output_type": "execute_result"
    }
   ],
   "source": [
    "# alter the order of the list of 9 numbers\n",
    "np.random.permutation(x)"
   ]
  },
  {
   "cell_type": "markdown",
   "metadata": {},
   "source": [
    "The difference between the numpy.random.shuffle function and the numpy.random.permutation function is the random.shuffle function only shuffles the columns of the array and not the rows, whereas the random.permutation only permutes the rows of the array not the columns.  "
   ]
  },
  {
   "cell_type": "markdown",
   "metadata": {},
   "source": [
    "## Random Generator and Seeds"
   ]
  },
  {
   "cell_type": "code",
   "execution_count": null,
   "metadata": {},
   "outputs": [],
   "source": []
  },
  {
   "cell_type": "code",
   "execution_count": null,
   "metadata": {},
   "outputs": [],
   "source": []
  },
  {
   "cell_type": "code",
   "execution_count": null,
   "metadata": {},
   "outputs": [],
   "source": []
  },
  {
   "cell_type": "markdown",
   "metadata": {},
   "source": [
    "## References\n",
    "\n",
    "https://docs.scipy.org/doc/numpy/\n",
    "\n",
    "\n",
    "https://realpython.com/python-random/\n",
    "\n",
    "\n",
    "https://docs.python.org/2/library/random.html\n",
    "\n",
    "\n",
    "https://stackoverflow.com/questions/35729290/python-numpy-poisson-distribution\n",
    "\n",
    "\n",
    "https://www.goldsim.com/Help/index.html#!Modules/5/gammadistribution.htm\n",
    "\n",
    "\n",
    "https://onlinecourses.science.psu.edu/stat414/node/141/\n",
    "\n",
    "\n",
    "https://books.google.ie/books?id=UmRSCwAAQBAJ&pg=PA270&lpg=PA270&dq=show+the+difference+between+random.shuffle+vs+random.permutation&source=bl&ots=_3gCrXxw29&sig=u-fFDTmsDt-57CdxNvEivzIK520&hl=en&sa=X&ved=2ahUKEwjhm7aS8t7eAhWLLcAKHZIvAZoQ6AEwCHoECAEQAQ#v=onepage&q=show%20the%20difference%20between%20random.shuffle%20vs%20random.permutation&f=false"
   ]
  },
  {
   "cell_type": "code",
   "execution_count": null,
   "metadata": {},
   "outputs": [],
   "source": []
  }
 ],
 "metadata": {
  "kernelspec": {
   "display_name": "Python 3",
   "language": "python",
   "name": "python3"
  },
  "language_info": {
   "codemirror_mode": {
    "name": "ipython",
    "version": 3
   },
   "file_extension": ".py",
   "mimetype": "text/x-python",
   "name": "python",
   "nbconvert_exporter": "python",
   "pygments_lexer": "ipython3",
   "version": "3.7.0"
  }
 },
 "nbformat": 4,
 "nbformat_minor": 2
}
