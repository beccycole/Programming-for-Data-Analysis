{
 "cells": [
  {
   "cell_type": "markdown",
   "metadata": {},
   "source": [
    "# The numpy.random package\n",
    "An investigation into the numpy.random package."
   ]
  },
  {
   "cell_type": "markdown",
   "metadata": {},
   "source": [
    "## Simple Random Data\n",
    "Explanation of simple random data required here"
   ]
  },
  {
   "cell_type": "markdown",
   "metadata": {},
   "source": [
    "### numpy.random.Rand\n",
    "Creates random array of numbers in a given shape. Output values are [0,1)"
   ]
  },
  {
   "cell_type": "code",
   "execution_count": 54,
   "metadata": {},
   "outputs": [],
   "source": [
    "import numpy as np"
   ]
  },
  {
   "cell_type": "code",
   "execution_count": 55,
   "metadata": {},
   "outputs": [
    {
     "data": {
      "text/plain": [
       "array([[0.1992726 , 0.51163611],\n",
       "       [0.45422233, 0.38016709],\n",
       "       [0.12069873, 0.71816499]])"
      ]
     },
     "execution_count": 55,
     "metadata": {},
     "output_type": "execute_result"
    }
   ],
   "source": [
    "np.random.rand(3,2)"
   ]
  },
  {
   "cell_type": "code",
   "execution_count": 56,
   "metadata": {},
   "outputs": [
    {
     "data": {
      "text/plain": [
       "array([0.25545181, 0.70061505, 0.81468149, 0.72699944])"
      ]
     },
     "execution_count": 56,
     "metadata": {},
     "output_type": "execute_result"
    }
   ],
   "source": [
    "np.random.rand(4)"
   ]
  },
  {
   "cell_type": "code",
   "execution_count": 57,
   "metadata": {},
   "outputs": [],
   "source": [
    "import matplotlib.pyplot as plt"
   ]
  },
  {
   "cell_type": "code",
   "execution_count": 58,
   "metadata": {},
   "outputs": [],
   "source": [
    "x = np.random.rand(100)"
   ]
  },
  {
   "cell_type": "code",
   "execution_count": 59,
   "metadata": {},
   "outputs": [
    {
     "data": {
      "text/plain": [
       "array([0.90664052, 0.84353988, 0.48828862, 0.24493315, 0.01811244,\n",
       "       0.93779682, 0.47244544, 0.31091328, 0.87874786, 0.86535957,\n",
       "       0.7896852 , 0.87770035, 0.40317314, 0.07994492, 0.17304411,\n",
       "       0.26142745, 0.2488383 , 0.89932909, 0.26323458, 0.06469752,\n",
       "       0.4763934 , 0.51371103, 0.93342063, 0.61988169, 0.06871398,\n",
       "       0.72033568, 0.07328893, 0.18215611, 0.77751974, 0.8000232 ,\n",
       "       0.46613964, 0.33131534, 0.20887221, 0.81416852, 0.50714144,\n",
       "       0.81682397, 0.31444689, 0.42701194, 0.413172  , 0.56192253,\n",
       "       0.18858118, 0.34617038, 0.64333516, 0.26503037, 0.42074519,\n",
       "       0.77734483, 0.34201776, 0.76348804, 0.30924927, 0.055853  ,\n",
       "       0.88018812, 0.77404228, 0.32625188, 0.04881684, 0.61314556,\n",
       "       0.88556238, 0.91432496, 0.05860556, 0.71462447, 0.83361719,\n",
       "       0.93148735, 0.89635306, 0.5786548 , 0.40741054, 0.51984346,\n",
       "       0.09642894, 0.85515671, 0.12859683, 0.97219251, 0.2727315 ,\n",
       "       0.13456114, 0.25528031, 0.98978129, 0.39437463, 0.49735315,\n",
       "       0.36590227, 0.39273929, 0.05922913, 0.58901017, 0.06866494,\n",
       "       0.800005  , 0.89623094, 0.01536952, 0.70269415, 0.89674857,\n",
       "       0.00435494, 0.88997123, 0.72645902, 0.31317808, 0.33772174,\n",
       "       0.57902526, 0.9060758 , 0.92460217, 0.32517839, 0.08200978,\n",
       "       0.56144212, 0.73748471, 0.60276677, 0.54032014, 0.51047837])"
      ]
     },
     "execution_count": 59,
     "metadata": {},
     "output_type": "execute_result"
    }
   ],
   "source": [
    "x"
   ]
  },
  {
   "cell_type": "code",
   "execution_count": 60,
   "metadata": {},
   "outputs": [
    {
     "data": {
      "text/plain": [
       "(array([14.,  5.,  8., 13.,  9., 11.,  4., 10., 13., 13.]),\n",
       " array([0.00435494, 0.10289757, 0.20144021, 0.29998284, 0.39852548,\n",
       "        0.49706811, 0.59561075, 0.69415338, 0.79269602, 0.89123865,\n",
       "        0.98978129]),\n",
       " <a list of 10 Patch objects>)"
      ]
     },
     "execution_count": 60,
     "metadata": {},
     "output_type": "execute_result"
    },
    {
     "data": {
      "image/png": "[encoded data removed]",
      "text/plain": [
       "<Figure size 432x288 with 1 Axes>"
      ]
     },
     "metadata": {
      "needs_background": "light"
     },
     "output_type": "display_data"
    }
   ],
   "source": [
    "plt.hist(x)"
   ]
  },
  {
   "cell_type": "markdown",
   "metadata": {},
   "source": [
    "### numpy.random.Randn\n",
    "Returns a given shape of array filled with random floating point numbers from the standard normal distribution of mean 0 and variance 1."
   ]
  },
  {
   "cell_type": "code",
   "execution_count": 61,
   "metadata": {},
   "outputs": [],
   "source": [
    "x = np.random.randn(100)"
   ]
  },
  {
   "cell_type": "code",
   "execution_count": 62,
   "metadata": {},
   "outputs": [
    {
     "data": {
      "text/plain": [
       "(array([ 2.,  8.,  9., 20., 22., 20., 13.,  5.,  0.,  1.]),\n",
       " array([-2.35893472, -1.80541299, -1.25189126, -0.69836953, -0.1448478 ,\n",
       "         0.40867393,  0.96219566,  1.51571739,  2.06923912,  2.62276085,\n",
       "         3.17628258]),\n",
       " <a list of 10 Patch objects>)"
      ]
     },
     "execution_count": 62,
     "metadata": {},
     "output_type": "execute_result"
    },
    {
     "data": {
      "image/png": "[encoded data removed]",
      "text/plain": [
       "<Figure size 432x288 with 1 Axes>"
      ]
     },
     "metadata": {
      "needs_background": "light"
     },
     "output_type": "display_data"
    }
   ],
   "source": [
    "plt.hist(x)"
   ]
  },
  {
   "cell_type": "markdown",
   "metadata": {},
   "source": [
    "### numpy.random.randint\n",
    "Returns random integers from low (inclusive) to high (exclusive)"
   ]
  },
  {
   "cell_type": "code",
   "execution_count": 63,
   "metadata": {},
   "outputs": [
    {
     "data": {
      "text/plain": [
       "array([[6, 1, 2, 1],\n",
       "       [6, 6, 4, 1],\n",
       "       [7, 4, 5, 4],\n",
       "       [4, 6, 6, 0]])"
      ]
     },
     "execution_count": 63,
     "metadata": {},
     "output_type": "execute_result"
    }
   ],
   "source": [
    "np.random.randint(8, size=(4, 4))"
   ]
  },
  {
   "cell_type": "markdown",
   "metadata": {},
   "source": [
    "### numpy.random.uniform\n",
    "Returns a random array of numbers where x >= 9, x <= 20 and 100 elements."
   ]
  },
  {
   "cell_type": "code",
   "execution_count": 64,
   "metadata": {},
   "outputs": [],
   "source": [
    "x = np.random.uniform(9,20,100)"
   ]
  },
  {
   "cell_type": "code",
   "execution_count": 65,
   "metadata": {},
   "outputs": [
    {
     "data": {
      "text/plain": [
       "array([14.0951109 , 12.60983488, 15.34944783, 11.03755433,  9.22152811,\n",
       "       18.80996123, 19.68020921, 19.54180623, 18.77263908, 15.17020294,\n",
       "       11.38773921, 11.66822808, 18.66454469, 16.94593403,  9.10745228,\n",
       "       12.09652521, 19.20966956, 18.86435653, 11.88835464, 14.31509071,\n",
       "       12.22690456, 12.64307126, 11.89217192,  9.19466687, 16.4084445 ,\n",
       "       17.0696596 , 14.76973964, 15.32523776, 17.38820193, 15.47484057,\n",
       "       11.33242674, 11.78459419, 12.12582859, 14.55700164, 16.2974703 ,\n",
       "       14.53174364, 10.32493344, 10.59675547, 10.40062588, 18.18019482,\n",
       "       18.44689596, 11.26241491, 14.02474928, 16.94745454, 18.93767374,\n",
       "       18.8805052 , 19.16354839, 15.32971778, 10.62316696, 13.40362352,\n",
       "       11.29488419, 11.66696118, 12.98599894, 13.1171157 , 13.66237375,\n",
       "       18.30287952, 15.96436524, 15.01288509, 19.87134542, 13.82090894,\n",
       "       11.8532918 , 12.28014444, 14.44323088, 15.19227638, 14.00881327,\n",
       "       14.69063366, 12.95571193, 15.2686989 , 10.36515239, 11.52819195,\n",
       "       15.76468523, 16.44745793, 13.22280166, 17.3825529 , 18.58492574,\n",
       "       14.81346884, 17.14730856, 12.14070885, 18.41277209, 17.26605284,\n",
       "       15.95416051, 19.29405562, 19.59586861, 16.41363755, 15.24007282,\n",
       "       15.48854495, 12.69659329, 10.48758029,  9.5338276 , 12.73115414,\n",
       "       17.02639122, 14.07282311, 15.32862768, 12.28713396, 10.81996344,\n",
       "       18.26503717, 14.51854996, 16.28897579, 14.41702222, 10.0047694 ])"
      ]
     },
     "execution_count": 65,
     "metadata": {},
     "output_type": "execute_result"
    }
   ],
   "source": [
    "x"
   ]
  },
  {
   "cell_type": "markdown",
   "metadata": {},
   "source": [
    "### Verify the low value, high value and number of elements in the array"
   ]
  },
  {
   "cell_type": "code",
   "execution_count": 66,
   "metadata": {},
   "outputs": [
    {
     "data": {
      "text/plain": [
       "True"
      ]
     },
     "execution_count": 66,
     "metadata": {},
     "output_type": "execute_result"
    }
   ],
   "source": [
    "np.all(x >= 9)"
   ]
  },
  {
   "cell_type": "code",
   "execution_count": 67,
   "metadata": {},
   "outputs": [
    {
     "data": {
      "text/plain": [
       "True"
      ]
     },
     "execution_count": 67,
     "metadata": {},
     "output_type": "execute_result"
    }
   ],
   "source": [
    "np.all(x <= 20)"
   ]
  },
  {
   "cell_type": "code",
   "execution_count": 68,
   "metadata": {},
   "outputs": [
    {
     "data": {
      "text/plain": [
       "('Size of the array: ', 100)"
      ]
     },
     "execution_count": 68,
     "metadata": {},
     "output_type": "execute_result"
    }
   ],
   "source": [
    "(\"Size of the array: \", x.size)"
   ]
  },
  {
   "cell_type": "code",
   "execution_count": 69,
   "metadata": {},
   "outputs": [
    {
     "data": {
      "text/plain": [
       "(array([ 5.,  8., 17.,  9.,  9., 17.,  8.,  8.,  8., 11.]),\n",
       " array([ 9.10745228, 10.1838416 , 11.26023091, 12.33662022, 13.41300954,\n",
       "        14.48939885, 15.56578817, 16.64217748, 17.71856679, 18.79495611,\n",
       "        19.87134542]),\n",
       " <a list of 10 Patch objects>)"
      ]
     },
     "execution_count": 69,
     "metadata": {},
     "output_type": "execute_result"
    },
    {
     "data": {
      "image/png": "[encoded data removed]",
      "text/plain": [
       "<Figure size 432x288 with 1 Axes>"
      ]
     },
     "metadata": {
      "needs_background": "light"
     },
     "output_type": "display_data"
    }
   ],
   "source": [
    "plt.hist(x)"
   ]
  },
  {
   "cell_type": "markdown",
   "metadata": {},
   "source": [
    "### numpy.random.normal\n",
    "Returns a random array of numbers where x is centred around zero (mean), has a standard deviation or spread of 0.1 and 100 elements. This produces a bell shaped curve."
   ]
  },
  {
   "cell_type": "code",
   "execution_count": 79,
   "metadata": {},
   "outputs": [],
   "source": [
    "x = np.random.normal(0, 0.1, 100)"
   ]
  },
  {
   "cell_type": "code",
   "execution_count": 80,
   "metadata": {},
   "outputs": [
    {
     "data": {
      "text/plain": [
       "array([ 0.10312354, -0.02266529, -0.32207315,  0.02182308, -0.00429163,\n",
       "       -0.1813958 ,  0.06677125, -0.00818601, -0.00747078, -0.02101846,\n",
       "        0.07458707,  0.00162672, -0.09197185,  0.06148625, -0.0389778 ,\n",
       "        0.09176436,  0.13411298, -0.0544607 , -0.17207555,  0.0176568 ,\n",
       "        0.14945408, -0.11157388,  0.16186326,  0.01002306,  0.04631967,\n",
       "       -0.10470333,  0.20546486,  0.02817788,  0.16286394, -0.07765352,\n",
       "       -0.01243789,  0.04288574,  0.04052378,  0.14079833,  0.01427606,\n",
       "        0.05115787, -0.16168685,  0.05182225,  0.05880823, -0.20058127,\n",
       "       -0.15899027, -0.16159233, -0.03196797,  0.29047847,  0.08645195,\n",
       "       -0.17092478, -0.01849481, -0.03415525,  0.03494468,  0.02539469,\n",
       "        0.0570441 ,  0.08040354, -0.07062737, -0.00953076, -0.05109777,\n",
       "       -0.01018407, -0.17369498,  0.0409441 ,  0.06557011, -0.02502267,\n",
       "        0.01242362,  0.1239461 , -0.01595662,  0.06192473, -0.08862395,\n",
       "       -0.02312793,  0.10916583,  0.13316346,  0.04327838, -0.01496508,\n",
       "        0.12993778,  0.11646358, -0.15784458, -0.0335702 , -0.12168762,\n",
       "       -0.0352093 , -0.05916101, -0.06966377, -0.08812625,  0.07048568,\n",
       "        0.00881734,  0.11459398,  0.01239956, -0.02387207,  0.15074674,\n",
       "       -0.00927746, -0.04387117, -0.03572069,  0.24448216,  0.15753071,\n",
       "       -0.16108864,  0.05048287, -0.02930792,  0.28741678, -0.00863818,\n",
       "        0.100076  ,  0.11075666,  0.0486913 , -0.12092921, -0.09065289])"
      ]
     },
     "execution_count": 80,
     "metadata": {},
     "output_type": "execute_result"
    }
   ],
   "source": [
    "x"
   ]
  },
  {
   "cell_type": "code",
   "execution_count": 81,
   "metadata": {},
   "outputs": [
    {
     "data": {
      "text/plain": [
       "(array([ 1.,  1.,  9.,  9., 20., 24., 18., 14.,  1.,  3.]),\n",
       " array([-0.32207315, -0.26081799, -0.19956283, -0.13830767, -0.0770525 ,\n",
       "        -0.01579734,  0.04545782,  0.10671298,  0.16796815,  0.22922331,\n",
       "         0.29047847]),\n",
       " <a list of 10 Patch objects>)"
      ]
     },
     "execution_count": 81,
     "metadata": {},
     "output_type": "execute_result"
    },
    {
     "data": {
      "image/png": "[encoded data removed]",
      "text/plain": [
       "<Figure size 432x288 with 1 Axes>"
      ]
     },
     "metadata": {
      "needs_background": "light"
     },
     "output_type": "display_data"
    }
   ],
   "source": [
    "plt.hist(x)"
   ]
  },
  {
   "cell_type": "markdown",
   "metadata": {},
   "source": [
    "### Verify the mean and variance"
   ]
  },
  {
   "cell_type": "code",
   "execution_count": 83,
   "metadata": {},
   "outputs": [
    {
     "data": {
      "text/plain": [
       "True"
      ]
     },
     "execution_count": 83,
     "metadata": {},
     "output_type": "execute_result"
    }
   ],
   "source": [
    "abs(0 - np.mean(x)) < 0.01"
   ]
  },
  {
   "cell_type": "code",
   "execution_count": 84,
   "metadata": {},
   "outputs": [
    {
     "data": {
      "text/plain": [
       "True"
      ]
     },
     "execution_count": 84,
     "metadata": {},
     "output_type": "execute_result"
    }
   ],
   "source": [
    "abs(0.1 - np.std(x, ddof=1)) < 0.01"
   ]
  },
  {
   "cell_type": "markdown",
   "metadata": {},
   "source": [
    "## Permutations"
   ]
  },
  {
   "cell_type": "markdown",
   "metadata": {},
   "source": [
    "### numpy.random.shuffle\n",
    "Modifies an array by shuffling it's elements."
   ]
  },
  {
   "cell_type": "code",
   "execution_count": 97,
   "metadata": {},
   "outputs": [],
   "source": [
    "x = np.arange(6)"
   ]
  },
  {
   "cell_type": "code",
   "execution_count": 98,
   "metadata": {},
   "outputs": [
    {
     "data": {
      "text/plain": [
       "array([0, 1, 2, 3, 4, 5])"
      ]
     },
     "execution_count": 98,
     "metadata": {},
     "output_type": "execute_result"
    }
   ],
   "source": [
    "x"
   ]
  },
  {
   "cell_type": "code",
   "execution_count": 99,
   "metadata": {},
   "outputs": [],
   "source": [
    "np.random.shuffle(x)"
   ]
  },
  {
   "cell_type": "code",
   "execution_count": 100,
   "metadata": {},
   "outputs": [
    {
     "data": {
      "text/plain": [
       "array([0, 4, 2, 1, 3, 5])"
      ]
     },
     "execution_count": 100,
     "metadata": {},
     "output_type": "execute_result"
    }
   ],
   "source": [
    "x"
   ]
  },
  {
   "cell_type": "markdown",
   "metadata": {},
   "source": [
    "### numpy.random.permutation\n",
    "Alters the order of an array"
   ]
  },
  {
   "cell_type": "code",
   "execution_count": 101,
   "metadata": {},
   "outputs": [],
   "source": [
    "x = np.arange(6)"
   ]
  },
  {
   "cell_type": "code",
   "execution_count": 102,
   "metadata": {},
   "outputs": [
    {
     "data": {
      "text/plain": [
       "array([0, 1, 2, 3, 4, 5])"
      ]
     },
     "execution_count": 102,
     "metadata": {},
     "output_type": "execute_result"
    }
   ],
   "source": [
    "x"
   ]
  },
  {
   "cell_type": "code",
   "execution_count": 103,
   "metadata": {},
   "outputs": [
    {
     "data": {
      "text/plain": [
       "array([3, 0, 4, 2, 1, 5])"
      ]
     },
     "execution_count": 103,
     "metadata": {},
     "output_type": "execute_result"
    }
   ],
   "source": [
    "np.random.permutation(x)"
   ]
  },
  {
   "cell_type": "markdown",
   "metadata": {},
   "source": [
    "## Distributions\n",
    "Choose 5 distributions - explain with code and histograms."
   ]
  },
  {
   "cell_type": "markdown",
   "metadata": {},
   "source": [
    "## References\n",
    "\n",
    "https://docs.scipy.org/doc/numpy/"
   ]
  }
 ],
 "metadata": {
  "kernelspec": {
   "display_name": "Python 3",
   "language": "python",
   "name": "python3"
  },
  "language_info": {
   "codemirror_mode": {
    "name": "ipython",
    "version": 3
   },
   "file_extension": ".py",
   "mimetype": "text/x-python",
   "name": "python",
   "nbconvert_exporter": "python",
   "pygments_lexer": "ipython3",
   "version": "3.7.0"
  }
 },
 "nbformat": 4,
 "nbformat_minor": 2
}
