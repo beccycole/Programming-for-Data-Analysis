{
 "cells": [
  {
   "cell_type": "markdown",
   "metadata": {},
   "source": [
    "# The numpy.random package\n",
    "\n",
    "Numpy.random is a submodule of the Python library called Numpy. This submodule is a tool for creating random numbers, which can be used for simulating data. The Mersenne Twister algorithm in numpy.random is used to generate pseudorandom numbers. The Mersenne Twister is one of the most extensively tested random number generators in existence."
   ]
  },
  {
   "cell_type": "markdown",
   "metadata": {},
   "source": [
    "## Simple Random Data\n",
    "\n",
    "There are a number of simple random data functions included in the numpy.random module which can be used for creating random numbers of varying types. In this section I will explain the following four simple random data functions using examples and graphs:\n",
    "\n",
    "- numpy.random.rand\n",
    "- numpy.random.randn\n",
    "- numpy.random.randint\n",
    "- numpy.random.choice"
   ]
  },
  {
   "cell_type": "markdown",
   "metadata": {},
   "source": [
    "### numpy.random.rand\n",
    "\n",
    "Creates a random array of positive floating point numbers in a given shape. The output values are in the interval [0,1). The square bracket informs us that it can return zero and the round bracket tells us that it can never return 1. This function represents a uniform distribution which means the numbers are equally spread out over the interval of [0, 1)."
   ]
  },
  {
   "cell_type": "code",
   "execution_count": 2,
   "metadata": {},
   "outputs": [],
   "source": [
    "# import numpy library\n",
    "import numpy as np"
   ]
  },
  {
   "cell_type": "code",
   "execution_count": 3,
   "metadata": {},
   "outputs": [
    {
     "data": {
      "text/plain": [
       "array([[0.29914689, 0.81253523],\n",
       "       [0.5780041 , 0.36308815],\n",
       "       [0.61385799, 0.03603281],\n",
       "       [0.15605944, 0.3765665 ]])"
      ]
     },
     "execution_count": 3,
     "metadata": {},
     "output_type": "execute_result"
    }
   ],
   "source": [
    "# create an array of random numbers with 4 rows and 2 columns\n",
    "np.random.rand(4,2)"
   ]
  },
  {
   "cell_type": "code",
   "execution_count": 4,
   "metadata": {},
   "outputs": [
    {
     "data": {
      "text/plain": [
       "array([0.32643138, 0.08208267, 0.73708297, 0.57750848, 0.63621947,\n",
       "       0.1749492 , 0.38780885, 0.43903215, 0.21241394, 0.83242862])"
      ]
     },
     "execution_count": 4,
     "metadata": {},
     "output_type": "execute_result"
    }
   ],
   "source": [
    "# create an array of 10 random numbers \n",
    "np.random.rand(10)"
   ]
  },
  {
   "cell_type": "code",
   "execution_count": 5,
   "metadata": {},
   "outputs": [],
   "source": [
    "# import matplotlib library\n",
    "import matplotlib.pyplot as plt"
   ]
  },
  {
   "cell_type": "code",
   "execution_count": 6,
   "metadata": {},
   "outputs": [],
   "source": [
    "# create an array of 100 random numbers\n",
    "x = np.random.rand(100)"
   ]
  },
  {
   "cell_type": "code",
   "execution_count": 7,
   "metadata": {},
   "outputs": [
    {
     "data": {
      "text/plain": [
       "array([0.23534081, 0.60331618, 0.90318693, 0.22026081, 0.40804895,\n",
       "       0.87933554, 0.1371551 , 0.0658666 , 0.27934262, 0.11295176,\n",
       "       0.33135232, 0.2559462 , 0.92983633, 0.09243573, 0.74680172,\n",
       "       0.62042028, 0.63062848, 0.72224774, 0.5508316 , 0.90195059,\n",
       "       0.93695897, 0.18611783, 0.31435715, 0.33327145, 0.2791144 ,\n",
       "       0.46159718, 0.52835306, 0.59693297, 0.84670637, 0.89166666,\n",
       "       0.94681667, 0.31141633, 0.1326284 , 0.11623922, 0.41301321,\n",
       "       0.9069591 , 0.85586163, 0.59109303, 0.45399114, 0.02478251,\n",
       "       0.29719835, 0.52704632, 0.4198448 , 0.69984201, 0.0903844 ,\n",
       "       0.1124447 , 0.00167466, 0.98204793, 0.81319064, 0.67790496,\n",
       "       0.67119132, 0.90718004, 0.89014532, 0.8139705 , 0.04451661,\n",
       "       0.00681858, 0.96209395, 0.45922022, 0.54109176, 0.35520498,\n",
       "       0.89753362, 0.19155079, 0.43266025, 0.88076611, 0.7329791 ,\n",
       "       0.29244909, 0.35758671, 0.93870258, 0.62626942, 0.8909534 ,\n",
       "       0.88987314, 0.60130323, 0.80291891, 0.72381691, 0.879557  ,\n",
       "       0.0094644 , 0.66375572, 0.48912341, 0.64570489, 0.55156254,\n",
       "       0.37467938, 0.76760037, 0.87618678, 0.57957091, 0.98888215,\n",
       "       0.79691664, 0.76443925, 0.68036552, 0.57569558, 0.81930259,\n",
       "       0.09931842, 0.35935014, 0.63952292, 0.3579669 , 0.7232615 ,\n",
       "       0.62402741, 0.96767441, 0.39999351, 0.16079502, 0.21284092])"
      ]
     },
     "execution_count": 7,
     "metadata": {},
     "output_type": "execute_result"
    }
   ],
   "source": [
    "x"
   ]
  },
  {
   "cell_type": "code",
   "execution_count": 8,
   "metadata": {},
   "outputs": [
    {
     "data": {
      "text/plain": [
       "(array([ 9.,  8.,  8.,  9.,  9.,  8., 13.,  8., 13., 15.]),\n",
       " array([0.00167466, 0.10039541, 0.19911615, 0.2978369 , 0.39655765,\n",
       "        0.4952784 , 0.59399915, 0.6927199 , 0.79144065, 0.8901614 ,\n",
       "        0.98888215]),\n",
       " <a list of 10 Patch objects>)"
      ]
     },
     "execution_count": 8,
     "metadata": {},
     "output_type": "execute_result"
    },
    {
     "data": {
      "image/png": "[encoded data removed]",
      "text/plain": [
       "<Figure size 432x288 with 1 Axes>"
      ]
     },
     "metadata": {
      "needs_background": "light"
     },
     "output_type": "display_data"
    }
   ],
   "source": [
    "# plot a histogram of the x values generated randomly by the np.random.rand(100) function\n",
    "plt.hist(x)"
   ]
  },
  {
   "cell_type": "markdown",
   "metadata": {},
   "source": [
    "#### numpy.random.rand histogram\n",
    "\n",
    "The histogram above shows a uniform distribution where the random numbers are equally spread over the interval [0, 1)."
   ]
  },
  {
   "cell_type": "markdown",
   "metadata": {},
   "source": [
    "### numpy.random.randn\n",
    "\n",
    "Creates a random array of floating point numbers which represent a normal distribution. The values are described by two numbers - the mean and the variance. The mean value is zero and the variance is 1."
   ]
  },
  {
   "cell_type": "code",
   "execution_count": 37,
   "metadata": {},
   "outputs": [],
   "source": [
    "# create an array of 200 floating point numbers\n",
    "x = np.random.randn(200)"
   ]
  },
  {
   "cell_type": "code",
   "execution_count": 38,
   "metadata": {
    "scrolled": true
   },
   "outputs": [
    {
     "data": {
      "text/plain": [
       "array([ 1.44260289e+00, -1.38898994e+00, -5.60325969e-01,  1.48634888e+00,\n",
       "       -1.10204496e+00, -3.20137432e-01, -1.45595398e-01,  2.62509463e-02,\n",
       "       -7.79615004e-01,  9.59695365e-01, -1.28109569e-01,  2.19101113e-01,\n",
       "       -3.98011119e-01, -4.38321952e-01,  4.97993185e-01,  7.21161641e-01,\n",
       "        2.80624169e-01,  6.40007043e-01, -2.73100606e-01,  4.12822103e-01,\n",
       "        3.62438212e-01,  1.37028599e+00,  6.56836252e-01,  1.82770245e+00,\n",
       "       -1.37645101e+00,  1.87429978e+00, -3.55169759e-01, -2.00344961e+00,\n",
       "       -9.96330417e-01, -9.58966899e-01, -4.63550814e-01,  9.23447806e-02,\n",
       "       -5.37095662e-01,  3.79037117e-01, -1.08443029e+00, -1.10903275e+00,\n",
       "        1.21101598e+00,  1.69636814e-01,  8.15578910e-01, -2.75031121e-01,\n",
       "       -1.66625623e+00,  7.74793321e-01, -1.85633040e-01,  6.50770646e-02,\n",
       "        6.51421449e-01, -7.15927767e-02,  6.32047490e-02, -4.44035881e-01,\n",
       "        5.57440657e-01,  9.55719073e-01, -3.40985360e-01,  9.58053978e-01,\n",
       "       -1.39641276e+00, -3.87666331e-01,  1.19170257e+00, -6.51667750e-01,\n",
       "        9.17447551e-01, -3.79354330e-01,  9.63628678e-01,  9.16934230e-01,\n",
       "        2.27004717e-01,  2.20682524e+00, -1.70632502e+00,  1.82292120e+00,\n",
       "        1.39705754e+00, -1.84605014e+00, -2.56185500e+00,  5.95788184e-01,\n",
       "       -1.49599559e+00, -1.28415050e+00,  1.02893055e+00,  2.47539201e-01,\n",
       "       -5.62906155e-01, -5.07302259e-01, -5.06335925e-01, -1.51515136e+00,\n",
       "        1.43664999e+00,  7.33625882e-01, -1.38561757e+00, -7.53109485e-01,\n",
       "       -1.29187260e+00,  1.86042812e+00,  4.72192192e-02, -7.27248977e-01,\n",
       "       -1.74094264e+00,  1.19574757e+00,  7.93264499e-01,  4.10848579e-01,\n",
       "       -3.39534582e-01, -1.95825615e+00, -1.48040136e+00, -1.52253963e+00,\n",
       "       -2.88286143e-01, -7.90949434e-02, -1.66081397e+00,  4.36695130e-01,\n",
       "       -1.71337808e-01,  2.10797399e-01,  5.36459891e-01,  2.64826594e-01,\n",
       "       -4.74012311e-01,  1.00157180e+00,  1.53424734e+00,  1.35027394e+00,\n",
       "        3.97343582e-01,  3.45808484e-01, -8.45363140e-01,  4.67698970e-01,\n",
       "        1.27623383e-03, -3.01450259e-01, -1.96539127e+00,  2.02463484e+00,\n",
       "       -1.96515685e+00, -1.52098331e-01, -1.55596018e-01, -1.24545064e+00,\n",
       "        2.47049192e+00,  2.37761471e-01,  3.33889372e-01, -1.52331131e-01,\n",
       "        8.93722371e-01,  1.13726544e+00, -4.80628579e-01,  4.26063028e-01,\n",
       "        1.06521931e-01, -3.31027159e-03,  2.06314308e-01, -7.54860665e-01,\n",
       "       -9.95360643e-02,  1.26129397e+00, -9.19359344e-01, -1.20815640e-01,\n",
       "       -1.17181978e-01, -8.27957611e-01,  1.74049937e+00, -1.13687940e-02,\n",
       "       -1.07797182e+00,  1.36348180e+00, -1.13099421e+00, -1.45634824e+00,\n",
       "       -8.84325317e-01, -2.08040719e+00,  1.51976265e-01,  3.90208959e-01,\n",
       "        4.48074901e-01, -1.31127849e+00,  2.00377627e+00,  1.67874926e+00,\n",
       "        1.16801161e-01, -1.87448868e+00, -2.44921786e-01, -6.36190692e-01,\n",
       "        1.24245617e-01,  1.10162090e+00, -5.51130104e-01, -1.33275786e+00,\n",
       "        7.64487467e-01, -1.03937530e+00, -1.16156032e-01,  6.95387274e-01,\n",
       "       -4.80920085e-01, -3.04584140e-01, -1.10471883e+00, -1.06764268e+00,\n",
       "        2.09965461e-01,  7.51005402e-01, -2.06070869e-01, -8.98258604e-01,\n",
       "       -9.70142386e-01, -2.19974463e-01,  3.57342475e-01,  2.27173754e+00,\n",
       "       -1.08715713e+00, -8.69690087e-02, -1.15095816e-01, -2.29145564e+00,\n",
       "        1.75145236e-01,  1.58200022e+00,  1.51405526e+00, -2.17440388e-03,\n",
       "        2.23272801e-01, -6.67750603e-01, -2.04228765e-01, -9.33513226e-01,\n",
       "       -5.39811077e-01,  8.71037804e-01, -5.54819214e-01,  8.94595907e-01,\n",
       "       -5.13893567e-01,  1.21540677e-02, -2.86931816e-01,  9.57739907e-01,\n",
       "        1.30527758e-01, -1.31396227e+00, -8.81193746e-01,  7.27633434e-01,\n",
       "       -1.12225974e+00,  1.64688380e+00, -4.87274812e-01, -7.87092269e-01])"
      ]
     },
     "execution_count": 38,
     "metadata": {},
     "output_type": "execute_result"
    }
   ],
   "source": [
    "x"
   ]
  },
  {
   "cell_type": "code",
   "execution_count": 39,
   "metadata": {},
   "outputs": [
    {
     "data": {
      "text/plain": [
       "(array([ 3., 10., 24., 23., 44., 39., 26., 15., 11.,  5.]),\n",
       " array([-2.561855  , -2.0586203 , -1.55538561, -1.05215092, -0.54891623,\n",
       "        -0.04568154,  0.45755315,  0.96078785,  1.46402254,  1.96725723,\n",
       "         2.47049192]),\n",
       " <a list of 10 Patch objects>)"
      ]
     },
     "execution_count": 39,
     "metadata": {},
     "output_type": "execute_result"
    },
    {
     "data": {
      "image/png": "[encoded data removed]",
      "text/plain": [
       "<Figure size 432x288 with 1 Axes>"
      ]
     },
     "metadata": {
      "needs_background": "light"
     },
     "output_type": "display_data"
    }
   ],
   "source": [
    "# plot a histogram of the x values generating randomly by the np.random.randn function\n",
    "plt.hist(x)"
   ]
  },
  {
   "cell_type": "markdown",
   "metadata": {},
   "source": [
    "#### numpy.random.randn histogram\n",
    "\n",
    "The histogram shows a normal distribution where the numbers are centred around the mean of zero and the variance is 1. This is known as the bell shaped curve. When I first created an array using the numpy.random.randn function I only used a sample size of 50. This lower sample size did not represent the bell shaped curve as well as i expected so I increased the sample size to 200 which produced a better shape as shown above."
   ]
  },
  {
   "cell_type": "markdown",
   "metadata": {},
   "source": [
    "### numpy.random.randint\n",
    "\n",
    "This function creates a random integer N where a <= N <= b. The randint function accepts two parameters a lowest number and a highest number."
   ]
  },
  {
   "cell_type": "code",
   "execution_count": 43,
   "metadata": {},
   "outputs": [],
   "source": [
    "# use the random.randint function to pick an integer between 1 and 6\n",
    "x = np.random.randint(1, 6)"
   ]
  },
  {
   "cell_type": "code",
   "execution_count": 44,
   "metadata": {},
   "outputs": [
    {
     "data": {
      "text/plain": [
       "5"
      ]
     },
     "execution_count": 44,
     "metadata": {},
     "output_type": "execute_result"
    }
   ],
   "source": [
    "x"
   ]
  },
  {
   "cell_type": "markdown",
   "metadata": {},
   "source": [
    "### numpy.random.choice\n",
    "\n",
    "The choice function can be used to select a random element from a given list. The elements can be numbers or strings."
   ]
  },
  {
   "cell_type": "code",
   "execution_count": 50,
   "metadata": {},
   "outputs": [],
   "source": [
    "# use the random.choice function to randomly select a piece of fruit\n",
    "fruit = ['Apple', 'Banana', 'Pear']\n",
    "x = np.random.choice(fruit)"
   ]
  },
  {
   "cell_type": "code",
   "execution_count": 51,
   "metadata": {},
   "outputs": [
    {
     "data": {
      "text/plain": [
       "'Banana'"
      ]
     },
     "execution_count": 51,
     "metadata": {},
     "output_type": "execute_result"
    }
   ],
   "source": [
    "x"
   ]
  },
  {
   "cell_type": "code",
   "execution_count": 47,
   "metadata": {},
   "outputs": [],
   "source": [
    "# use the random.choice function to randomly select a number\n",
    "numbers = [1, 2, 3, 4]\n",
    "x = np.random.choice(numbers)"
   ]
  },
  {
   "cell_type": "code",
   "execution_count": 46,
   "metadata": {},
   "outputs": [
    {
     "data": {
      "text/plain": [
       "2"
      ]
     },
     "execution_count": 46,
     "metadata": {},
     "output_type": "execute_result"
    }
   ],
   "source": [
    "x"
   ]
  },
  {
   "cell_type": "markdown",
   "metadata": {},
   "source": [
    "The numpy.random.choice function can be used for a wide range of examples. The Python documentation uses an example whereby the colours on a roulette are provided as a list and picked at random or another example I've seen whilst researching this function online is the rock, paper, scissors game."
   ]
  },
  {
   "cell_type": "markdown",
   "metadata": {},
   "source": [
    "## Distributions\n",
    "\n",
    "There are a number of distribution functions included in the numpy.random module. In this section I will explain the following five sdistribution functions using examples and graphs:\n",
    "\n",
    "- numpy.random.uniform\n",
    "- numpy.random.normal\n",
    "- numpy.random.poisson\n",
    "- numpy.random.chisquare\n",
    "- numpy.random.binomial"
   ]
  },
  {
   "cell_type": "markdown",
   "metadata": {},
   "source": [
    "### numpy.random.uniform\n",
    "\n",
    "Returns a random array of numbers with a uniform distribution, where the output interval [low, high) includes the low value but excludes the high value."
   ]
  },
  {
   "cell_type": "code",
   "execution_count": 74,
   "metadata": {},
   "outputs": [],
   "source": [
    "# create an array where x >= 0, x < 5 with 100 elements.\n",
    "x = np.random.uniform(0,5,100)"
   ]
  },
  {
   "cell_type": "code",
   "execution_count": 75,
   "metadata": {
    "scrolled": false
   },
   "outputs": [
    {
     "data": {
      "text/plain": [
       "array([1.87863455, 0.08311122, 1.4505009 , 0.41987725, 1.71597064,\n",
       "       4.18724524, 1.66372348, 2.82694128, 4.25860658, 3.60448828,\n",
       "       4.60316203, 3.55046025, 3.48956568, 0.60105513, 2.65443765,\n",
       "       3.21843311, 3.34253742, 3.3756911 , 0.22682399, 2.12103551,\n",
       "       4.28625421, 2.7128778 , 1.72598377, 1.57114936, 2.35169575,\n",
       "       2.5313527 , 4.31633068, 0.61741184, 3.80584899, 3.47845185,\n",
       "       3.06005719, 1.98609656, 2.08083704, 4.32750192, 4.42331154,\n",
       "       0.8676491 , 3.90745511, 2.01347862, 2.23612317, 2.40441351,\n",
       "       1.42646338, 0.15035261, 2.31412538, 3.91914731, 4.62196951,\n",
       "       3.481383  , 2.21993975, 4.34085492, 0.00546347, 1.2375678 ,\n",
       "       4.13242144, 3.71218551, 1.56583125, 2.14963346, 4.12363659,\n",
       "       1.41678055, 3.97993264, 3.26286737, 2.55825736, 4.53972298,\n",
       "       4.89231672, 0.66316066, 4.73811187, 2.90651514, 4.43106962,\n",
       "       4.57353345, 4.00341632, 0.94405707, 4.87691339, 4.41539297,\n",
       "       4.59884054, 2.86386425, 1.69253811, 0.22368329, 3.88201486,\n",
       "       2.45420995, 0.07356648, 0.7230109 , 3.39965872, 0.72041583,\n",
       "       1.04557663, 2.37141862, 0.2604548 , 3.11254073, 0.3591792 ,\n",
       "       2.59868991, 1.06580107, 2.86075288, 1.75249286, 1.84190099,\n",
       "       1.1027085 , 2.73046616, 4.19744299, 2.0088724 , 3.41664176,\n",
       "       0.42321418, 4.58168168, 1.11575881, 0.69151002, 1.74615844])"
      ]
     },
     "execution_count": 75,
     "metadata": {},
     "output_type": "execute_result"
    }
   ],
   "source": [
    "x"
   ]
  },
  {
   "cell_type": "code",
   "execution_count": 76,
   "metadata": {},
   "outputs": [
    {
     "data": {
      "text/plain": [
       "(array([6., 4., 6., 2., 4., 4., 4., 6., 6., 6., 5., 6., 2., 6., 5., 4., 5.,\n",
       "        7., 9., 3.]),\n",
       " array([0.00546347, 0.24980613, 0.49414879, 0.73849145, 0.98283412,\n",
       "        1.22717678, 1.47151944, 1.71586211, 1.96020477, 2.20454743,\n",
       "        2.44889009, 2.69323276, 2.93757542, 3.18191808, 3.42626074,\n",
       "        3.67060341, 3.91494607, 4.15928873, 4.40363139, 4.64797406,\n",
       "        4.89231672]),\n",
       " <a list of 20 Patch objects>)"
      ]
     },
     "execution_count": 76,
     "metadata": {},
     "output_type": "execute_result"
    },
    {
     "data": {
      "image/png": "[encoded data removed]",
      "text/plain": [
       "<Figure size 432x288 with 1 Axes>"
      ]
     },
     "metadata": {
      "needs_background": "light"
     },
     "output_type": "display_data"
    }
   ],
   "source": [
    "# plot a histogram for the function np.random.uniform with 20 bins\n",
    "plt.hist(x, bins=20)"
   ]
  },
  {
   "cell_type": "markdown",
   "metadata": {},
   "source": [
    "### Verify the low value, high value and number of elements in the array"
   ]
  },
  {
   "cell_type": "code",
   "execution_count": 77,
   "metadata": {},
   "outputs": [
    {
     "data": {
      "text/plain": [
       "True"
      ]
     },
     "execution_count": 77,
     "metadata": {},
     "output_type": "execute_result"
    }
   ],
   "source": [
    "np.all(x >= 0)"
   ]
  },
  {
   "cell_type": "code",
   "execution_count": 78,
   "metadata": {},
   "outputs": [
    {
     "data": {
      "text/plain": [
       "True"
      ]
     },
     "execution_count": 78,
     "metadata": {},
     "output_type": "execute_result"
    }
   ],
   "source": [
    "np.all(x < 5)"
   ]
  },
  {
   "cell_type": "code",
   "execution_count": 79,
   "metadata": {},
   "outputs": [
    {
     "data": {
      "text/plain": [
       "('Size of the array: ', 100)"
      ]
     },
     "execution_count": 79,
     "metadata": {},
     "output_type": "execute_result"
    }
   ],
   "source": [
    "(\"Size of the array: \", x.size)"
   ]
  },
  {
   "cell_type": "markdown",
   "metadata": {},
   "source": [
    "### numpy.random.normal\n",
    "\n",
    "The numpy.random.normal function returns a random array of numbers which are defined by two numbers, the mean and the standard deviation. This function produces a normal distribution also known as the bell shaped curve. The bell shaped curve peaks at its mean and the standard deviation describes how wide or narrow the curve is."
   ]
  },
  {
   "cell_type": "code",
   "execution_count": 90,
   "metadata": {},
   "outputs": [],
   "source": [
    "# create an array centred around zero, standard deviation or spread of 0.2 and 200 elements\n",
    "x = np.random.normal(0, 0.2, 200)"
   ]
  },
  {
   "cell_type": "code",
   "execution_count": 91,
   "metadata": {
    "scrolled": true
   },
   "outputs": [
    {
     "data": {
      "text/plain": [
       "array([ 0.18231547, -0.19606761,  0.17801724,  0.14996513, -0.25030134,\n",
       "       -0.11358166, -0.05511115,  0.08295779, -0.13635437, -0.0866399 ,\n",
       "        0.04743432,  0.1591347 ,  0.03145432,  0.00103781,  0.08778711,\n",
       "        0.22082023,  0.33417184, -0.15625271, -0.27660114,  0.00422824,\n",
       "       -0.05290571, -0.24177075,  0.31543714,  0.23014605,  0.21619806,\n",
       "        0.40162719,  0.05176924,  0.16976485,  0.09642873,  0.18591195,\n",
       "        0.10702173, -0.0793257 , -0.03024928, -0.13847922,  0.15501299,\n",
       "       -0.42181554, -0.14230403,  0.02669547, -0.69159418, -0.1701283 ,\n",
       "        0.19717596, -0.06863855,  0.00153814,  0.08328953, -0.14484383,\n",
       "       -0.2364265 , -0.11264764, -0.24056442,  0.1410518 ,  0.10977327,\n",
       "        0.22704509, -0.22676419,  0.17487378,  0.25444646,  0.02420759,\n",
       "       -0.04535137,  0.62030838, -0.11176462, -0.09457606, -0.11986024,\n",
       "       -0.15649798,  0.17753485, -0.49500038, -0.02706486, -0.03845349,\n",
       "        0.2351815 ,  0.0344815 , -0.02562731, -0.35583843,  0.08662037,\n",
       "       -0.04075793,  0.02781067,  0.01293972,  0.39082095, -0.27094472,\n",
       "       -0.28528317, -0.07042187,  0.14073523,  0.13958905, -0.03925939,\n",
       "       -0.11914889, -0.00928399, -0.21128312,  0.1366071 , -0.08303435,\n",
       "        0.45027526,  0.48693325,  0.22626065, -0.01470472, -0.2298468 ,\n",
       "        0.05744065,  0.01439427,  0.26720099, -0.09004653,  0.2489289 ,\n",
       "        0.02741093,  0.30684226, -0.08676074, -0.23107372, -0.21934984,\n",
       "       -0.08200785,  0.08040174, -0.01056223,  0.26356669, -0.03758997,\n",
       "        0.10538731, -0.22327026,  0.06272556, -0.35110747, -0.02534479,\n",
       "        0.0716829 , -0.10763691, -0.1150381 , -0.17277733, -0.16916531,\n",
       "        0.18051634,  0.14143219, -0.24176869, -0.30835092, -0.35618695,\n",
       "        0.10356215, -0.04420315,  0.06774139,  0.10770307, -0.14190961,\n",
       "       -0.08749978, -0.28707803,  0.35836154, -0.03715597,  0.12481709,\n",
       "        0.12480684, -0.37212727, -0.19046762, -0.29350798,  0.29714429,\n",
       "        0.28525371,  0.27822407, -0.23179506, -0.1293983 ,  0.3233119 ,\n",
       "        0.06411773, -0.24754195,  0.02154808,  0.23971341, -0.08292793,\n",
       "        0.20528912,  0.02330082,  0.14930373, -0.28448736, -0.12840368,\n",
       "        0.11436749, -0.15708072, -0.05302621,  0.05011306, -0.13964379,\n",
       "       -0.11077267,  0.13536087, -0.05514531,  0.10698334,  0.11773511,\n",
       "       -0.26381858, -0.20401961,  0.04716787,  0.03816407, -0.03784742,\n",
       "        0.12350225, -0.07811798, -0.30103154, -0.26860141, -0.17818315,\n",
       "       -0.13067055, -0.11917688,  0.03199834,  0.30668174,  0.10494274,\n",
       "       -0.14272733,  0.29791522,  0.10977779,  0.07742889,  0.16239647,\n",
       "       -0.01684113,  0.19131161, -0.25131106, -0.04970779, -0.11590339,\n",
       "       -0.02481268, -0.09221173, -0.22915378, -0.04271499, -0.31170004,\n",
       "       -0.33833773,  0.05116273,  0.13999827, -0.04796613,  0.3637263 ,\n",
       "        0.08178296, -0.11760857, -0.27847402, -0.04380745, -0.18488058])"
      ]
     },
     "execution_count": 91,
     "metadata": {},
     "output_type": "execute_result"
    }
   ],
   "source": [
    "x"
   ]
  },
  {
   "cell_type": "code",
   "execution_count": 92,
   "metadata": {},
   "outputs": [
    {
     "data": {
      "text/plain": [
       "(array([ 1.,  1.,  9., 32., 53., 41., 39., 17.,  6.,  1.]),\n",
       " array([-0.69159418, -0.56040393, -0.42921367, -0.29802341, -0.16683316,\n",
       "        -0.0356429 ,  0.09554736,  0.22673761,  0.35792787,  0.48911812,\n",
       "         0.62030838]),\n",
       " <a list of 10 Patch objects>)"
      ]
     },
     "execution_count": 92,
     "metadata": {},
     "output_type": "execute_result"
    },
    {
     "data": {
      "image/png": "[encoded data removed]",
      "text/plain": [
       "<Figure size 432x288 with 1 Axes>"
      ]
     },
     "metadata": {
      "needs_background": "light"
     },
     "output_type": "display_data"
    }
   ],
   "source": [
    "plt.hist(x)"
   ]
  },
  {
   "cell_type": "markdown",
   "metadata": {},
   "source": [
    "### Verify the mean and variance"
   ]
  },
  {
   "cell_type": "code",
   "execution_count": 93,
   "metadata": {},
   "outputs": [
    {
     "data": {
      "text/plain": [
       "True"
      ]
     },
     "execution_count": 93,
     "metadata": {},
     "output_type": "execute_result"
    }
   ],
   "source": [
    "abs(0 - np.mean(x)) < 0.2"
   ]
  },
  {
   "cell_type": "code",
   "execution_count": 94,
   "metadata": {},
   "outputs": [
    {
     "data": {
      "text/plain": [
       "True"
      ]
     },
     "execution_count": 94,
     "metadata": {},
     "output_type": "execute_result"
    }
   ],
   "source": [
    "abs(0.2 - np.std(x, ddof=1)) < 0.2"
   ]
  },
  {
   "cell_type": "markdown",
   "metadata": {},
   "source": [
    "## numpy.random.poisson\n",
    "\n",
    "The numpy.random.poisson function draws samples from a poisson distribution. The poisson distribution is a discrete probability distribution where each occurrence is independent of other occurrences over a certain time interval. The poisson distribution is useful for measuring the number of times an event occurs within a particular time interval.\n"
   ]
  },
  {
   "cell_type": "code",
   "execution_count": 101,
   "metadata": {},
   "outputs": [],
   "source": [
    "# \n",
    "x = np.random.poisson(10, 100)"
   ]
  },
  {
   "cell_type": "code",
   "execution_count": 99,
   "metadata": {},
   "outputs": [
    {
     "data": {
      "text/plain": [
       "array([10, 12, 12,  8,  9, 15,  6,  6,  9, 15, 15,  6,  9,  9,  6, 13, 16,\n",
       "       11,  7,  5,  6,  9,  9, 11,  7, 13,  7, 11,  9, 14,  6,  8, 12, 16,\n",
       "       10,  9, 16, 10, 11,  4,  7,  7, 12, 14,  6,  8,  6, 11,  8, 14, 12,\n",
       "        8, 12,  4,  5, 15,  6, 10,  9,  8,  5, 14,  6,  5,  8, 10,  5, 10,\n",
       "       11,  7,  8, 12,  8,  6, 11,  9,  9, 10, 14, 15, 10, 10, 10,  5, 10,\n",
       "        8,  7,  6,  4, 11, 12,  6, 14, 14,  6, 12, 10,  9, 11,  8])"
      ]
     },
     "execution_count": 99,
     "metadata": {},
     "output_type": "execute_result"
    }
   ],
   "source": [
    "x"
   ]
  },
  {
   "cell_type": "code",
   "execution_count": 100,
   "metadata": {},
   "outputs": [
    {
     "data": {
      "text/plain": [
       "(array([ 9., 14.,  7., 11., 12., 21.,  9.,  2.,  7.,  8.]),\n",
       " array([ 4. ,  5.2,  6.4,  7.6,  8.8, 10. , 11.2, 12.4, 13.6, 14.8, 16. ]),\n",
       " <a list of 10 Patch objects>)"
      ]
     },
     "execution_count": 100,
     "metadata": {},
     "output_type": "execute_result"
    },
    {
     "data": {
      "image/png": "[encoded data removed]",
      "text/plain": [
       "<Figure size 432x288 with 1 Axes>"
      ]
     },
     "metadata": {
      "needs_background": "light"
     },
     "output_type": "display_data"
    }
   ],
   "source": [
    "plt.hist(x)"
   ]
  },
  {
   "cell_type": "markdown",
   "metadata": {},
   "source": [
    "## numpy.random.chisquared"
   ]
  },
  {
   "cell_type": "code",
   "execution_count": null,
   "metadata": {},
   "outputs": [],
   "source": []
  },
  {
   "cell_type": "code",
   "execution_count": null,
   "metadata": {},
   "outputs": [],
   "source": []
  },
  {
   "cell_type": "code",
   "execution_count": null,
   "metadata": {},
   "outputs": [],
   "source": []
  },
  {
   "cell_type": "markdown",
   "metadata": {},
   "source": [
    "## numpy.random.binomial"
   ]
  },
  {
   "cell_type": "code",
   "execution_count": null,
   "metadata": {},
   "outputs": [],
   "source": []
  },
  {
   "cell_type": "code",
   "execution_count": null,
   "metadata": {},
   "outputs": [],
   "source": []
  },
  {
   "cell_type": "code",
   "execution_count": null,
   "metadata": {},
   "outputs": [],
   "source": []
  },
  {
   "cell_type": "markdown",
   "metadata": {},
   "source": [
    "## Permutations Functions\n",
    "\n",
    "There are two permutation functions:\n",
    "\n",
    "- numpy.random.shuffle\n",
    "- numpy.random.permutation"
   ]
  },
  {
   "cell_type": "markdown",
   "metadata": {},
   "source": [
    "### numpy.random.shuffle\n",
    "Modifies an array of numbers by shuffling it's elements."
   ]
  },
  {
   "cell_type": "code",
   "execution_count": 26,
   "metadata": {},
   "outputs": [],
   "source": [
    "# create a list of 6 numbers from 0 to 5\n",
    "x = np.arange(6)"
   ]
  },
  {
   "cell_type": "code",
   "execution_count": 27,
   "metadata": {},
   "outputs": [
    {
     "data": {
      "text/plain": [
       "array([0, 1, 2, 3, 4, 5])"
      ]
     },
     "execution_count": 27,
     "metadata": {},
     "output_type": "execute_result"
    }
   ],
   "source": [
    "x"
   ]
  },
  {
   "cell_type": "code",
   "execution_count": 28,
   "metadata": {},
   "outputs": [],
   "source": [
    "# modify the list of 6 numbers\n",
    "np.random.shuffle(x)"
   ]
  },
  {
   "cell_type": "code",
   "execution_count": 29,
   "metadata": {},
   "outputs": [
    {
     "data": {
      "text/plain": [
       "array([4, 3, 5, 0, 2, 1])"
      ]
     },
     "execution_count": 29,
     "metadata": {},
     "output_type": "execute_result"
    }
   ],
   "source": [
    "x"
   ]
  },
  {
   "cell_type": "markdown",
   "metadata": {},
   "source": [
    "### numpy.random.permutation\n",
    "Alters the order of an array of numbers"
   ]
  },
  {
   "cell_type": "code",
   "execution_count": 30,
   "metadata": {},
   "outputs": [],
   "source": [
    "# create a list of 9 numbers from 0 to 8\n",
    "x = np.arange(9)"
   ]
  },
  {
   "cell_type": "code",
   "execution_count": 31,
   "metadata": {},
   "outputs": [
    {
     "data": {
      "text/plain": [
       "array([0, 1, 2, 3, 4, 5, 6, 7, 8])"
      ]
     },
     "execution_count": 31,
     "metadata": {},
     "output_type": "execute_result"
    }
   ],
   "source": [
    "x"
   ]
  },
  {
   "cell_type": "code",
   "execution_count": 32,
   "metadata": {},
   "outputs": [
    {
     "data": {
      "text/plain": [
       "array([8, 1, 7, 4, 6, 3, 0, 2, 5])"
      ]
     },
     "execution_count": 32,
     "metadata": {},
     "output_type": "execute_result"
    }
   ],
   "source": [
    "# alter the order of the list of 9 numbers\n",
    "np.random.permutation(x)"
   ]
  },
  {
   "cell_type": "markdown",
   "metadata": {},
   "source": [
    "The difference between the numpy.random.shuffle function and the numpy.random.permutation function is ......"
   ]
  },
  {
   "cell_type": "markdown",
   "metadata": {},
   "source": [
    "## Random Generator and Seeds"
   ]
  },
  {
   "cell_type": "code",
   "execution_count": null,
   "metadata": {},
   "outputs": [],
   "source": []
  },
  {
   "cell_type": "code",
   "execution_count": null,
   "metadata": {},
   "outputs": [],
   "source": []
  },
  {
   "cell_type": "code",
   "execution_count": null,
   "metadata": {},
   "outputs": [],
   "source": []
  },
  {
   "cell_type": "markdown",
   "metadata": {},
   "source": [
    "## References\n",
    "\n",
    "https://docs.scipy.org/doc/numpy/\n",
    "\n",
    "\n",
    "https://realpython.com/python-random/\n",
    "\n",
    "\n",
    "https://docs.python.org/2/library/random.html"
   ]
  },
  {
   "cell_type": "code",
   "execution_count": null,
   "metadata": {},
   "outputs": [],
   "source": []
  }
 ],
 "metadata": {
  "kernelspec": {
   "display_name": "Python 3",
   "language": "python",
   "name": "python3"
  },
  "language_info": {
   "codemirror_mode": {
    "name": "ipython",
    "version": 3
   },
   "file_extension": ".py",
   "mimetype": "text/x-python",
   "name": "python",
   "nbconvert_exporter": "python",
   "pygments_lexer": "ipython3",
   "version": "3.7.0"
  }
 },
 "nbformat": 4,
 "nbformat_minor": 2
}
