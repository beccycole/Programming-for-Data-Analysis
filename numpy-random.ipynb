{
 "cells": [
  {
   "cell_type": "markdown",
   "metadata": {},
   "source": [
    "# The numpy.random package\n",
    "\n",
    "Numpy.random is a submodule of the Python library called Numpy. This submodule is a tool for creating random numbers, which can be used for simulating data. The Mersenne Twister algorithm in numpy.random is used to generate pseudorandom numbers. The Mersenne Twister is one of the most extensively tested random number generators in existence."
   ]
  },
  {
   "cell_type": "markdown",
   "metadata": {},
   "source": [
    "## Simple Random Data\n",
    "\n",
    "There are a number of simple random data functions included in the numpy.random module which can be used for creating random numbers of varying types. In this section I will explain the following four simple random data functions using examples and graphs:\n",
    "\n",
    "- numpy.random.rand\n",
    "- numpy.random.randn\n",
    "- numpy.random.randint\n",
    "- numpy.random.choice"
   ]
  },
  {
   "cell_type": "markdown",
   "metadata": {},
   "source": [
    "### numpy.random.rand\n",
    "\n",
    "Creates a random array of positive floating point numbers in a given shape. The output values are in the interval [0,1). The square bracket informs us that it can return zero and the round bracket tells us that it can never return 1. This function represents a uniform distribution which means the numbers are equally spread out over the interval of [0, 1)."
   ]
  },
  {
   "cell_type": "code",
   "execution_count": 3,
   "metadata": {},
   "outputs": [],
   "source": [
    "# import numpy library\n",
    "import numpy as np"
   ]
  },
  {
   "cell_type": "code",
   "execution_count": 4,
   "metadata": {},
   "outputs": [
    {
     "data": {
      "text/plain": [
       "array([[0.33963201, 0.77161968],\n",
       "       [0.95202621, 0.28832211],\n",
       "       [0.68928163, 0.538062  ],\n",
       "       [0.82066137, 0.44893694]])"
      ]
     },
     "execution_count": 4,
     "metadata": {},
     "output_type": "execute_result"
    }
   ],
   "source": [
    "# create an array of random numbers with 4 rows and 2 columns\n",
    "np.random.rand(4,2)"
   ]
  },
  {
   "cell_type": "code",
   "execution_count": 5,
   "metadata": {},
   "outputs": [
    {
     "data": {
      "text/plain": [
       "array([0.22562042, 0.12639717, 0.60744442, 0.88762954, 0.93278068,\n",
       "       0.99049036, 0.6573155 , 0.19011082, 0.47357639, 0.43588489])"
      ]
     },
     "execution_count": 5,
     "metadata": {},
     "output_type": "execute_result"
    }
   ],
   "source": [
    "# create an array of 10 random numbers \n",
    "np.random.rand(10)"
   ]
  },
  {
   "cell_type": "code",
   "execution_count": 6,
   "metadata": {},
   "outputs": [],
   "source": [
    "# import matplotlib library\n",
    "import matplotlib.pyplot as plt"
   ]
  },
  {
   "cell_type": "code",
   "execution_count": 7,
   "metadata": {},
   "outputs": [],
   "source": [
    "# create an array of 100 random numbers\n",
    "x = np.random.rand(100)"
   ]
  },
  {
   "cell_type": "code",
   "execution_count": 8,
   "metadata": {
    "scrolled": false
   },
   "outputs": [
    {
     "data": {
      "text/plain": [
       "array([0.29259723, 0.6908114 , 0.03171115, 0.94152816, 0.59454229,\n",
       "       0.43032554, 0.6807686 , 0.65115231, 0.18517708, 0.84153318,\n",
       "       0.52629451, 0.28020415, 0.42816831, 0.223579  , 0.08842349,\n",
       "       0.35479406, 0.20455533, 0.67885588, 0.64049149, 0.94961057,\n",
       "       0.69621373, 0.32231226, 0.73992484, 0.16048239, 0.24866306,\n",
       "       0.14466358, 0.64601011, 0.81307606, 0.0267945 , 0.60549509,\n",
       "       0.4102213 , 0.10966243, 0.84190677, 0.55126849, 0.65388894,\n",
       "       0.15876133, 0.36361909, 0.15476623, 0.6108625 , 0.17582858,\n",
       "       0.85340738, 0.42530273, 0.48760977, 0.69612787, 0.81258877,\n",
       "       0.82393154, 0.33891853, 0.50714812, 0.30531661, 0.55819564,\n",
       "       0.19818499, 0.49497302, 0.96823832, 0.22076834, 0.32222792,\n",
       "       0.77959784, 0.93682026, 0.6429912 , 0.1236212 , 0.32559897,\n",
       "       0.70018776, 0.06374632, 0.80400965, 0.94045536, 0.08861799,\n",
       "       0.20838586, 0.28815132, 0.07258015, 0.32121523, 0.30396302,\n",
       "       0.37352541, 0.06469527, 0.32618447, 0.42531639, 0.09129863,\n",
       "       0.35068527, 0.02346007, 0.13307263, 0.48150485, 0.18222394,\n",
       "       0.31326102, 0.91648733, 0.05091275, 0.06195314, 0.35422533,\n",
       "       0.09424214, 0.37649242, 0.0136962 , 0.69800758, 0.92656296,\n",
       "       0.66957553, 0.92219084, 0.94857464, 0.17414933, 0.41017848,\n",
       "       0.04306426, 0.54042477, 0.516582  , 0.75395103, 0.98012025])"
      ]
     },
     "execution_count": 8,
     "metadata": {},
     "output_type": "execute_result"
    }
   ],
   "source": [
    "x"
   ]
  },
  {
   "cell_type": "code",
   "execution_count": 9,
   "metadata": {},
   "outputs": [
    {
     "data": {
      "text/plain": [
       "(array([15., 12.,  7., 15.,  9.,  6., 11.,  8.,  7., 10.]),\n",
       " array([0.0136962 , 0.1103386 , 0.20698101, 0.30362341, 0.40026582,\n",
       "        0.49690822, 0.59355063, 0.69019303, 0.78683544, 0.88347784,\n",
       "        0.98012025]),\n",
       " <a list of 10 Patch objects>)"
      ]
     },
     "execution_count": 9,
     "metadata": {},
     "output_type": "execute_result"
    },
    {
     "data": {
      "image/png": "[encoded data removed]",
      "text/plain": [
       "<Figure size 432x288 with 1 Axes>"
      ]
     },
     "metadata": {
      "needs_background": "light"
     },
     "output_type": "display_data"
    }
   ],
   "source": [
    "# plot a histogram of the x values generated randomly by the np.random.rand(100) function\n",
    "plt.hist(x)"
   ]
  },
  {
   "cell_type": "markdown",
   "metadata": {},
   "source": [
    "#### numpy.random.rand histogram\n",
    "\n",
    "The histogram above shows a uniform distribution where the random numbers are equally spread over the interval [0, 1)."
   ]
  },
  {
   "cell_type": "markdown",
   "metadata": {},
   "source": [
    "### numpy.random.randn\n",
    "\n",
    "Creates a random array of floating point numbers which represent a normal distribution. The values are described by two numbers - the mean and the variance. The mean value is zero and the variance is 1."
   ]
  },
  {
   "cell_type": "code",
   "execution_count": 10,
   "metadata": {},
   "outputs": [],
   "source": [
    "# create an array of 200 floating point numbers\n",
    "x = np.random.randn(200)"
   ]
  },
  {
   "cell_type": "code",
   "execution_count": 11,
   "metadata": {
    "scrolled": true
   },
   "outputs": [
    {
     "data": {
      "text/plain": [
       "array([ 0.50445231, -0.10104583, -1.27707044,  0.25502273,  0.91706553,\n",
       "        0.6707498 , -0.68805401,  1.35800887,  0.07939182, -0.16076318,\n",
       "       -0.83734175,  2.06699217,  0.75527625, -0.75776634, -0.04212902,\n",
       "       -0.29384596,  0.12061131, -2.18982232, -2.28102144,  0.7620896 ,\n",
       "        0.0063112 ,  0.19845733,  0.26295802,  0.88295826,  0.74166881,\n",
       "       -0.99839016, -0.03299973, -2.38640377,  1.11975108, -0.50012293,\n",
       "       -0.47718945, -0.01460323,  0.3985167 , -0.95440959, -0.2649971 ,\n",
       "        0.92744836, -0.21639067, -0.13929444,  1.56121732,  0.25771803,\n",
       "        0.32628922, -0.08553743, -0.67160056, -0.92309032,  0.91086164,\n",
       "       -0.76137342, -1.41325405,  1.01446329, -0.20422943,  1.97440396,\n",
       "       -0.04842994,  2.05340607,  0.22963602,  0.65950476,  0.402477  ,\n",
       "        0.11341342,  0.80819825, -1.35951871, -0.66415613,  1.49154156,\n",
       "       -0.93544764, -0.38833669, -0.64298167, -0.77568495, -1.46248321,\n",
       "       -1.05288798,  1.76362723, -1.01421291,  0.68802388, -1.74586103,\n",
       "        1.52522826, -0.58025029, -0.87098869,  0.5886213 ,  0.81910182,\n",
       "       -0.33756064,  0.75165197, -0.44718875, -0.14267728, -0.90358282,\n",
       "        2.18694659, -0.34997946, -0.4750584 , -0.63343403, -0.99319163,\n",
       "       -0.19761462, -1.67445762,  0.23605372,  0.31745513, -0.47640342,\n",
       "        0.52476876, -1.17959713, -0.14850356, -1.49269672,  0.30186364,\n",
       "       -1.65047501, -0.51328374, -0.68785633, -0.45832278, -0.3876193 ,\n",
       "       -0.78783177,  0.66993304,  0.69274267, -2.35043207, -0.86921736,\n",
       "       -1.16146961, -0.0448074 ,  0.98884557, -0.72104575,  0.02792758,\n",
       "       -0.61161588, -1.42525169,  0.14022447, -0.80799893,  1.43885177,\n",
       "       -1.71305156, -1.15026639, -0.69648435,  0.4202522 , -0.0872376 ,\n",
       "       -0.23804049, -0.60527315,  0.17637245, -1.34343412,  0.48112946,\n",
       "       -1.2369274 ,  0.49196834, -0.27860967,  0.0133266 ,  0.45159068,\n",
       "        1.18335896, -0.19614137, -0.13292006,  0.42753895,  0.99922081,\n",
       "        1.71517853, -1.1525386 , -1.56518346,  0.28817761,  0.16687745,\n",
       "       -0.42558934,  0.52303849, -0.63495446,  1.32563918,  0.37041279,\n",
       "       -0.10792172, -0.29169444,  1.03528157, -1.56829141, -0.44684453,\n",
       "       -0.38505011,  0.59475688,  0.61184426, -2.85306112,  0.07958441,\n",
       "        0.02706035, -1.02197599, -0.94019858,  1.07460409, -0.18058578,\n",
       "        0.38548912, -0.44633744,  1.48176005,  2.14235516, -0.38217436,\n",
       "       -0.09644769,  0.42206346,  1.23461945,  1.07921641, -0.09373209,\n",
       "        0.61039658,  1.82576854, -0.31727051, -1.28736491,  0.27033581,\n",
       "       -0.48436478, -0.95361092,  0.50353283, -0.96712248,  1.23558261,\n",
       "        2.15194701,  0.41687244, -0.61569856,  0.85495931, -0.51998825,\n",
       "       -0.01927751, -0.31893236, -0.77093552, -0.20368442, -1.25119934,\n",
       "       -1.21811136, -0.29764442, -1.31182212, -0.88577673, -0.04313559,\n",
       "        0.08278256,  0.25598815,  0.71852928, -0.6048138 , -0.27233645])"
      ]
     },
     "execution_count": 11,
     "metadata": {},
     "output_type": "execute_result"
    }
   ],
   "source": [
    "x"
   ]
  },
  {
   "cell_type": "code",
   "execution_count": 12,
   "metadata": {},
   "outputs": [
    {
     "data": {
      "text/plain": [
       "(array([ 3.,  2., 12., 26., 38., 44., 35., 21., 10.,  9.]),\n",
       " array([-2.85306112, -2.34906035, -1.84505958, -1.34105881, -0.83705804,\n",
       "        -0.33305726,  0.17094351,  0.67494428,  1.17894505,  1.68294582,\n",
       "         2.18694659]),\n",
       " <a list of 10 Patch objects>)"
      ]
     },
     "execution_count": 12,
     "metadata": {},
     "output_type": "execute_result"
    },
    {
     "data": {
      "image/png": "[encoded data removed]",
      "text/plain": [
       "<Figure size 432x288 with 1 Axes>"
      ]
     },
     "metadata": {
      "needs_background": "light"
     },
     "output_type": "display_data"
    }
   ],
   "source": [
    "# plot a histogram of the x values generated randomly by the np.random.randn function\n",
    "plt.hist(x)"
   ]
  },
  {
   "cell_type": "markdown",
   "metadata": {},
   "source": [
    "#### numpy.random.randn histogram\n",
    "\n",
    "The histogram shows a normal distribution where the numbers are centred around the mean of zero and the variance is 1. This is known as the bell shaped curve. When I first created an array using the numpy.random.randn function I only used a sample size of 50. This lower sample size did not represent the bell shaped curve as well as i expected so I increased the sample size to 200 which produced a better shape as shown above."
   ]
  },
  {
   "cell_type": "markdown",
   "metadata": {},
   "source": [
    "### numpy.random.randint\n",
    "\n",
    "This function creates a random integer N where a <= N < b. The randint function accepts two parameters a lowest number and a highest number."
   ]
  },
  {
   "cell_type": "code",
   "execution_count": 13,
   "metadata": {},
   "outputs": [],
   "source": [
    "# use the random.randint function to pick 10 integers between 1 and 6\n",
    "x = np.random.randint(1, 7, size=10)"
   ]
  },
  {
   "cell_type": "code",
   "execution_count": 14,
   "metadata": {},
   "outputs": [
    {
     "data": {
      "text/plain": [
       "array([6, 3, 6, 2, 6, 2, 5, 6, 3, 3])"
      ]
     },
     "execution_count": 14,
     "metadata": {},
     "output_type": "execute_result"
    }
   ],
   "source": [
    "x"
   ]
  },
  {
   "cell_type": "markdown",
   "metadata": {},
   "source": [
    "The numpy.random.randint function returns integers from a discrete uniform distribution. This function is often used to generate random rolls from a fair 6 sided dice."
   ]
  },
  {
   "cell_type": "markdown",
   "metadata": {},
   "source": [
    "### numpy.random.choice\n",
    "\n",
    "The choice function can be used to generate a random element from a given list. The elements can be numbers or strings."
   ]
  },
  {
   "cell_type": "code",
   "execution_count": 15,
   "metadata": {},
   "outputs": [],
   "source": [
    "# use the random.choice function to randomly select a piece of fruit\n",
    "fruit = ['Apple', 'Banana', 'Pear']\n",
    "x = np.random.choice(fruit)"
   ]
  },
  {
   "cell_type": "code",
   "execution_count": 16,
   "metadata": {},
   "outputs": [
    {
     "data": {
      "text/plain": [
       "'Apple'"
      ]
     },
     "execution_count": 16,
     "metadata": {},
     "output_type": "execute_result"
    }
   ],
   "source": [
    "x"
   ]
  },
  {
   "cell_type": "code",
   "execution_count": 17,
   "metadata": {},
   "outputs": [],
   "source": [
    "# use the random.choice function to randomly select a number in a list\n",
    "numbers = [1, 2, 3, 4]\n",
    "x = np.random.choice(numbers)"
   ]
  },
  {
   "cell_type": "code",
   "execution_count": 18,
   "metadata": {},
   "outputs": [
    {
     "data": {
      "text/plain": [
       "3"
      ]
     },
     "execution_count": 18,
     "metadata": {},
     "output_type": "execute_result"
    }
   ],
   "source": [
    "x"
   ]
  },
  {
   "cell_type": "markdown",
   "metadata": {},
   "source": [
    "The numpy.random.choice function can be used for a wide range of examples. The Python documentation uses an example whereby the colours on a roulette are provided as a list and picked at random or another example I've seen whilst researching this function online is the rock, paper, scissors game."
   ]
  },
  {
   "cell_type": "markdown",
   "metadata": {},
   "source": [
    "## Distributions\n",
    "\n",
    "There are a number of distribution functions included in the numpy.random module. In this section I will explain the following five distribution functions using examples and graphs:\n",
    "\n",
    "- numpy.random.uniform\n",
    "- numpy.random.normal\n",
    "- numpy.random.poisson\n",
    "- numpy.random.chisquare\n",
    "- numpy.random.binomial"
   ]
  },
  {
   "cell_type": "markdown",
   "metadata": {},
   "source": [
    "### numpy.random.uniform\n",
    "\n",
    "Returns a random array of numbers with a uniform distribution, where the output interval [low, high) includes the low value but excludes the high value."
   ]
  },
  {
   "cell_type": "code",
   "execution_count": 19,
   "metadata": {},
   "outputs": [],
   "source": [
    "# create an array where x >= 0, x < 5 with 5000 elements.\n",
    "x = np.random.uniform(0, 5, 5000)"
   ]
  },
  {
   "cell_type": "code",
   "execution_count": 20,
   "metadata": {
    "scrolled": true
   },
   "outputs": [
    {
     "data": {
      "text/plain": [
       "array([2.41908188, 0.62393278, 0.63460362, ..., 4.39796598, 3.14433614,\n",
       "       4.97144042])"
      ]
     },
     "execution_count": 20,
     "metadata": {},
     "output_type": "execute_result"
    }
   ],
   "source": [
    "x"
   ]
  },
  {
   "cell_type": "code",
   "execution_count": 21,
   "metadata": {},
   "outputs": [
    {
     "data": {
      "text/plain": [
       "(array([287., 240., 232., 240., 268., 231., 244., 274., 242., 257., 257.,\n",
       "        243., 253., 250., 223., 269., 236., 269., 233., 252.]),\n",
       " array([1.69912305e-03, 2.51596323e-01, 5.01493523e-01, 7.51390722e-01,\n",
       "        1.00128792e+00, 1.25118512e+00, 1.50108232e+00, 1.75097952e+00,\n",
       "        2.00087672e+00, 2.25077392e+00, 2.50067112e+00, 2.75056832e+00,\n",
       "        3.00046552e+00, 3.25036272e+00, 3.50025992e+00, 3.75015712e+00,\n",
       "        4.00005432e+00, 4.24995152e+00, 4.49984872e+00, 4.74974592e+00,\n",
       "        4.99964312e+00]),\n",
       " <a list of 20 Patch objects>)"
      ]
     },
     "execution_count": 21,
     "metadata": {},
     "output_type": "execute_result"
    },
    {
     "data": {
      "image/png": "[encoded data removed]",
      "text/plain": [
       "<Figure size 432x288 with 1 Axes>"
      ]
     },
     "metadata": {
      "needs_background": "light"
     },
     "output_type": "display_data"
    }
   ],
   "source": [
    "# plot a histogram for the function np.random.uniform with 20 bins\n",
    "plt.hist(x, bins=20)"
   ]
  },
  {
   "cell_type": "markdown",
   "metadata": {},
   "source": [
    "### numpy.random.uniform histogram\n",
    "\n",
    "The histogram shows a uniform distribution where the data follows a uniform pattern. The bins of the histogram are approximately the same size. When I first created an array using the numpy.random.uniform function I only used a sample size of 500. This lower sample size did not represent the uniform pattern as well as i expected so I increased the sample size to 5000 which produced a better shape as shown above."
   ]
  },
  {
   "cell_type": "code",
   "execution_count": 22,
   "metadata": {},
   "outputs": [
    {
     "data": {
      "text/plain": [
       "True"
      ]
     },
     "execution_count": 22,
     "metadata": {},
     "output_type": "execute_result"
    }
   ],
   "source": [
    "np.all(x >= 0)"
   ]
  },
  {
   "cell_type": "code",
   "execution_count": 23,
   "metadata": {},
   "outputs": [
    {
     "data": {
      "text/plain": [
       "True"
      ]
     },
     "execution_count": 23,
     "metadata": {},
     "output_type": "execute_result"
    }
   ],
   "source": [
    "np.all(x < 5)"
   ]
  },
  {
   "cell_type": "code",
   "execution_count": 24,
   "metadata": {},
   "outputs": [
    {
     "data": {
      "text/plain": [
       "('Size of the array: ', 5000)"
      ]
     },
     "execution_count": 24,
     "metadata": {},
     "output_type": "execute_result"
    }
   ],
   "source": [
    "(\"Size of the array: \", x.size)"
   ]
  },
  {
   "cell_type": "markdown",
   "metadata": {},
   "source": [
    "### numpy.random.normal\n",
    "\n",
    "The numpy.random.normal function returns a random array of numbers which are defined by two numbers, the mean and the standard deviation. This function produces a normal distribution also known as the bell shaped curve. The bell shaped curve peaks at its mean and the standard deviation describes how wide or narrow the curve is."
   ]
  },
  {
   "cell_type": "code",
   "execution_count": 25,
   "metadata": {},
   "outputs": [],
   "source": [
    "# create an array centred around zero, standard deviation or spread of 0.2 and 200 elements\n",
    "x = np.random.normal(0, 0.2, 200)"
   ]
  },
  {
   "cell_type": "code",
   "execution_count": 26,
   "metadata": {
    "scrolled": true
   },
   "outputs": [
    {
     "data": {
      "text/plain": [
       "array([ 0.09286232,  0.16975509,  0.25678876,  0.33515225, -0.13051717,\n",
       "       -0.21829117, -0.1690687 ,  0.24110242, -0.42281931, -0.09294593,\n",
       "        0.18206518,  0.00709618,  0.06115475, -0.07791307, -0.18323296,\n",
       "       -0.1748868 ,  0.30534931, -0.16183648,  0.26965101,  0.1208886 ,\n",
       "        0.15665089, -0.19811396,  0.19551526, -0.26056966,  0.05267987,\n",
       "        0.1196081 ,  0.02230035,  0.12425048, -0.02581505,  0.28717003,\n",
       "       -0.03710483, -0.54952709,  0.17159377, -0.02977293, -0.3040841 ,\n",
       "       -0.00904086, -0.09123715, -0.14664655, -0.08507265, -0.04240267,\n",
       "       -0.12056466,  0.03675211,  0.12054915,  0.17149415,  0.45837285,\n",
       "       -0.02343037,  0.35688181, -0.02296027,  0.12523772,  0.08115624,\n",
       "       -0.24088241,  0.02488081,  0.07890684, -0.09275708,  0.27084779,\n",
       "       -0.1835118 , -0.04483307, -0.14522727,  0.28809356,  0.1495445 ,\n",
       "        0.38494936, -0.04092679,  0.18297398,  0.12729038, -0.19893575,\n",
       "        0.49753978,  0.23148291,  0.37768472,  0.2658724 ,  0.10143841,\n",
       "       -0.09783289,  0.40056944, -0.21185951,  0.46899113,  0.29741777,\n",
       "        0.09461538, -0.35559827, -0.07892041, -0.21569468, -0.19130295,\n",
       "       -0.09350342, -0.16401971,  0.01715894, -0.20173154,  0.02109254,\n",
       "        0.03522702, -0.17005486,  0.09790884, -0.19219808,  0.36421878,\n",
       "        0.10761936, -0.35680219,  0.14133445, -0.17053988,  0.00441684,\n",
       "       -0.10760306,  0.32839179, -0.02141829,  0.0751505 ,  0.01318928,\n",
       "       -0.20512383, -0.36953392,  0.37541639, -0.04987549,  0.33904184,\n",
       "       -0.37795448,  0.44837496,  0.2902233 ,  0.23111663, -0.02838976,\n",
       "        0.17296189,  0.19571129, -0.24588644, -0.1403061 ,  0.11258267,\n",
       "       -0.14033364,  0.06852193, -0.01471616,  0.27766693,  0.09717785,\n",
       "        0.21851906,  0.17186296,  0.10407388,  0.01440346, -0.36943007,\n",
       "        0.06148287, -0.13814229, -0.13865722,  0.16595619,  0.07306161,\n",
       "        0.16769544,  0.17217495, -0.16380377,  0.13878174, -0.01959909,\n",
       "       -0.10448555,  0.15612833, -0.00263648,  0.11082835, -0.05821769,\n",
       "        0.07972802, -0.1706153 ,  0.30179046, -0.07889838,  0.43596074,\n",
       "        0.12506949, -0.12212753, -0.3794457 , -0.15890169,  0.10284968,\n",
       "       -0.14764509, -0.44377453, -0.01550138, -0.12695711, -0.05086798,\n",
       "       -0.00995682, -0.08479959,  0.1979713 , -0.11625181, -0.1868955 ,\n",
       "        0.06721617,  0.01763533,  0.01257578,  0.15932924, -0.19124577,\n",
       "       -0.06611129, -0.11658021,  0.07251055, -0.0912229 , -0.03776709,\n",
       "       -0.0283227 ,  0.08100814, -0.29227307, -0.02351262,  0.02988977,\n",
       "       -0.30799269,  0.13699182,  0.27218437, -0.04938473, -0.27560059,\n",
       "        0.0323372 , -0.33204056, -0.09311484,  0.11863492,  0.11884895,\n",
       "       -0.14488869, -0.45535477,  0.01006644, -0.16256178,  0.02753624,\n",
       "        0.23411959,  0.3350976 , -0.02787227,  0.03985665, -0.12531805,\n",
       "       -0.16887441,  0.04343304,  0.05433524, -0.12320414, -0.09852086])"
      ]
     },
     "execution_count": 26,
     "metadata": {},
     "output_type": "execute_result"
    }
   ],
   "source": [
    "x"
   ]
  },
  {
   "cell_type": "code",
   "execution_count": 27,
   "metadata": {},
   "outputs": [
    {
     "data": {
      "text/plain": [
       "(array([ 2.,  8.,  8., 32., 37., 38., 40., 16., 13.,  6.]),\n",
       " array([-0.54952709, -0.4448204 , -0.34011372, -0.23540703, -0.13070034,\n",
       "        -0.02599366,  0.07871303,  0.18341972,  0.28812641,  0.39283309,\n",
       "         0.49753978]),\n",
       " <a list of 10 Patch objects>)"
      ]
     },
     "execution_count": 27,
     "metadata": {},
     "output_type": "execute_result"
    },
    {
     "data": {
      "image/png": "[encoded data removed]",
      "text/plain": [
       "<Figure size 432x288 with 1 Axes>"
      ]
     },
     "metadata": {
      "needs_background": "light"
     },
     "output_type": "display_data"
    }
   ],
   "source": [
    "# plot a histogram for the function np.random.normal with 10 bins\n",
    "plt.hist(x)"
   ]
  },
  {
   "cell_type": "markdown",
   "metadata": {},
   "source": [
    "### numpy.random.normal histogram\n",
    "\n",
    "The histogram shows a normal distribution where the data shows a pattern known as the bell shaped curve. In a normal distribution, points are as likely to occur on one side of the average as on the other. The 200 values of x are centred around 0 with a spread of 0.2."
   ]
  },
  {
   "cell_type": "markdown",
   "metadata": {},
   "source": [
    "## numpy.random.poisson\n",
    "\n",
    "The numpy.random.poisson function draws samples from a poisson distribution. The poisson distribution is a discrete probability distribution where each event is independent of the last event. The poisson distribution is useful for measuring the number of times an event occurs within a particular time interval.\n"
   ]
  },
  {
   "cell_type": "code",
   "execution_count": 28,
   "metadata": {},
   "outputs": [],
   "source": [
    "# create an array of 1000 elements with an interval of 5\n",
    "x = np.random.poisson(5, size=1000)"
   ]
  },
  {
   "cell_type": "code",
   "execution_count": 29,
   "metadata": {
    "scrolled": true
   },
   "outputs": [
    {
     "data": {
      "text/plain": [
       "array([10,  6,  7,  2,  2,  7,  7,  5,  2,  4,  7,  4,  3,  5,  4,  2,  9,\n",
       "        3,  7,  2,  6,  5,  2, 10,  7,  6,  7,  4,  6,  4,  4,  0,  4,  3,\n",
       "        2,  1,  4,  5,  5,  7,  4,  7,  2,  6,  3,  6,  6,  7,  6,  4,  4,\n",
       "        9,  3,  6,  6,  8,  5,  5,  7,  1,  6,  3,  4,  5,  2,  2,  7,  7,\n",
       "        7,  4,  2,  7,  6,  8,  4,  7,  2,  5,  5,  4, 10,  7,  5,  3,  6,\n",
       "        8,  4,  4,  1,  8,  5,  7,  3,  8,  7,  3,  3,  6,  2,  1,  3,  7,\n",
       "        7,  3, 10,  4,  7,  6,  4,  8,  3,  8,  5,  7,  6,  5,  8,  4,  5,\n",
       "        6,  8,  5,  5,  7,  6,  2,  9,  4,  8,  5,  7,  6,  3,  8,  5,  8,\n",
       "        4,  8,  4,  7,  2,  4,  8,  3,  7,  7,  5,  4, 13,  6, 10,  9,  7,\n",
       "        4,  2,  7,  9,  4,  7,  7,  6, 13,  3,  5,  8,  3,  9,  4,  6,  4,\n",
       "        3,  2,  1,  5,  6,  6,  5,  4,  5,  3,  2,  7,  3,  8,  7,  8,  4,\n",
       "        2,  3,  6,  5,  7,  2,  5,  8,  4,  4,  8,  3,  3,  4,  3,  3,  8,\n",
       "        7,  5,  5,  2,  7,  4, 10,  9,  4,  8,  3,  7,  4,  4,  6,  8,  3,\n",
       "        2,  4,  6,  2,  3,  5,  3,  6,  9,  6,  2,  7,  8,  5,  9,  4,  3,\n",
       "        6,  5,  7,  3,  5,  7,  6,  3,  8, 11,  4,  5,  4,  5,  4,  3,  4,\n",
       "        7,  3,  5, 11,  8,  6,  4,  4,  0,  2,  4,  5,  6,  6,  7,  4,  2,\n",
       "        5,  4,  5,  5, 10,  6,  1,  2,  7,  4,  0,  2,  6,  3,  6,  5,  6,\n",
       "        5,  3,  5,  4,  7,  8,  6,  5,  6,  2,  7,  2,  3,  3,  6,  6,  3,\n",
       "        5,  6,  7,  2,  9,  8,  8,  6,  1,  5,  4,  6,  4,  5,  7,  4,  4,\n",
       "        1,  5,  3,  3,  8,  6,  7,  6,  7,  4,  3,  9,  6,  5,  4,  8,  6,\n",
       "        7,  8,  8,  8,  6,  3,  6,  6,  9,  6,  4,  6,  5,  3,  4,  7,  6,\n",
       "        4,  4,  3,  2,  3,  3,  8,  6,  1,  6,  5,  6,  2,  5,  3,  4,  2,\n",
       "        5,  6,  5, 11,  4,  7,  0,  3,  8,  5,  4,  5,  6,  8,  6,  8,  2,\n",
       "        2,  5,  6,  5,  6,  4,  7,  4,  3,  2,  3,  8,  4,  3,  6,  6, 11,\n",
       "        6,  4,  4,  3,  2,  3,  3,  5,  3,  5,  3,  7,  6,  6,  5,  8,  5,\n",
       "        5,  5,  3,  4,  7,  9,  5,  5,  2,  2,  5,  6,  7,  8,  7,  3,  6,\n",
       "        4,  8,  2,  2,  6,  7,  5,  6,  2,  5,  4,  2,  3,  4,  5,  4,  4,\n",
       "        4,  2,  4,  4,  3,  5,  4,  5, 10,  7,  5,  2,  6,  6,  4,  1,  4,\n",
       "        2,  6,  8,  2, 12,  5,  3,  5,  6,  7,  5,  4,  8,  6,  4,  5,  4,\n",
       "        7,  6,  2,  3,  6,  6,  4,  6,  8,  3,  7,  4,  8,  4,  2,  6,  7,\n",
       "        4,  3,  2,  7,  5,  2,  4,  6,  3,  6,  8,  7,  5,  6,  3,  5,  7,\n",
       "        3,  6,  1,  5,  3,  6,  1,  6,  2,  3,  5,  4,  5,  5,  5,  9,  2,\n",
       "        6,  3,  4,  4,  7,  4,  6,  5,  5,  5,  3,  6,  8,  8,  2,  3,  5,\n",
       "        3,  5,  6,  2,  4,  4,  3,  6,  4,  2,  5,  6,  6,  3,  8,  4,  4,\n",
       "        6,  5,  5,  6,  3,  5,  4,  7,  2,  5,  7,  3,  5,  4,  9,  4,  4,\n",
       "        7,  5,  2,  2,  1,  3,  6,  4,  2,  5,  6,  7,  2, 12,  5,  8,  5,\n",
       "        5,  4,  5,  7,  6,  4,  2,  5,  6,  6,  6,  4,  5, 10,  3,  4,  3,\n",
       "        2,  5,  7,  4,  6,  3,  5,  6,  5,  7,  7,  3,  6,  4,  4,  3,  7,\n",
       "        4,  8,  8,  5,  6,  7,  4,  6,  6,  7,  5,  2,  4,  4,  7,  5,  4,\n",
       "        4,  7,  6,  6,  5,  8,  7, 10,  3,  7,  4,  4,  4,  6,  4,  6,  3,\n",
       "        3,  6,  7,  2,  5, 10,  7,  4,  4,  5,  5,  4,  3,  2,  3,  4,  9,\n",
       "        2,  4,  4,  6,  3,  1,  4,  7,  7,  2,  5,  1,  2,  2,  5,  5,  5,\n",
       "        4,  4,  9,  5,  7,  8,  6,  2,  3,  4,  4,  3,  4,  5,  6,  5,  0,\n",
       "        1,  5,  7,  1,  4,  4,  4,  5,  6,  6,  4,  2,  4,  4,  4,  7,  5,\n",
       "        5,  5,  3,  4,  4,  4,  3,  6,  3,  5,  4,  3,  8,  6,  4,  2, 10,\n",
       "        6,  7,  0,  7,  3,  4,  6,  6,  3,  2,  4,  5,  3,  5,  9,  5,  4,\n",
       "        6,  4,  5,  6,  2,  2,  6,  3,  3,  4,  7,  7,  4,  9,  3,  6,  6,\n",
       "        8,  6,  8,  9,  8,  7,  5,  3,  5,  8,  5,  5,  2,  6,  7,  2,  7,\n",
       "        6,  4,  1,  8,  6,  2, 10,  4, 10,  3,  4,  4,  5,  6,  6,  4, 10,\n",
       "        2,  1,  1,  1,  6,  4,  3,  4,  9,  5,  5,  3,  4,  4,  4,  6,  8,\n",
       "        5,  1, 10,  5, 10,  4,  4,  7,  7,  8, 11,  7,  6,  6,  3,  4,  6,\n",
       "        2,  6,  5,  3,  4,  4,  4,  4,  4,  7,  3,  4,  6,  6,  2,  5,  4,\n",
       "        3,  3,  4,  3,  3,  8,  5,  5,  3,  6,  4,  5,  5,  6,  5,  4,  2,\n",
       "        5,  8,  4,  4,  5,  8,  4,  5,  7,  2,  4,  5, 11,  9,  1,  6,  7,\n",
       "        5,  8,  2,  5,  3,  6,  4,  4,  7,  5,  5,  3,  5,  2,  4,  4,  3,\n",
       "        2,  3,  3,  9,  2,  4,  4,  9,  6,  2, 10,  4,  3,  3,  9,  2,  3,\n",
       "        5,  6,  6,  5,  8,  5,  6,  5,  2,  4,  4,  6,  3,  5,  5,  3,  4,\n",
       "        3,  5,  9,  3,  3,  5,  9,  3,  6,  4,  6,  6,  6,  4,  1,  5,  4,\n",
       "        4,  7,  5,  5,  4,  7,  5,  2,  4,  3,  3,  2,  2,  2])"
      ]
     },
     "execution_count": 29,
     "metadata": {},
     "output_type": "execute_result"
    }
   ],
   "source": [
    "x"
   ]
  },
  {
   "cell_type": "code",
   "execution_count": 30,
   "metadata": {},
   "outputs": [
    {
     "data": {
      "text/plain": [
       "(array([  6.,  24.,   0.,  96., 130.,   0., 193., 167.,   0., 156., 106.,\n",
       "          0.,  67.,  27.,   0.,  18.,   6.,   0.,   2.,   2.]),\n",
       " array([ 0.  ,  0.65,  1.3 ,  1.95,  2.6 ,  3.25,  3.9 ,  4.55,  5.2 ,\n",
       "         5.85,  6.5 ,  7.15,  7.8 ,  8.45,  9.1 ,  9.75, 10.4 , 11.05,\n",
       "        11.7 , 12.35, 13.  ]),\n",
       " <a list of 20 Patch objects>)"
      ]
     },
     "execution_count": 30,
     "metadata": {},
     "output_type": "execute_result"
    },
    {
     "data": {
      "image/png": "[encoded data removed]",
      "text/plain": [
       "<Figure size 432x288 with 1 Axes>"
      ]
     },
     "metadata": {
      "needs_background": "light"
     },
     "output_type": "display_data"
    }
   ],
   "source": [
    "# plot a histogram for the poisson distribution\n",
    "plt.hist(x, bins=20)"
   ]
  },
  {
   "cell_type": "code",
   "execution_count": 31,
   "metadata": {},
   "outputs": [
    {
     "data": {
      "text/plain": [
       "4.616844"
      ]
     },
     "execution_count": 31,
     "metadata": {},
     "output_type": "execute_result"
    }
   ],
   "source": [
    "# calculate the variance of the array\n",
    "np.var(x)"
   ]
  },
  {
   "cell_type": "code",
   "execution_count": 32,
   "metadata": {},
   "outputs": [
    {
     "data": {
      "text/plain": [
       "4.966"
      ]
     },
     "execution_count": 32,
     "metadata": {},
     "output_type": "execute_result"
    }
   ],
   "source": [
    "# calculate the mean of the array\n",
    "np.mean(x)"
   ]
  },
  {
   "cell_type": "markdown",
   "metadata": {},
   "source": [
    "### numpy.random.poisson histogram\n",
    "\n",
    "The histogram shows that the random elements from the array peak at 5 as we set our interval at 5 - this is the expected value hence should be the greatest out of the sample size of 1000. The mean and the variance are almost equal at 4.617 and 4.966 respectively - the numpy.random.poisson function has created an array of numbers where the average number and how far numbers are spread out from the mean are almost identical."
   ]
  },
  {
   "cell_type": "markdown",
   "metadata": {},
   "source": [
    "## numpy.random.gamma\n",
    "\n",
    "The numpy.random.gamma function produces samples from a gamma distribution. The parameters must be greater than 0 in the format (shape (k), scale (theta), Size). It produces continuous variables that are positive and have skewed distributions. The gamma distribution is often used to find the time required to complete a specific task. "
   ]
  },
  {
   "cell_type": "code",
   "execution_count": 33,
   "metadata": {},
   "outputs": [],
   "source": [
    "# use the np.random.gamma function where the shape is 2, scale is 1 and size of the random sample is 10000\n",
    "x = np.random.gamma(2, 1, 10000)"
   ]
  },
  {
   "cell_type": "code",
   "execution_count": 34,
   "metadata": {},
   "outputs": [
    {
     "data": {
      "text/plain": [
       "array([2.91855272, 2.22721464, 0.16070824, ..., 0.47715394, 2.93730926,\n",
       "       4.26785219])"
      ]
     },
     "execution_count": 34,
     "metadata": {},
     "output_type": "execute_result"
    }
   ],
   "source": [
    "x"
   ]
  },
  {
   "cell_type": "code",
   "execution_count": 35,
   "metadata": {},
   "outputs": [
    {
     "data": {
      "text/plain": [
       "(array([1.139e+03, 2.109e+03, 1.889e+03, 1.594e+03, 1.075e+03, 7.820e+02,\n",
       "        5.220e+02, 3.270e+02, 2.040e+02, 1.430e+02, 7.600e+01, 5.700e+01,\n",
       "        2.900e+01, 2.800e+01, 1.100e+01, 7.000e+00, 5.000e+00, 2.000e+00,\n",
       "        0.000e+00, 1.000e+00]),\n",
       " array([ 0.01524588,  0.57817752,  1.14110917,  1.70404081,  2.26697245,\n",
       "         2.82990409,  3.39283573,  3.95576737,  4.51869901,  5.08163065,\n",
       "         5.64456229,  6.20749393,  6.77042557,  7.33335721,  7.89628885,\n",
       "         8.45922049,  9.02215213,  9.58508377, 10.14801541, 10.71094705,\n",
       "        11.27387869]),\n",
       " <a list of 20 Patch objects>)"
      ]
     },
     "execution_count": 35,
     "metadata": {},
     "output_type": "execute_result"
    },
    {
     "data": {
      "image/png": "[encoded data removed]",
      "text/plain": [
       "<Figure size 432x288 with 1 Axes>"
      ]
     },
     "metadata": {
      "needs_background": "light"
     },
     "output_type": "display_data"
    }
   ],
   "source": [
    "# create a histogram of the numpy.random.gamma function with 20 bins\n",
    "plt.hist(x, bins=20)"
   ]
  },
  {
   "cell_type": "markdown",
   "metadata": {},
   "source": [
    "### numpy.random.gamma histogram\n",
    "\n",
    "The gamma histogram above shows a skewed continuance probability distribution. If the number of events (shape) is 1 and theta is 2 (the mean waiting time between events) the graph shifts to the right and shows that waiting times between events are increasing."
   ]
  },
  {
   "cell_type": "markdown",
   "metadata": {},
   "source": [
    "## numpy.random.binomial\n",
    "\n",
    "The numpy.random.binomial function draws samples from a binomial distribution. This type of distribution is a discrete probability distribution which consists of a number of trials with only two possible outcomes for each trail - success or failure for example. The trails are independent - the outcome of one trail does not affect another trail. The binomial distribution is often used for the experiment of tossing a coin where there are two possible outcomes - heads or tails."
   ]
  },
  {
   "cell_type": "code",
   "execution_count": 36,
   "metadata": {},
   "outputs": [],
   "source": [
    "# create a function where n=1 (heads), p = 0.5 (as 2 possible outcomes heads or tails) and sample size is 100. \n",
    "# If heads is 1, tails is 0.\n",
    "x = np.random.binomial(n=1, p=0.5, size=100)"
   ]
  },
  {
   "cell_type": "code",
   "execution_count": 37,
   "metadata": {
    "scrolled": true
   },
   "outputs": [
    {
     "data": {
      "text/plain": [
       "array([1, 1, 0, 0, 0, 0, 1, 0, 1, 1, 0, 0, 1, 1, 0, 0, 0, 0, 1, 1, 1, 1,\n",
       "       0, 1, 1, 0, 1, 1, 0, 1, 0, 0, 1, 0, 0, 0, 1, 1, 1, 1, 0, 1, 0, 0,\n",
       "       0, 1, 0, 1, 0, 0, 0, 1, 0, 0, 1, 1, 0, 0, 0, 0, 1, 0, 1, 1, 1, 0,\n",
       "       0, 1, 0, 0, 0, 1, 0, 0, 1, 0, 1, 1, 1, 0, 1, 0, 0, 1, 1, 0, 0, 1,\n",
       "       1, 0, 1, 0, 0, 0, 0, 1, 0, 1, 1, 0])"
      ]
     },
     "execution_count": 37,
     "metadata": {},
     "output_type": "execute_result"
    }
   ],
   "source": [
    "x"
   ]
  },
  {
   "cell_type": "code",
   "execution_count": 38,
   "metadata": {},
   "outputs": [
    {
     "data": {
      "text/plain": [
       "0.46"
      ]
     },
     "execution_count": 38,
     "metadata": {},
     "output_type": "execute_result"
    }
   ],
   "source": [
    "# calculate the mean of 1 of the array\n",
    "np.mean(x)"
   ]
  },
  {
   "cell_type": "code",
   "execution_count": 39,
   "metadata": {},
   "outputs": [
    {
     "data": {
      "text/plain": [
       "(array([54.,  0.,  0.,  0.,  0.,  0.,  0.,  0.,  0., 46.]),\n",
       " array([0. , 0.1, 0.2, 0.3, 0.4, 0.5, 0.6, 0.7, 0.8, 0.9, 1. ]),\n",
       " <a list of 10 Patch objects>)"
      ]
     },
     "execution_count": 39,
     "metadata": {},
     "output_type": "execute_result"
    },
    {
     "data": {
      "image/png": "[encoded data removed]",
      "text/plain": [
       "<Figure size 432x288 with 1 Axes>"
      ]
     },
     "metadata": {
      "needs_background": "light"
     },
     "output_type": "display_data"
    }
   ],
   "source": [
    "# plot a histogram for the array\n",
    "plt.hist(x)"
   ]
  },
  {
   "cell_type": "markdown",
   "metadata": {},
   "source": [
    "### numpy.random.binomial histogram\n",
    "\n",
    "The histogram shows the two outcomes 0 for tails and 1 for heads. In this instance, in the randomly selected array, tails was more successful than heads when tested 100 times. "
   ]
  },
  {
   "cell_type": "markdown",
   "metadata": {},
   "source": [
    "## Permutations Functions\n",
    "\n",
    "There are two permutation functions:\n",
    "\n",
    "- numpy.random.shuffle\n",
    "- numpy.random.permutation"
   ]
  },
  {
   "cell_type": "markdown",
   "metadata": {},
   "source": [
    "### numpy.random.shuffle\n",
    "Modifies an array of numbers by shuffling it's elements."
   ]
  },
  {
   "cell_type": "code",
   "execution_count": 40,
   "metadata": {},
   "outputs": [],
   "source": [
    "# create a list of 9 numbers from 0 to 8\n",
    "x = np.arange(9).reshape (3, 3)"
   ]
  },
  {
   "cell_type": "code",
   "execution_count": 41,
   "metadata": {},
   "outputs": [
    {
     "data": {
      "text/plain": [
       "array([[0, 1, 2],\n",
       "       [3, 4, 5],\n",
       "       [6, 7, 8]])"
      ]
     },
     "execution_count": 41,
     "metadata": {},
     "output_type": "execute_result"
    }
   ],
   "source": [
    "x"
   ]
  },
  {
   "cell_type": "code",
   "execution_count": 42,
   "metadata": {},
   "outputs": [],
   "source": [
    "# modify the list of 9 numbers\n",
    "np.random.shuffle(x)"
   ]
  },
  {
   "cell_type": "code",
   "execution_count": 43,
   "metadata": {},
   "outputs": [
    {
     "data": {
      "text/plain": [
       "array([[3, 4, 5],\n",
       "       [6, 7, 8],\n",
       "       [0, 1, 2]])"
      ]
     },
     "execution_count": 43,
     "metadata": {},
     "output_type": "execute_result"
    }
   ],
   "source": [
    "x"
   ]
  },
  {
   "cell_type": "markdown",
   "metadata": {},
   "source": [
    "### numpy.random.permutation\n",
    "Alters the order of an array of numbers"
   ]
  },
  {
   "cell_type": "code",
   "execution_count": 44,
   "metadata": {},
   "outputs": [],
   "source": [
    "# create a list of 9 numbers from 0 to 8\n",
    "x = np.arange(9).reshape (3, 3)"
   ]
  },
  {
   "cell_type": "code",
   "execution_count": 45,
   "metadata": {},
   "outputs": [
    {
     "data": {
      "text/plain": [
       "array([[0, 1, 2],\n",
       "       [3, 4, 5],\n",
       "       [6, 7, 8]])"
      ]
     },
     "execution_count": 45,
     "metadata": {},
     "output_type": "execute_result"
    }
   ],
   "source": [
    "x"
   ]
  },
  {
   "cell_type": "code",
   "execution_count": 46,
   "metadata": {},
   "outputs": [
    {
     "data": {
      "text/plain": [
       "array([[6, 7, 8],\n",
       "       [3, 4, 5],\n",
       "       [0, 1, 2]])"
      ]
     },
     "execution_count": 46,
     "metadata": {},
     "output_type": "execute_result"
    }
   ],
   "source": [
    "# alter the order of the list of 9 numbers\n",
    "np.random.permutation(x)"
   ]
  },
  {
   "cell_type": "markdown",
   "metadata": {},
   "source": [
    "The difference between the numpy.random.shuffle function and the numpy.random.permutation function is the random.shuffle function only shuffles the columns of the array and not the rows, whereas the random.permutation only permutes the rows of the array not the columns.  "
   ]
  },
  {
   "cell_type": "markdown",
   "metadata": {},
   "source": [
    "## Seeds"
   ]
  },
  {
   "cell_type": "markdown",
   "metadata": {},
   "source": [
    "### numpy.random.seed\n",
    "\n",
    "The numpy.random.seed function makes the random array of numbers drawn predictable if the seed is reset each time the random function is run. If the seed is not reset the numbers drawn will be unpredictable - they will change."
   ]
  },
  {
   "cell_type": "code",
   "execution_count": 59,
   "metadata": {},
   "outputs": [
    {
     "data": {
      "text/plain": [
       "array([3, 2, 1, 1])"
      ]
     },
     "execution_count": 59,
     "metadata": {},
     "output_type": "execute_result"
    }
   ],
   "source": [
    "# set the seed\n",
    "np.random.seed(4)\n",
    "# create a random array of 4 integers between 1 and 5 \n",
    "x = np.random.randint(1, 6, size=4)\n",
    "x"
   ]
  },
  {
   "cell_type": "code",
   "execution_count": 60,
   "metadata": {},
   "outputs": [
    {
     "data": {
      "text/plain": [
       "array([3, 2, 1, 1])"
      ]
     },
     "execution_count": 60,
     "metadata": {},
     "output_type": "execute_result"
    }
   ],
   "source": [
    "# set the seed\n",
    "np.random.seed(4)\n",
    "# create a random array of 4 integers between 1 and 5\n",
    "x = np.random.randint(1, 6, size=4)\n",
    "x"
   ]
  },
  {
   "cell_type": "markdown",
   "metadata": {},
   "source": [
    "As you can see from the above example, due to the fact that the seed has been reset each time the np.random.randint function is run the array of numbers produced are the same."
   ]
  },
  {
   "cell_type": "code",
   "execution_count": 61,
   "metadata": {},
   "outputs": [
    {
     "data": {
      "text/plain": [
       "array([3, 2, 1, 1])"
      ]
     },
     "execution_count": 61,
     "metadata": {},
     "output_type": "execute_result"
    }
   ],
   "source": [
    "# set the seed\n",
    "np.random.seed(4)\n",
    "# create a random array of 4 integers between 1 and 5 \n",
    "x = np.random.randint(1, 6, size=4)\n",
    "x"
   ]
  },
  {
   "cell_type": "code",
   "execution_count": 62,
   "metadata": {},
   "outputs": [
    {
     "data": {
      "text/plain": [
       "array([3, 2, 3, 5])"
      ]
     },
     "execution_count": 62,
     "metadata": {},
     "output_type": "execute_result"
    }
   ],
   "source": [
    "# create a random array of 4 integers between 1 and 5 \n",
    "x = np.random.randint(1, 6, size=4)\n",
    "x"
   ]
  },
  {
   "cell_type": "markdown",
   "metadata": {},
   "source": [
    "As you can see from the above example, due to the fact that the seed has not been reset each time the np.random.randint function is run the array of numbers produced are not the same. The size of the seed used is not important , I used zero first, then 42 and then stuck with the number 4."
   ]
  },
  {
   "cell_type": "markdown",
   "metadata": {},
   "source": [
    "## References\n",
    "\n",
    "https://docs.scipy.org/doc/numpy/\n",
    "\n",
    "\n",
    "https://realpython.com/python-random/\n",
    "\n",
    "\n",
    "https://docs.python.org/2/library/random.html\n",
    "\n",
    "\n",
    "https://stackoverflow.com/questions/35729290/python-numpy-poisson-distribution\n",
    "\n",
    "\n",
    "https://www.goldsim.com/Help/index.html#!Modules/5/gammadistribution.htm\n",
    "\n",
    "\n",
    "https://onlinecourses.science.psu.edu/stat414/node/141/\n",
    "\n",
    "\n",
    "https://books.google.ie/books?id=UmRSCwAAQBAJ&pg=PA270&lpg=PA270&dq=show+the+difference+between+random.shuffle+vs+random.permutation&source=bl&ots=_3gCrXxw29&sig=u-fFDTmsDt-57CdxNvEivzIK520&hl=en&sa=X&ved=2ahUKEwjhm7aS8t7eAhWLLcAKHZIvAZoQ6AEwCHoECAEQAQ#v=onepage&q=show%20the%20difference%20between%20random.shuffle%20vs%20random.permutation&f=false\n",
    "\n",
    "\n",
    "https://stackoverflow.com/questions/21494489/what-does-numpy-random-seed0-do"
   ]
  },
  {
   "cell_type": "code",
   "execution_count": null,
   "metadata": {},
   "outputs": [],
   "source": []
  }
 ],
 "metadata": {
  "kernelspec": {
   "display_name": "Python 3",
   "language": "python",
   "name": "python3"
  },
  "language_info": {
   "codemirror_mode": {
    "name": "ipython",
    "version": 3
   },
   "file_extension": ".py",
   "mimetype": "text/x-python",
   "name": "python",
   "nbconvert_exporter": "python",
   "pygments_lexer": "ipython3",
   "version": "3.7.0"
  }
 },
 "nbformat": 4,
 "nbformat_minor": 2
}
